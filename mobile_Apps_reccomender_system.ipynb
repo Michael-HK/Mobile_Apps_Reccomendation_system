{
  "nbformat": 4,
  "nbformat_minor": 0,
  "metadata": {
    "colab": {
      "provenance": [],
      "authorship_tag": "ABX9TyMa1oE3FyZhFDKoyDcT7DlJ",
      "include_colab_link": true
    },
    "kernelspec": {
      "name": "python3",
      "display_name": "Python 3"
    },
    "language_info": {
      "name": "python"
    }
  },
  "cells": [
    {
      "cell_type": "markdown",
      "metadata": {
        "id": "view-in-github",
        "colab_type": "text"
      },
      "source": [
        "<a href=\"https://colab.research.google.com/github/Michael-HK/Mobile_Apps_Reccomendation_system/blob/main/mobile_Apps_reccomender_system.ipynb\" target=\"_parent\"><img src=\"https://colab.research.google.com/assets/colab-badge.svg\" alt=\"Open In Colab\"/></a>"
      ]
    },
    {
      "cell_type": "markdown",
      "source": [
        "**Import Dependencies**"
      ],
      "metadata": {
        "id": "f3JFTQnk8KK0"
      }
    },
    {
      "cell_type": "code",
      "source": [
        "!pip install contractions\n",
        "!pip install inflect"
      ],
      "metadata": {
        "id": "8rGQTEeMxlHi",
        "colab": {
          "base_uri": "https://localhost:8080/"
        },
        "outputId": "d49d0d80-4b67-48d9-a014-47c0b9c3e055"
      },
      "execution_count": 1,
      "outputs": [
        {
          "output_type": "stream",
          "name": "stdout",
          "text": [
            "Collecting contractions\n",
            "  Downloading contractions-0.1.73-py2.py3-none-any.whl (8.7 kB)\n",
            "Collecting textsearch>=0.0.21 (from contractions)\n",
            "  Downloading textsearch-0.0.24-py2.py3-none-any.whl (7.6 kB)\n",
            "Collecting anyascii (from textsearch>=0.0.21->contractions)\n",
            "  Downloading anyascii-0.3.2-py3-none-any.whl (289 kB)\n",
            "\u001b[2K     \u001b[90m━━━━━━━━━━━━━━━━━━━━━━━━━━━━━━━━━━━━━━━\u001b[0m \u001b[32m289.9/289.9 kB\u001b[0m \u001b[31m4.4 MB/s\u001b[0m eta \u001b[36m0:00:00\u001b[0m\n",
            "\u001b[?25hCollecting pyahocorasick (from textsearch>=0.0.21->contractions)\n",
            "  Downloading pyahocorasick-2.0.0-cp310-cp310-manylinux_2_5_x86_64.manylinux1_x86_64.manylinux_2_12_x86_64.manylinux2010_x86_64.whl (110 kB)\n",
            "\u001b[2K     \u001b[90m━━━━━━━━━━━━━━━━━━━━━━━━━━━━━━━━━━━━━━━\u001b[0m \u001b[32m110.8/110.8 kB\u001b[0m \u001b[31m6.0 MB/s\u001b[0m eta \u001b[36m0:00:00\u001b[0m\n",
            "\u001b[?25hInstalling collected packages: pyahocorasick, anyascii, textsearch, contractions\n",
            "Successfully installed anyascii-0.3.2 contractions-0.1.73 pyahocorasick-2.0.0 textsearch-0.0.24\n",
            "Requirement already satisfied: inflect in /usr/local/lib/python3.10/dist-packages (6.0.5)\n",
            "Requirement already satisfied: pydantic<2,>=1.9.1 in /usr/local/lib/python3.10/dist-packages (from inflect) (1.10.11)\n",
            "Requirement already satisfied: typing-extensions>=4.2.0 in /usr/local/lib/python3.10/dist-packages (from pydantic<2,>=1.9.1->inflect) (4.7.1)\n"
          ]
        }
      ]
    },
    {
      "cell_type": "markdown",
      "source": [
        "## Import libraries"
      ],
      "metadata": {
        "id": "bsldr5G8Baj7"
      }
    },
    {
      "cell_type": "code",
      "execution_count": 33,
      "metadata": {
        "id": "9IzUfbbez5e7"
      },
      "outputs": [],
      "source": [
        "import pandas as pd\n",
        "import numpy as np\n",
        "import matplotlib.pyplot as plt\n",
        "%matplotlib inline\n",
        "import seaborn as sns\n",
        "import gzip\n",
        "import ast\n",
        "from sklearn.feature_extraction.text import CountVectorizer\n",
        "import nltk\n",
        "from nltk.stem import PorterStemmer\n",
        "from sklearn.metrics.pairwise import cosine_similarity\n",
        "import pickle\n",
        "import warnings\n",
        "#%load_ext watermark\n",
        "warnings.filterwarnings(\"ignore\")\n",
        "\n",
        "from sklearn.model_selection import train_test_split\n",
        "from sklearn.preprocessing import LabelEncoder, MinMaxScaler\n",
        "from tensorflow.keras.models import Model\n",
        "from tensorflow.keras.layers import Input, Embedding, Dense, Concatenate, Flatten,Dropout, BatchNormalization\n",
        "from tensorflow.keras.utils import plot_model\n",
        "from tensorflow.keras.preprocessing.text import Tokenizer\n",
        "from tensorflow.keras.preprocessing.sequence import pad_sequences\n"
      ]
    },
    {
      "cell_type": "code",
      "source": [
        "from google.colab import drive\n",
        "drive.mount('/content/drive')\n",
        "\n",
        "# change directory to the folder\n",
        "%cd /content/drive/My Drive/end_2_end_ML/music_recommendation"
      ],
      "metadata": {
        "id": "IhE8iDTTPbbi",
        "colab": {
          "base_uri": "https://localhost:8080/"
        },
        "outputId": "8c57e30d-95a7-47ca-ca7e-36c8a006ac7d"
      },
      "execution_count": 4,
      "outputs": [
        {
          "output_type": "stream",
          "name": "stdout",
          "text": [
            "Mounted at /content/drive\n",
            "/content/drive/My Drive/end_2_end_ML/music_recommendation\n"
          ]
        }
      ]
    },
    {
      "cell_type": "markdown",
      "source": [
        "## Data Ingest"
      ],
      "metadata": {
        "id": "VYdypzqnEotX"
      }
    },
    {
      "cell_type": "code",
      "source": [
        "#======== download datasets ================\n",
        "\n",
        "!wget http://snap.stanford.edu/data/amazon/productGraph/categoryFiles/reviews_Apps_for_Android.json.gz\n",
        "\n",
        "!wget http://snap.stanford.edu/data/amazon/productGraph/categoryFiles/meta_Apps_for_Android.json.gz\n"
      ],
      "metadata": {
        "id": "7E08cXdBPUyL",
        "colab": {
          "base_uri": "https://localhost:8080/"
        },
        "outputId": "b9a122fa-62b4-4a62-c83f-89071688121d"
      },
      "execution_count": 5,
      "outputs": [
        {
          "output_type": "stream",
          "name": "stdout",
          "text": [
            "--2023-07-22 06:38:08--  http://snap.stanford.edu/data/amazon/productGraph/categoryFiles/reviews_Apps_for_Android.json.gz\n",
            "Resolving snap.stanford.edu (snap.stanford.edu)... 171.64.75.80\n",
            "Connecting to snap.stanford.edu (snap.stanford.edu)|171.64.75.80|:80... connected.\n",
            "HTTP request sent, awaiting response... 200 OK\n",
            "Length: 299986290 (286M) [application/x-gzip]\n",
            "Saving to: ‘reviews_Apps_for_Android.json.gz.1’\n",
            "\n",
            "reviews_Apps_for_An 100%[===================>] 286.09M  1.13MB/s    in 2m 48s  \n",
            "\n",
            "2023-07-22 06:40:58 (1.70 MB/s) - ‘reviews_Apps_for_Android.json.gz.1’ saved [299986290/299986290]\n",
            "\n",
            "--2023-07-22 06:40:58--  http://snap.stanford.edu/data/amazon/productGraph/categoryFiles/meta_Apps_for_Android.json.gz\n",
            "Resolving snap.stanford.edu (snap.stanford.edu)... 171.64.75.80\n",
            "Connecting to snap.stanford.edu (snap.stanford.edu)|171.64.75.80|:80... connected.\n",
            "HTTP request sent, awaiting response... 200 OK\n",
            "Length: 16414723 (16M) [application/x-gzip]\n",
            "Saving to: ‘meta_Apps_for_Android.json.gz.1’\n",
            "\n",
            "meta_Apps_for_Andro 100%[===================>]  15.65M  1.21MB/s    in 16s     \n",
            "\n",
            "2023-07-22 06:41:29 (979 KB/s) - ‘meta_Apps_for_Android.json.gz.1’ saved [16414723/16414723]\n",
            "\n"
          ]
        }
      ]
    },
    {
      "cell_type": "code",
      "source": [
        "##======= function to read the file as dataframe =============================\n",
        "\n",
        "def parse(path):\n",
        "  g = gzip.open(path, 'rb')\n",
        "  for l in g:\n",
        "    yield eval(l)\n",
        "\n",
        "def getDF(path):\n",
        "  i = 0\n",
        "  df = {}\n",
        "  for d in parse(path):\n",
        "    df[i] = d\n",
        "    i += 1\n",
        "  return pd.DataFrame.from_dict(df, orient='index')\n",
        "\n",
        "df1 = getDF('./reviews_Apps_for_Android.json.gz.1')\n",
        "df2 = getDF('./meta_Apps_for_Android.json.gz.1')"
      ],
      "metadata": {
        "id": "2AN2FoFrQFbz"
      },
      "execution_count": 6,
      "outputs": []
    },
    {
      "cell_type": "code",
      "source": [
        "#=== view\n",
        "\n",
        "#df1.head()\n",
        "df2.head()"
      ],
      "metadata": {
        "id": "rOZj6DITRU-n",
        "colab": {
          "base_uri": "https://localhost:8080/",
          "height": 206
        },
        "outputId": "bf68d710-b7eb-4864-aa13-baa8ef83fa47"
      },
      "execution_count": 8,
      "outputs": [
        {
          "output_type": "execute_result",
          "data": {
            "text/plain": [
              "         asin                                            related  \\\n",
              "0  B004A9SDD8  {'also_bought': ['B006M3K874', 'B00F85SMOI', '...   \n",
              "1  B004AFQAUA  {'also_bought': ['B005UDD1R6', 'B00LBH2UMM', '...   \n",
              "2  B004AGCR1K  {'also_viewed': ['B00A7W29BE', 'B00I5PB9UM', '...   \n",
              "3  B004AHBBPW  {'also_bought': ['B006T2U1V6', 'B00FBCIYZU', '...   \n",
              "4  B004ALFHV2  {'also_bought': ['B00CA6LZAG', 'B00FE5ZF4W', '...   \n",
              "\n",
              "                                   categories salesRank  price  \n",
              "0                  [[Apps for Android, Kids]]       NaN    NaN  \n",
              "1  [[Apps for Android, Music, Music Players]]       NaN    NaN  \n",
              "2          [[Apps for Android, Productivity]]       NaN    NaN  \n",
              "3             [[Apps for Android, Reference]]       NaN    NaN  \n",
              "4         [[Apps for Android, Communication]]       NaN    NaN  "
            ],
            "text/html": [
              "\n",
              "\n",
              "  <div id=\"df-6270786c-f676-4418-8e9c-13a6eb62b503\">\n",
              "    <div class=\"colab-df-container\">\n",
              "      <div>\n",
              "<style scoped>\n",
              "    .dataframe tbody tr th:only-of-type {\n",
              "        vertical-align: middle;\n",
              "    }\n",
              "\n",
              "    .dataframe tbody tr th {\n",
              "        vertical-align: top;\n",
              "    }\n",
              "\n",
              "    .dataframe thead th {\n",
              "        text-align: right;\n",
              "    }\n",
              "</style>\n",
              "<table border=\"1\" class=\"dataframe\">\n",
              "  <thead>\n",
              "    <tr style=\"text-align: right;\">\n",
              "      <th></th>\n",
              "      <th>asin</th>\n",
              "      <th>related</th>\n",
              "      <th>categories</th>\n",
              "      <th>salesRank</th>\n",
              "      <th>price</th>\n",
              "    </tr>\n",
              "  </thead>\n",
              "  <tbody>\n",
              "    <tr>\n",
              "      <th>0</th>\n",
              "      <td>B004A9SDD8</td>\n",
              "      <td>{'also_bought': ['B006M3K874', 'B00F85SMOI', '...</td>\n",
              "      <td>[[Apps for Android, Kids]]</td>\n",
              "      <td>NaN</td>\n",
              "      <td>NaN</td>\n",
              "    </tr>\n",
              "    <tr>\n",
              "      <th>1</th>\n",
              "      <td>B004AFQAUA</td>\n",
              "      <td>{'also_bought': ['B005UDD1R6', 'B00LBH2UMM', '...</td>\n",
              "      <td>[[Apps for Android, Music, Music Players]]</td>\n",
              "      <td>NaN</td>\n",
              "      <td>NaN</td>\n",
              "    </tr>\n",
              "    <tr>\n",
              "      <th>2</th>\n",
              "      <td>B004AGCR1K</td>\n",
              "      <td>{'also_viewed': ['B00A7W29BE', 'B00I5PB9UM', '...</td>\n",
              "      <td>[[Apps for Android, Productivity]]</td>\n",
              "      <td>NaN</td>\n",
              "      <td>NaN</td>\n",
              "    </tr>\n",
              "    <tr>\n",
              "      <th>3</th>\n",
              "      <td>B004AHBBPW</td>\n",
              "      <td>{'also_bought': ['B006T2U1V6', 'B00FBCIYZU', '...</td>\n",
              "      <td>[[Apps for Android, Reference]]</td>\n",
              "      <td>NaN</td>\n",
              "      <td>NaN</td>\n",
              "    </tr>\n",
              "    <tr>\n",
              "      <th>4</th>\n",
              "      <td>B004ALFHV2</td>\n",
              "      <td>{'also_bought': ['B00CA6LZAG', 'B00FE5ZF4W', '...</td>\n",
              "      <td>[[Apps for Android, Communication]]</td>\n",
              "      <td>NaN</td>\n",
              "      <td>NaN</td>\n",
              "    </tr>\n",
              "  </tbody>\n",
              "</table>\n",
              "</div>\n",
              "      <button class=\"colab-df-convert\" onclick=\"convertToInteractive('df-6270786c-f676-4418-8e9c-13a6eb62b503')\"\n",
              "              title=\"Convert this dataframe to an interactive table.\"\n",
              "              style=\"display:none;\">\n",
              "\n",
              "  <svg xmlns=\"http://www.w3.org/2000/svg\" height=\"24px\"viewBox=\"0 0 24 24\"\n",
              "       width=\"24px\">\n",
              "    <path d=\"M0 0h24v24H0V0z\" fill=\"none\"/>\n",
              "    <path d=\"M18.56 5.44l.94 2.06.94-2.06 2.06-.94-2.06-.94-.94-2.06-.94 2.06-2.06.94zm-11 1L8.5 8.5l.94-2.06 2.06-.94-2.06-.94L8.5 2.5l-.94 2.06-2.06.94zm10 10l.94 2.06.94-2.06 2.06-.94-2.06-.94-.94-2.06-.94 2.06-2.06.94z\"/><path d=\"M17.41 7.96l-1.37-1.37c-.4-.4-.92-.59-1.43-.59-.52 0-1.04.2-1.43.59L10.3 9.45l-7.72 7.72c-.78.78-.78 2.05 0 2.83L4 21.41c.39.39.9.59 1.41.59.51 0 1.02-.2 1.41-.59l7.78-7.78 2.81-2.81c.8-.78.8-2.07 0-2.86zM5.41 20L4 18.59l7.72-7.72 1.47 1.35L5.41 20z\"/>\n",
              "  </svg>\n",
              "      </button>\n",
              "\n",
              "\n",
              "\n",
              "    <div id=\"df-e2b43719-ea31-4e16-ab3a-9d6ca63c2c22\">\n",
              "      <button class=\"colab-df-quickchart\" onclick=\"quickchart('df-e2b43719-ea31-4e16-ab3a-9d6ca63c2c22')\"\n",
              "              title=\"Suggest charts.\"\n",
              "              style=\"display:none;\">\n",
              "\n",
              "<svg xmlns=\"http://www.w3.org/2000/svg\" height=\"24px\"viewBox=\"0 0 24 24\"\n",
              "     width=\"24px\">\n",
              "    <g>\n",
              "        <path d=\"M19 3H5c-1.1 0-2 .9-2 2v14c0 1.1.9 2 2 2h14c1.1 0 2-.9 2-2V5c0-1.1-.9-2-2-2zM9 17H7v-7h2v7zm4 0h-2V7h2v10zm4 0h-2v-4h2v4z\"/>\n",
              "    </g>\n",
              "</svg>\n",
              "      </button>\n",
              "    </div>\n",
              "\n",
              "<style>\n",
              "  .colab-df-quickchart {\n",
              "    background-color: #E8F0FE;\n",
              "    border: none;\n",
              "    border-radius: 50%;\n",
              "    cursor: pointer;\n",
              "    display: none;\n",
              "    fill: #1967D2;\n",
              "    height: 32px;\n",
              "    padding: 0 0 0 0;\n",
              "    width: 32px;\n",
              "  }\n",
              "\n",
              "  .colab-df-quickchart:hover {\n",
              "    background-color: #E2EBFA;\n",
              "    box-shadow: 0px 1px 2px rgba(60, 64, 67, 0.3), 0px 1px 3px 1px rgba(60, 64, 67, 0.15);\n",
              "    fill: #174EA6;\n",
              "  }\n",
              "\n",
              "  [theme=dark] .colab-df-quickchart {\n",
              "    background-color: #3B4455;\n",
              "    fill: #D2E3FC;\n",
              "  }\n",
              "\n",
              "  [theme=dark] .colab-df-quickchart:hover {\n",
              "    background-color: #434B5C;\n",
              "    box-shadow: 0px 1px 3px 1px rgba(0, 0, 0, 0.15);\n",
              "    filter: drop-shadow(0px 1px 2px rgba(0, 0, 0, 0.3));\n",
              "    fill: #FFFFFF;\n",
              "  }\n",
              "</style>\n",
              "\n",
              "    <script>\n",
              "      async function quickchart(key) {\n",
              "        const containerElement = document.querySelector('#' + key);\n",
              "        const charts = await google.colab.kernel.invokeFunction(\n",
              "            'suggestCharts', [key], {});\n",
              "      }\n",
              "    </script>\n",
              "\n",
              "      <script>\n",
              "\n",
              "function displayQuickchartButton(domScope) {\n",
              "  let quickchartButtonEl =\n",
              "    domScope.querySelector('#df-e2b43719-ea31-4e16-ab3a-9d6ca63c2c22 button.colab-df-quickchart');\n",
              "  quickchartButtonEl.style.display =\n",
              "    google.colab.kernel.accessAllowed ? 'block' : 'none';\n",
              "}\n",
              "\n",
              "        displayQuickchartButton(document);\n",
              "      </script>\n",
              "      <style>\n",
              "    .colab-df-container {\n",
              "      display:flex;\n",
              "      flex-wrap:wrap;\n",
              "      gap: 12px;\n",
              "    }\n",
              "\n",
              "    .colab-df-convert {\n",
              "      background-color: #E8F0FE;\n",
              "      border: none;\n",
              "      border-radius: 50%;\n",
              "      cursor: pointer;\n",
              "      display: none;\n",
              "      fill: #1967D2;\n",
              "      height: 32px;\n",
              "      padding: 0 0 0 0;\n",
              "      width: 32px;\n",
              "    }\n",
              "\n",
              "    .colab-df-convert:hover {\n",
              "      background-color: #E2EBFA;\n",
              "      box-shadow: 0px 1px 2px rgba(60, 64, 67, 0.3), 0px 1px 3px 1px rgba(60, 64, 67, 0.15);\n",
              "      fill: #174EA6;\n",
              "    }\n",
              "\n",
              "    [theme=dark] .colab-df-convert {\n",
              "      background-color: #3B4455;\n",
              "      fill: #D2E3FC;\n",
              "    }\n",
              "\n",
              "    [theme=dark] .colab-df-convert:hover {\n",
              "      background-color: #434B5C;\n",
              "      box-shadow: 0px 1px 3px 1px rgba(0, 0, 0, 0.15);\n",
              "      filter: drop-shadow(0px 1px 2px rgba(0, 0, 0, 0.3));\n",
              "      fill: #FFFFFF;\n",
              "    }\n",
              "  </style>\n",
              "\n",
              "      <script>\n",
              "        const buttonEl =\n",
              "          document.querySelector('#df-6270786c-f676-4418-8e9c-13a6eb62b503 button.colab-df-convert');\n",
              "        buttonEl.style.display =\n",
              "          google.colab.kernel.accessAllowed ? 'block' : 'none';\n",
              "\n",
              "        async function convertToInteractive(key) {\n",
              "          const element = document.querySelector('#df-6270786c-f676-4418-8e9c-13a6eb62b503');\n",
              "          const dataTable =\n",
              "            await google.colab.kernel.invokeFunction('convertToInteractive',\n",
              "                                                     [key], {});\n",
              "          if (!dataTable) return;\n",
              "\n",
              "          const docLinkHtml = 'Like what you see? Visit the ' +\n",
              "            '<a target=\"_blank\" href=https://colab.research.google.com/notebooks/data_table.ipynb>data table notebook</a>'\n",
              "            + ' to learn more about interactive tables.';\n",
              "          element.innerHTML = '';\n",
              "          dataTable['output_type'] = 'display_data';\n",
              "          await google.colab.output.renderOutput(dataTable, element);\n",
              "          const docLink = document.createElement('div');\n",
              "          docLink.innerHTML = docLinkHtml;\n",
              "          element.appendChild(docLink);\n",
              "        }\n",
              "      </script>\n",
              "    </div>\n",
              "  </div>\n"
            ]
          },
          "metadata": {},
          "execution_count": 8
        }
      ]
    },
    {
      "cell_type": "code",
      "source": [
        "print(df1.shape)\n",
        "print(df2.shape)"
      ],
      "metadata": {
        "colab": {
          "base_uri": "https://localhost:8080/"
        },
        "id": "bivk4gKU3AL5",
        "outputId": "2e3a5924-03ac-422a-da07-d5c2dbce41cc"
      },
      "execution_count": 9,
      "outputs": [
        {
          "output_type": "stream",
          "name": "stdout",
          "text": [
            "(2638173, 9)\n",
            "(61551, 5)\n"
          ]
        }
      ]
    },
    {
      "cell_type": "code",
      "source": [
        "##======== number of products===========\n",
        "\n",
        "df1['asin'].nunique()\n",
        "\n",
        "#print('Total number of review Apps is: ', len(df1['asin'].nunique()))"
      ],
      "metadata": {
        "colab": {
          "base_uri": "https://localhost:8080/"
        },
        "id": "Xnvg2lO31rha",
        "outputId": "c064651d-f620-4864-eb58-8d606e05e1dd"
      },
      "execution_count": 10,
      "outputs": [
        {
          "output_type": "execute_result",
          "data": {
            "text/plain": [
              "61275"
            ]
          },
          "metadata": {},
          "execution_count": 10
        }
      ]
    },
    {
      "cell_type": "code",
      "source": [
        "##========== merge the files===============\n",
        "\n",
        "merged_dataset = pd.merge(df1, df2, on='asin', how='left')"
      ],
      "metadata": {
        "id": "egmANxspzdZi"
      },
      "execution_count": 11,
      "outputs": []
    },
    {
      "cell_type": "code",
      "source": [
        "merged_dataset.head(10)"
      ],
      "metadata": {
        "id": "jSUoUp-N3e6m",
        "colab": {
          "base_uri": "https://localhost:8080/",
          "height": 580
        },
        "outputId": "058a7149-1f12-4cbf-e22f-34ce7f351e3e"
      },
      "execution_count": 12,
      "outputs": [
        {
          "output_type": "execute_result",
          "data": {
            "text/plain": [
              "       reviewerID        asin             reviewerName   helpful  \\\n",
              "0   AUI0OLXAB3KKT  B004A9SDD8               A Customer    [0, 0]   \n",
              "1  A1ZUSQ3TC3EC4C  B004A9SDD8                A. Lissak  [12, 14]   \n",
              "2   AC05OAXD72X1V  B004A9SDD8                    Allie    [0, 0]   \n",
              "3  A2RVMFOKBVM21I  B004A9SDD8          Amazon Customer    [0, 2]   \n",
              "4  A3NBSRGUWQGCMZ  B004A9SDD8          Amazon Customer    [1, 3]   \n",
              "5  A2KTVCVZJ8GPD2  B004A9SDD8                A. Mclean    [0, 0]   \n",
              "6  A2I9RREBHMMPCJ  B004A9SDD8                  AngelaM    [1, 2]   \n",
              "7  A1N4O8VOJZTDVB  B004A9SDD8           Annette Yancey    [1, 1]   \n",
              "8  A2HQWU6HUKIEC7  B004A9SDD8  Audiobook lover \"Kathy\"    [0, 0]   \n",
              "9  A1SXASF6GYG96I  B004A9SDD8            Barbara Gibbs    [0, 0]   \n",
              "\n",
              "                                          reviewText  overall  \\\n",
              "0  Glad to finally see this app on the android ma...      5.0   \n",
              "1  this app works great on the Kindle Fire... kid...      5.0   \n",
              "2  We love these monkey's and all the concepts th...      4.0   \n",
              "3  cannot get my kindle away from my 2 year old g...      5.0   \n",
              "4  I start this app up whenever I forget what a f...      1.0   \n",
              "5  Very engaging to my three year old toddler. Sh...      5.0   \n",
              "6  My daughter loves this app.  Unfortunately, af...      3.0   \n",
              "7  Loves the song, so he really couldn't wait to ...      3.0   \n",
              "8  Oh, how my little grandson loves this app. He'...      5.0   \n",
              "9  I found this at a perfect time since my daught...      5.0   \n",
              "\n",
              "                       summary  unixReviewTime   reviewTime  \\\n",
              "0                 Great app!!!    1.301184e+09  03 27, 2011   \n",
              "1                 Kid loves it    1.321574e+09  11 18, 2011   \n",
              "2          Love these monkeys!    1.367366e+09   05 1, 2013   \n",
              "3         fun fun for toddlers    1.350173e+09  10 14, 2012   \n",
              "4  Might be great if it worked    1.300838e+09  03 23, 2011   \n",
              "5                  Great video    1.393546e+09  02 28, 2014   \n",
              "6         great when it worked    1.305504e+09  05 16, 2011   \n",
              "7                  Really cute    1.383350e+09   11 2, 2013   \n",
              "8          2-year-old loves it    1.323043e+09   12 5, 2011   \n",
              "9                     Fun game    1.337558e+09  05 21, 2012   \n",
              "\n",
              "                                             related  \\\n",
              "0  {'also_bought': ['B006M3K874', 'B00F85SMOI', '...   \n",
              "1  {'also_bought': ['B006M3K874', 'B00F85SMOI', '...   \n",
              "2  {'also_bought': ['B006M3K874', 'B00F85SMOI', '...   \n",
              "3  {'also_bought': ['B006M3K874', 'B00F85SMOI', '...   \n",
              "4  {'also_bought': ['B006M3K874', 'B00F85SMOI', '...   \n",
              "5  {'also_bought': ['B006M3K874', 'B00F85SMOI', '...   \n",
              "6  {'also_bought': ['B006M3K874', 'B00F85SMOI', '...   \n",
              "7  {'also_bought': ['B006M3K874', 'B00F85SMOI', '...   \n",
              "8  {'also_bought': ['B006M3K874', 'B00F85SMOI', '...   \n",
              "9  {'also_bought': ['B006M3K874', 'B00F85SMOI', '...   \n",
              "\n",
              "                   categories salesRank  price  \n",
              "0  [[Apps for Android, Kids]]       NaN    NaN  \n",
              "1  [[Apps for Android, Kids]]       NaN    NaN  \n",
              "2  [[Apps for Android, Kids]]       NaN    NaN  \n",
              "3  [[Apps for Android, Kids]]       NaN    NaN  \n",
              "4  [[Apps for Android, Kids]]       NaN    NaN  \n",
              "5  [[Apps for Android, Kids]]       NaN    NaN  \n",
              "6  [[Apps for Android, Kids]]       NaN    NaN  \n",
              "7  [[Apps for Android, Kids]]       NaN    NaN  \n",
              "8  [[Apps for Android, Kids]]       NaN    NaN  \n",
              "9  [[Apps for Android, Kids]]       NaN    NaN  "
            ],
            "text/html": [
              "\n",
              "\n",
              "  <div id=\"df-cbfcd3c9-1fbd-4190-8ba1-98e9a5305e9b\">\n",
              "    <div class=\"colab-df-container\">\n",
              "      <div>\n",
              "<style scoped>\n",
              "    .dataframe tbody tr th:only-of-type {\n",
              "        vertical-align: middle;\n",
              "    }\n",
              "\n",
              "    .dataframe tbody tr th {\n",
              "        vertical-align: top;\n",
              "    }\n",
              "\n",
              "    .dataframe thead th {\n",
              "        text-align: right;\n",
              "    }\n",
              "</style>\n",
              "<table border=\"1\" class=\"dataframe\">\n",
              "  <thead>\n",
              "    <tr style=\"text-align: right;\">\n",
              "      <th></th>\n",
              "      <th>reviewerID</th>\n",
              "      <th>asin</th>\n",
              "      <th>reviewerName</th>\n",
              "      <th>helpful</th>\n",
              "      <th>reviewText</th>\n",
              "      <th>overall</th>\n",
              "      <th>summary</th>\n",
              "      <th>unixReviewTime</th>\n",
              "      <th>reviewTime</th>\n",
              "      <th>related</th>\n",
              "      <th>categories</th>\n",
              "      <th>salesRank</th>\n",
              "      <th>price</th>\n",
              "    </tr>\n",
              "  </thead>\n",
              "  <tbody>\n",
              "    <tr>\n",
              "      <th>0</th>\n",
              "      <td>AUI0OLXAB3KKT</td>\n",
              "      <td>B004A9SDD8</td>\n",
              "      <td>A Customer</td>\n",
              "      <td>[0, 0]</td>\n",
              "      <td>Glad to finally see this app on the android ma...</td>\n",
              "      <td>5.0</td>\n",
              "      <td>Great app!!!</td>\n",
              "      <td>1.301184e+09</td>\n",
              "      <td>03 27, 2011</td>\n",
              "      <td>{'also_bought': ['B006M3K874', 'B00F85SMOI', '...</td>\n",
              "      <td>[[Apps for Android, Kids]]</td>\n",
              "      <td>NaN</td>\n",
              "      <td>NaN</td>\n",
              "    </tr>\n",
              "    <tr>\n",
              "      <th>1</th>\n",
              "      <td>A1ZUSQ3TC3EC4C</td>\n",
              "      <td>B004A9SDD8</td>\n",
              "      <td>A. Lissak</td>\n",
              "      <td>[12, 14]</td>\n",
              "      <td>this app works great on the Kindle Fire... kid...</td>\n",
              "      <td>5.0</td>\n",
              "      <td>Kid loves it</td>\n",
              "      <td>1.321574e+09</td>\n",
              "      <td>11 18, 2011</td>\n",
              "      <td>{'also_bought': ['B006M3K874', 'B00F85SMOI', '...</td>\n",
              "      <td>[[Apps for Android, Kids]]</td>\n",
              "      <td>NaN</td>\n",
              "      <td>NaN</td>\n",
              "    </tr>\n",
              "    <tr>\n",
              "      <th>2</th>\n",
              "      <td>AC05OAXD72X1V</td>\n",
              "      <td>B004A9SDD8</td>\n",
              "      <td>Allie</td>\n",
              "      <td>[0, 0]</td>\n",
              "      <td>We love these monkey's and all the concepts th...</td>\n",
              "      <td>4.0</td>\n",
              "      <td>Love these monkeys!</td>\n",
              "      <td>1.367366e+09</td>\n",
              "      <td>05 1, 2013</td>\n",
              "      <td>{'also_bought': ['B006M3K874', 'B00F85SMOI', '...</td>\n",
              "      <td>[[Apps for Android, Kids]]</td>\n",
              "      <td>NaN</td>\n",
              "      <td>NaN</td>\n",
              "    </tr>\n",
              "    <tr>\n",
              "      <th>3</th>\n",
              "      <td>A2RVMFOKBVM21I</td>\n",
              "      <td>B004A9SDD8</td>\n",
              "      <td>Amazon Customer</td>\n",
              "      <td>[0, 2]</td>\n",
              "      <td>cannot get my kindle away from my 2 year old g...</td>\n",
              "      <td>5.0</td>\n",
              "      <td>fun fun for toddlers</td>\n",
              "      <td>1.350173e+09</td>\n",
              "      <td>10 14, 2012</td>\n",
              "      <td>{'also_bought': ['B006M3K874', 'B00F85SMOI', '...</td>\n",
              "      <td>[[Apps for Android, Kids]]</td>\n",
              "      <td>NaN</td>\n",
              "      <td>NaN</td>\n",
              "    </tr>\n",
              "    <tr>\n",
              "      <th>4</th>\n",
              "      <td>A3NBSRGUWQGCMZ</td>\n",
              "      <td>B004A9SDD8</td>\n",
              "      <td>Amazon Customer</td>\n",
              "      <td>[1, 3]</td>\n",
              "      <td>I start this app up whenever I forget what a f...</td>\n",
              "      <td>1.0</td>\n",
              "      <td>Might be great if it worked</td>\n",
              "      <td>1.300838e+09</td>\n",
              "      <td>03 23, 2011</td>\n",
              "      <td>{'also_bought': ['B006M3K874', 'B00F85SMOI', '...</td>\n",
              "      <td>[[Apps for Android, Kids]]</td>\n",
              "      <td>NaN</td>\n",
              "      <td>NaN</td>\n",
              "    </tr>\n",
              "    <tr>\n",
              "      <th>5</th>\n",
              "      <td>A2KTVCVZJ8GPD2</td>\n",
              "      <td>B004A9SDD8</td>\n",
              "      <td>A. Mclean</td>\n",
              "      <td>[0, 0]</td>\n",
              "      <td>Very engaging to my three year old toddler. Sh...</td>\n",
              "      <td>5.0</td>\n",
              "      <td>Great video</td>\n",
              "      <td>1.393546e+09</td>\n",
              "      <td>02 28, 2014</td>\n",
              "      <td>{'also_bought': ['B006M3K874', 'B00F85SMOI', '...</td>\n",
              "      <td>[[Apps for Android, Kids]]</td>\n",
              "      <td>NaN</td>\n",
              "      <td>NaN</td>\n",
              "    </tr>\n",
              "    <tr>\n",
              "      <th>6</th>\n",
              "      <td>A2I9RREBHMMPCJ</td>\n",
              "      <td>B004A9SDD8</td>\n",
              "      <td>AngelaM</td>\n",
              "      <td>[1, 2]</td>\n",
              "      <td>My daughter loves this app.  Unfortunately, af...</td>\n",
              "      <td>3.0</td>\n",
              "      <td>great when it worked</td>\n",
              "      <td>1.305504e+09</td>\n",
              "      <td>05 16, 2011</td>\n",
              "      <td>{'also_bought': ['B006M3K874', 'B00F85SMOI', '...</td>\n",
              "      <td>[[Apps for Android, Kids]]</td>\n",
              "      <td>NaN</td>\n",
              "      <td>NaN</td>\n",
              "    </tr>\n",
              "    <tr>\n",
              "      <th>7</th>\n",
              "      <td>A1N4O8VOJZTDVB</td>\n",
              "      <td>B004A9SDD8</td>\n",
              "      <td>Annette Yancey</td>\n",
              "      <td>[1, 1]</td>\n",
              "      <td>Loves the song, so he really couldn't wait to ...</td>\n",
              "      <td>3.0</td>\n",
              "      <td>Really cute</td>\n",
              "      <td>1.383350e+09</td>\n",
              "      <td>11 2, 2013</td>\n",
              "      <td>{'also_bought': ['B006M3K874', 'B00F85SMOI', '...</td>\n",
              "      <td>[[Apps for Android, Kids]]</td>\n",
              "      <td>NaN</td>\n",
              "      <td>NaN</td>\n",
              "    </tr>\n",
              "    <tr>\n",
              "      <th>8</th>\n",
              "      <td>A2HQWU6HUKIEC7</td>\n",
              "      <td>B004A9SDD8</td>\n",
              "      <td>Audiobook lover \"Kathy\"</td>\n",
              "      <td>[0, 0]</td>\n",
              "      <td>Oh, how my little grandson loves this app. He'...</td>\n",
              "      <td>5.0</td>\n",
              "      <td>2-year-old loves it</td>\n",
              "      <td>1.323043e+09</td>\n",
              "      <td>12 5, 2011</td>\n",
              "      <td>{'also_bought': ['B006M3K874', 'B00F85SMOI', '...</td>\n",
              "      <td>[[Apps for Android, Kids]]</td>\n",
              "      <td>NaN</td>\n",
              "      <td>NaN</td>\n",
              "    </tr>\n",
              "    <tr>\n",
              "      <th>9</th>\n",
              "      <td>A1SXASF6GYG96I</td>\n",
              "      <td>B004A9SDD8</td>\n",
              "      <td>Barbara Gibbs</td>\n",
              "      <td>[0, 0]</td>\n",
              "      <td>I found this at a perfect time since my daught...</td>\n",
              "      <td>5.0</td>\n",
              "      <td>Fun game</td>\n",
              "      <td>1.337558e+09</td>\n",
              "      <td>05 21, 2012</td>\n",
              "      <td>{'also_bought': ['B006M3K874', 'B00F85SMOI', '...</td>\n",
              "      <td>[[Apps for Android, Kids]]</td>\n",
              "      <td>NaN</td>\n",
              "      <td>NaN</td>\n",
              "    </tr>\n",
              "  </tbody>\n",
              "</table>\n",
              "</div>\n",
              "      <button class=\"colab-df-convert\" onclick=\"convertToInteractive('df-cbfcd3c9-1fbd-4190-8ba1-98e9a5305e9b')\"\n",
              "              title=\"Convert this dataframe to an interactive table.\"\n",
              "              style=\"display:none;\">\n",
              "\n",
              "  <svg xmlns=\"http://www.w3.org/2000/svg\" height=\"24px\"viewBox=\"0 0 24 24\"\n",
              "       width=\"24px\">\n",
              "    <path d=\"M0 0h24v24H0V0z\" fill=\"none\"/>\n",
              "    <path d=\"M18.56 5.44l.94 2.06.94-2.06 2.06-.94-2.06-.94-.94-2.06-.94 2.06-2.06.94zm-11 1L8.5 8.5l.94-2.06 2.06-.94-2.06-.94L8.5 2.5l-.94 2.06-2.06.94zm10 10l.94 2.06.94-2.06 2.06-.94-2.06-.94-.94-2.06-.94 2.06-2.06.94z\"/><path d=\"M17.41 7.96l-1.37-1.37c-.4-.4-.92-.59-1.43-.59-.52 0-1.04.2-1.43.59L10.3 9.45l-7.72 7.72c-.78.78-.78 2.05 0 2.83L4 21.41c.39.39.9.59 1.41.59.51 0 1.02-.2 1.41-.59l7.78-7.78 2.81-2.81c.8-.78.8-2.07 0-2.86zM5.41 20L4 18.59l7.72-7.72 1.47 1.35L5.41 20z\"/>\n",
              "  </svg>\n",
              "      </button>\n",
              "\n",
              "\n",
              "\n",
              "    <div id=\"df-1a6850e8-fe0c-426d-8f47-d7f5e5a53ac4\">\n",
              "      <button class=\"colab-df-quickchart\" onclick=\"quickchart('df-1a6850e8-fe0c-426d-8f47-d7f5e5a53ac4')\"\n",
              "              title=\"Suggest charts.\"\n",
              "              style=\"display:none;\">\n",
              "\n",
              "<svg xmlns=\"http://www.w3.org/2000/svg\" height=\"24px\"viewBox=\"0 0 24 24\"\n",
              "     width=\"24px\">\n",
              "    <g>\n",
              "        <path d=\"M19 3H5c-1.1 0-2 .9-2 2v14c0 1.1.9 2 2 2h14c1.1 0 2-.9 2-2V5c0-1.1-.9-2-2-2zM9 17H7v-7h2v7zm4 0h-2V7h2v10zm4 0h-2v-4h2v4z\"/>\n",
              "    </g>\n",
              "</svg>\n",
              "      </button>\n",
              "    </div>\n",
              "\n",
              "<style>\n",
              "  .colab-df-quickchart {\n",
              "    background-color: #E8F0FE;\n",
              "    border: none;\n",
              "    border-radius: 50%;\n",
              "    cursor: pointer;\n",
              "    display: none;\n",
              "    fill: #1967D2;\n",
              "    height: 32px;\n",
              "    padding: 0 0 0 0;\n",
              "    width: 32px;\n",
              "  }\n",
              "\n",
              "  .colab-df-quickchart:hover {\n",
              "    background-color: #E2EBFA;\n",
              "    box-shadow: 0px 1px 2px rgba(60, 64, 67, 0.3), 0px 1px 3px 1px rgba(60, 64, 67, 0.15);\n",
              "    fill: #174EA6;\n",
              "  }\n",
              "\n",
              "  [theme=dark] .colab-df-quickchart {\n",
              "    background-color: #3B4455;\n",
              "    fill: #D2E3FC;\n",
              "  }\n",
              "\n",
              "  [theme=dark] .colab-df-quickchart:hover {\n",
              "    background-color: #434B5C;\n",
              "    box-shadow: 0px 1px 3px 1px rgba(0, 0, 0, 0.15);\n",
              "    filter: drop-shadow(0px 1px 2px rgba(0, 0, 0, 0.3));\n",
              "    fill: #FFFFFF;\n",
              "  }\n",
              "</style>\n",
              "\n",
              "    <script>\n",
              "      async function quickchart(key) {\n",
              "        const containerElement = document.querySelector('#' + key);\n",
              "        const charts = await google.colab.kernel.invokeFunction(\n",
              "            'suggestCharts', [key], {});\n",
              "      }\n",
              "    </script>\n",
              "\n",
              "      <script>\n",
              "\n",
              "function displayQuickchartButton(domScope) {\n",
              "  let quickchartButtonEl =\n",
              "    domScope.querySelector('#df-1a6850e8-fe0c-426d-8f47-d7f5e5a53ac4 button.colab-df-quickchart');\n",
              "  quickchartButtonEl.style.display =\n",
              "    google.colab.kernel.accessAllowed ? 'block' : 'none';\n",
              "}\n",
              "\n",
              "        displayQuickchartButton(document);\n",
              "      </script>\n",
              "      <style>\n",
              "    .colab-df-container {\n",
              "      display:flex;\n",
              "      flex-wrap:wrap;\n",
              "      gap: 12px;\n",
              "    }\n",
              "\n",
              "    .colab-df-convert {\n",
              "      background-color: #E8F0FE;\n",
              "      border: none;\n",
              "      border-radius: 50%;\n",
              "      cursor: pointer;\n",
              "      display: none;\n",
              "      fill: #1967D2;\n",
              "      height: 32px;\n",
              "      padding: 0 0 0 0;\n",
              "      width: 32px;\n",
              "    }\n",
              "\n",
              "    .colab-df-convert:hover {\n",
              "      background-color: #E2EBFA;\n",
              "      box-shadow: 0px 1px 2px rgba(60, 64, 67, 0.3), 0px 1px 3px 1px rgba(60, 64, 67, 0.15);\n",
              "      fill: #174EA6;\n",
              "    }\n",
              "\n",
              "    [theme=dark] .colab-df-convert {\n",
              "      background-color: #3B4455;\n",
              "      fill: #D2E3FC;\n",
              "    }\n",
              "\n",
              "    [theme=dark] .colab-df-convert:hover {\n",
              "      background-color: #434B5C;\n",
              "      box-shadow: 0px 1px 3px 1px rgba(0, 0, 0, 0.15);\n",
              "      filter: drop-shadow(0px 1px 2px rgba(0, 0, 0, 0.3));\n",
              "      fill: #FFFFFF;\n",
              "    }\n",
              "  </style>\n",
              "\n",
              "      <script>\n",
              "        const buttonEl =\n",
              "          document.querySelector('#df-cbfcd3c9-1fbd-4190-8ba1-98e9a5305e9b button.colab-df-convert');\n",
              "        buttonEl.style.display =\n",
              "          google.colab.kernel.accessAllowed ? 'block' : 'none';\n",
              "\n",
              "        async function convertToInteractive(key) {\n",
              "          const element = document.querySelector('#df-cbfcd3c9-1fbd-4190-8ba1-98e9a5305e9b');\n",
              "          const dataTable =\n",
              "            await google.colab.kernel.invokeFunction('convertToInteractive',\n",
              "                                                     [key], {});\n",
              "          if (!dataTable) return;\n",
              "\n",
              "          const docLinkHtml = 'Like what you see? Visit the ' +\n",
              "            '<a target=\"_blank\" href=https://colab.research.google.com/notebooks/data_table.ipynb>data table notebook</a>'\n",
              "            + ' to learn more about interactive tables.';\n",
              "          element.innerHTML = '';\n",
              "          dataTable['output_type'] = 'display_data';\n",
              "          await google.colab.output.renderOutput(dataTable, element);\n",
              "          const docLink = document.createElement('div');\n",
              "          docLink.innerHTML = docLinkHtml;\n",
              "          element.appendChild(docLink);\n",
              "        }\n",
              "      </script>\n",
              "    </div>\n",
              "  </div>\n"
            ]
          },
          "metadata": {},
          "execution_count": 12
        }
      ]
    },
    {
      "cell_type": "code",
      "source": [
        "# check for null\n",
        "merged_dataset.isnull().sum()\n"
      ],
      "metadata": {
        "id": "Ra48UIGi4eCg",
        "colab": {
          "base_uri": "https://localhost:8080/"
        },
        "outputId": "636e363c-0cb3-4986-e869-f3f6c72f5b8c"
      },
      "execution_count": 13,
      "outputs": [
        {
          "output_type": "execute_result",
          "data": {
            "text/plain": [
              "reviewerID              0\n",
              "asin                    0\n",
              "reviewerName       187320\n",
              "helpful                 0\n",
              "reviewText              0\n",
              "overall                 0\n",
              "summary                 0\n",
              "unixReviewTime          1\n",
              "reviewTime              0\n",
              "related              2768\n",
              "categories              0\n",
              "salesRank         2635549\n",
              "price             2617728\n",
              "dtype: int64"
            ]
          },
          "metadata": {},
          "execution_count": 13
        }
      ]
    },
    {
      "cell_type": "code",
      "source": [
        "#=== obtain the main columns that are needed for our system ====================\n",
        "\n",
        "apps = merged_dataset[['reviewerID', 'asin', 'reviewText','summary', 'categories','overall']]\n",
        "apps.head()"
      ],
      "metadata": {
        "id": "1ogfPK9ZhnPM",
        "colab": {
          "base_uri": "https://localhost:8080/",
          "height": 345
        },
        "outputId": "c9d7c375-bfaa-491b-fb95-b053e0c34cf5"
      },
      "execution_count": 14,
      "outputs": [
        {
          "output_type": "execute_result",
          "data": {
            "text/plain": [
              "       reviewerID        asin  \\\n",
              "0   AUI0OLXAB3KKT  B004A9SDD8   \n",
              "1  A1ZUSQ3TC3EC4C  B004A9SDD8   \n",
              "2   AC05OAXD72X1V  B004A9SDD8   \n",
              "3  A2RVMFOKBVM21I  B004A9SDD8   \n",
              "4  A3NBSRGUWQGCMZ  B004A9SDD8   \n",
              "\n",
              "                                          reviewText  \\\n",
              "0  Glad to finally see this app on the android ma...   \n",
              "1  this app works great on the Kindle Fire... kid...   \n",
              "2  We love these monkey's and all the concepts th...   \n",
              "3  cannot get my kindle away from my 2 year old g...   \n",
              "4  I start this app up whenever I forget what a f...   \n",
              "\n",
              "                       summary                  categories  overall  \n",
              "0                 Great app!!!  [[Apps for Android, Kids]]      5.0  \n",
              "1                 Kid loves it  [[Apps for Android, Kids]]      5.0  \n",
              "2          Love these monkeys!  [[Apps for Android, Kids]]      4.0  \n",
              "3         fun fun for toddlers  [[Apps for Android, Kids]]      5.0  \n",
              "4  Might be great if it worked  [[Apps for Android, Kids]]      1.0  "
            ],
            "text/html": [
              "\n",
              "\n",
              "  <div id=\"df-8585aa0e-90c0-47f1-be4f-5f6a1290a6ed\">\n",
              "    <div class=\"colab-df-container\">\n",
              "      <div>\n",
              "<style scoped>\n",
              "    .dataframe tbody tr th:only-of-type {\n",
              "        vertical-align: middle;\n",
              "    }\n",
              "\n",
              "    .dataframe tbody tr th {\n",
              "        vertical-align: top;\n",
              "    }\n",
              "\n",
              "    .dataframe thead th {\n",
              "        text-align: right;\n",
              "    }\n",
              "</style>\n",
              "<table border=\"1\" class=\"dataframe\">\n",
              "  <thead>\n",
              "    <tr style=\"text-align: right;\">\n",
              "      <th></th>\n",
              "      <th>reviewerID</th>\n",
              "      <th>asin</th>\n",
              "      <th>reviewText</th>\n",
              "      <th>summary</th>\n",
              "      <th>categories</th>\n",
              "      <th>overall</th>\n",
              "    </tr>\n",
              "  </thead>\n",
              "  <tbody>\n",
              "    <tr>\n",
              "      <th>0</th>\n",
              "      <td>AUI0OLXAB3KKT</td>\n",
              "      <td>B004A9SDD8</td>\n",
              "      <td>Glad to finally see this app on the android ma...</td>\n",
              "      <td>Great app!!!</td>\n",
              "      <td>[[Apps for Android, Kids]]</td>\n",
              "      <td>5.0</td>\n",
              "    </tr>\n",
              "    <tr>\n",
              "      <th>1</th>\n",
              "      <td>A1ZUSQ3TC3EC4C</td>\n",
              "      <td>B004A9SDD8</td>\n",
              "      <td>this app works great on the Kindle Fire... kid...</td>\n",
              "      <td>Kid loves it</td>\n",
              "      <td>[[Apps for Android, Kids]]</td>\n",
              "      <td>5.0</td>\n",
              "    </tr>\n",
              "    <tr>\n",
              "      <th>2</th>\n",
              "      <td>AC05OAXD72X1V</td>\n",
              "      <td>B004A9SDD8</td>\n",
              "      <td>We love these monkey's and all the concepts th...</td>\n",
              "      <td>Love these monkeys!</td>\n",
              "      <td>[[Apps for Android, Kids]]</td>\n",
              "      <td>4.0</td>\n",
              "    </tr>\n",
              "    <tr>\n",
              "      <th>3</th>\n",
              "      <td>A2RVMFOKBVM21I</td>\n",
              "      <td>B004A9SDD8</td>\n",
              "      <td>cannot get my kindle away from my 2 year old g...</td>\n",
              "      <td>fun fun for toddlers</td>\n",
              "      <td>[[Apps for Android, Kids]]</td>\n",
              "      <td>5.0</td>\n",
              "    </tr>\n",
              "    <tr>\n",
              "      <th>4</th>\n",
              "      <td>A3NBSRGUWQGCMZ</td>\n",
              "      <td>B004A9SDD8</td>\n",
              "      <td>I start this app up whenever I forget what a f...</td>\n",
              "      <td>Might be great if it worked</td>\n",
              "      <td>[[Apps for Android, Kids]]</td>\n",
              "      <td>1.0</td>\n",
              "    </tr>\n",
              "  </tbody>\n",
              "</table>\n",
              "</div>\n",
              "      <button class=\"colab-df-convert\" onclick=\"convertToInteractive('df-8585aa0e-90c0-47f1-be4f-5f6a1290a6ed')\"\n",
              "              title=\"Convert this dataframe to an interactive table.\"\n",
              "              style=\"display:none;\">\n",
              "\n",
              "  <svg xmlns=\"http://www.w3.org/2000/svg\" height=\"24px\"viewBox=\"0 0 24 24\"\n",
              "       width=\"24px\">\n",
              "    <path d=\"M0 0h24v24H0V0z\" fill=\"none\"/>\n",
              "    <path d=\"M18.56 5.44l.94 2.06.94-2.06 2.06-.94-2.06-.94-.94-2.06-.94 2.06-2.06.94zm-11 1L8.5 8.5l.94-2.06 2.06-.94-2.06-.94L8.5 2.5l-.94 2.06-2.06.94zm10 10l.94 2.06.94-2.06 2.06-.94-2.06-.94-.94-2.06-.94 2.06-2.06.94z\"/><path d=\"M17.41 7.96l-1.37-1.37c-.4-.4-.92-.59-1.43-.59-.52 0-1.04.2-1.43.59L10.3 9.45l-7.72 7.72c-.78.78-.78 2.05 0 2.83L4 21.41c.39.39.9.59 1.41.59.51 0 1.02-.2 1.41-.59l7.78-7.78 2.81-2.81c.8-.78.8-2.07 0-2.86zM5.41 20L4 18.59l7.72-7.72 1.47 1.35L5.41 20z\"/>\n",
              "  </svg>\n",
              "      </button>\n",
              "\n",
              "\n",
              "\n",
              "    <div id=\"df-e33991c0-3c2d-4749-9a59-f096d5001b95\">\n",
              "      <button class=\"colab-df-quickchart\" onclick=\"quickchart('df-e33991c0-3c2d-4749-9a59-f096d5001b95')\"\n",
              "              title=\"Suggest charts.\"\n",
              "              style=\"display:none;\">\n",
              "\n",
              "<svg xmlns=\"http://www.w3.org/2000/svg\" height=\"24px\"viewBox=\"0 0 24 24\"\n",
              "     width=\"24px\">\n",
              "    <g>\n",
              "        <path d=\"M19 3H5c-1.1 0-2 .9-2 2v14c0 1.1.9 2 2 2h14c1.1 0 2-.9 2-2V5c0-1.1-.9-2-2-2zM9 17H7v-7h2v7zm4 0h-2V7h2v10zm4 0h-2v-4h2v4z\"/>\n",
              "    </g>\n",
              "</svg>\n",
              "      </button>\n",
              "    </div>\n",
              "\n",
              "<style>\n",
              "  .colab-df-quickchart {\n",
              "    background-color: #E8F0FE;\n",
              "    border: none;\n",
              "    border-radius: 50%;\n",
              "    cursor: pointer;\n",
              "    display: none;\n",
              "    fill: #1967D2;\n",
              "    height: 32px;\n",
              "    padding: 0 0 0 0;\n",
              "    width: 32px;\n",
              "  }\n",
              "\n",
              "  .colab-df-quickchart:hover {\n",
              "    background-color: #E2EBFA;\n",
              "    box-shadow: 0px 1px 2px rgba(60, 64, 67, 0.3), 0px 1px 3px 1px rgba(60, 64, 67, 0.15);\n",
              "    fill: #174EA6;\n",
              "  }\n",
              "\n",
              "  [theme=dark] .colab-df-quickchart {\n",
              "    background-color: #3B4455;\n",
              "    fill: #D2E3FC;\n",
              "  }\n",
              "\n",
              "  [theme=dark] .colab-df-quickchart:hover {\n",
              "    background-color: #434B5C;\n",
              "    box-shadow: 0px 1px 3px 1px rgba(0, 0, 0, 0.15);\n",
              "    filter: drop-shadow(0px 1px 2px rgba(0, 0, 0, 0.3));\n",
              "    fill: #FFFFFF;\n",
              "  }\n",
              "</style>\n",
              "\n",
              "    <script>\n",
              "      async function quickchart(key) {\n",
              "        const containerElement = document.querySelector('#' + key);\n",
              "        const charts = await google.colab.kernel.invokeFunction(\n",
              "            'suggestCharts', [key], {});\n",
              "      }\n",
              "    </script>\n",
              "\n",
              "      <script>\n",
              "\n",
              "function displayQuickchartButton(domScope) {\n",
              "  let quickchartButtonEl =\n",
              "    domScope.querySelector('#df-e33991c0-3c2d-4749-9a59-f096d5001b95 button.colab-df-quickchart');\n",
              "  quickchartButtonEl.style.display =\n",
              "    google.colab.kernel.accessAllowed ? 'block' : 'none';\n",
              "}\n",
              "\n",
              "        displayQuickchartButton(document);\n",
              "      </script>\n",
              "      <style>\n",
              "    .colab-df-container {\n",
              "      display:flex;\n",
              "      flex-wrap:wrap;\n",
              "      gap: 12px;\n",
              "    }\n",
              "\n",
              "    .colab-df-convert {\n",
              "      background-color: #E8F0FE;\n",
              "      border: none;\n",
              "      border-radius: 50%;\n",
              "      cursor: pointer;\n",
              "      display: none;\n",
              "      fill: #1967D2;\n",
              "      height: 32px;\n",
              "      padding: 0 0 0 0;\n",
              "      width: 32px;\n",
              "    }\n",
              "\n",
              "    .colab-df-convert:hover {\n",
              "      background-color: #E2EBFA;\n",
              "      box-shadow: 0px 1px 2px rgba(60, 64, 67, 0.3), 0px 1px 3px 1px rgba(60, 64, 67, 0.15);\n",
              "      fill: #174EA6;\n",
              "    }\n",
              "\n",
              "    [theme=dark] .colab-df-convert {\n",
              "      background-color: #3B4455;\n",
              "      fill: #D2E3FC;\n",
              "    }\n",
              "\n",
              "    [theme=dark] .colab-df-convert:hover {\n",
              "      background-color: #434B5C;\n",
              "      box-shadow: 0px 1px 3px 1px rgba(0, 0, 0, 0.15);\n",
              "      filter: drop-shadow(0px 1px 2px rgba(0, 0, 0, 0.3));\n",
              "      fill: #FFFFFF;\n",
              "    }\n",
              "  </style>\n",
              "\n",
              "      <script>\n",
              "        const buttonEl =\n",
              "          document.querySelector('#df-8585aa0e-90c0-47f1-be4f-5f6a1290a6ed button.colab-df-convert');\n",
              "        buttonEl.style.display =\n",
              "          google.colab.kernel.accessAllowed ? 'block' : 'none';\n",
              "\n",
              "        async function convertToInteractive(key) {\n",
              "          const element = document.querySelector('#df-8585aa0e-90c0-47f1-be4f-5f6a1290a6ed');\n",
              "          const dataTable =\n",
              "            await google.colab.kernel.invokeFunction('convertToInteractive',\n",
              "                                                     [key], {});\n",
              "          if (!dataTable) return;\n",
              "\n",
              "          const docLinkHtml = 'Like what you see? Visit the ' +\n",
              "            '<a target=\"_blank\" href=https://colab.research.google.com/notebooks/data_table.ipynb>data table notebook</a>'\n",
              "            + ' to learn more about interactive tables.';\n",
              "          element.innerHTML = '';\n",
              "          dataTable['output_type'] = 'display_data';\n",
              "          await google.colab.output.renderOutput(dataTable, element);\n",
              "          const docLink = document.createElement('div');\n",
              "          docLink.innerHTML = docLinkHtml;\n",
              "          element.appendChild(docLink);\n",
              "        }\n",
              "      </script>\n",
              "    </div>\n",
              "  </div>\n"
            ]
          },
          "metadata": {},
          "execution_count": 14
        }
      ]
    },
    {
      "cell_type": "code",
      "source": [
        "##==== check for nan\n",
        "\n",
        "apps.isnull().sum()\n"
      ],
      "metadata": {
        "colab": {
          "base_uri": "https://localhost:8080/"
        },
        "id": "PJz4gKIfV3CO",
        "outputId": "6f3e63ab-d345-45cd-e50d-0975bb32e35d"
      },
      "execution_count": 15,
      "outputs": [
        {
          "output_type": "execute_result",
          "data": {
            "text/plain": [
              "reviewerID    0\n",
              "asin          0\n",
              "reviewText    0\n",
              "summary       0\n",
              "categories    0\n",
              "overall       0\n",
              "dtype: int64"
            ]
          },
          "metadata": {},
          "execution_count": 15
        }
      ]
    },
    {
      "cell_type": "code",
      "source": [
        "apps.info()"
      ],
      "metadata": {
        "id": "9g7lfGGJOTGX",
        "colab": {
          "base_uri": "https://localhost:8080/"
        },
        "outputId": "7b4667e3-339e-4c0e-9919-5c69521572cb"
      },
      "execution_count": 16,
      "outputs": [
        {
          "output_type": "stream",
          "name": "stdout",
          "text": [
            "<class 'pandas.core.frame.DataFrame'>\n",
            "Int64Index: 2638173 entries, 0 to 2638172\n",
            "Data columns (total 6 columns):\n",
            " #   Column      Dtype  \n",
            "---  ------      -----  \n",
            " 0   reviewerID  object \n",
            " 1   asin        object \n",
            " 2   reviewText  object \n",
            " 3   summary     object \n",
            " 4   categories  object \n",
            " 5   overall     float64\n",
            "dtypes: float64(1), object(5)\n",
            "memory usage: 140.9+ MB\n"
          ]
        }
      ]
    },
    {
      "cell_type": "code",
      "source": [
        "print(apps.shape)"
      ],
      "metadata": {
        "id": "ppR7PdKDkUXQ",
        "colab": {
          "base_uri": "https://localhost:8080/"
        },
        "outputId": "f1975722-5d8b-44db-de13-1daeab439d56"
      },
      "execution_count": 17,
      "outputs": [
        {
          "output_type": "stream",
          "name": "stdout",
          "text": [
            "(2638173, 6)\n"
          ]
        }
      ]
    },
    {
      "cell_type": "code",
      "source": [
        "print('numer of users/reviewers:')\n",
        "print(apps['reviewerID'].nunique())\n",
        "print('number of android apps:')\n",
        "print(apps['asin'].nunique())"
      ],
      "metadata": {
        "colab": {
          "base_uri": "https://localhost:8080/"
        },
        "id": "JegwrXY3QZb9",
        "outputId": "da429063-999b-479d-9501-06e6660d18c2"
      },
      "execution_count": 19,
      "outputs": [
        {
          "output_type": "stream",
          "name": "stdout",
          "text": [
            "numer of users/reviewers:\n",
            "1323884\n",
            "number of android apps:\n",
            "61275\n"
          ]
        }
      ]
    },
    {
      "cell_type": "markdown",
      "source": [
        "## Text preprocessing"
      ],
      "metadata": {
        "id": "WG6v0F6JANDx"
      }
    },
    {
      "cell_type": "code",
      "source": [
        "#=== text data ============\n",
        "\n",
        "apps['tags'] = apps['reviewText'] + apps['summary'] + str(apps['categories'])\n"
      ],
      "metadata": {
        "id": "qXK1jPEdki8f"
      },
      "execution_count": 22,
      "outputs": []
    },
    {
      "cell_type": "markdown",
      "source": [
        "### Text cleaning and curating"
      ],
      "metadata": {
        "id": "8n1zJCmSGbeh"
      }
    },
    {
      "cell_type": "code",
      "source": [
        "\"\"\"Text preprocessing\"\"\"\n",
        "\n",
        "import contractions\n",
        "import inflect\n",
        "from nltk.corpus import stopwords\n",
        "import re\n",
        "nltk.download('stopwords')\n",
        "nltk.download('punkt')\n",
        "\n",
        "def preprocess_text(text):\n",
        "    # Lowercase\n",
        "    text = text.lower()\n",
        "\n",
        "    # Remove special characters\n",
        "    text = re.sub(r\"[^a-zA-Z0-9]\", \" \", text)\n",
        "    text = re.sub(r'(@|#)\\w+' , '' , text)\n",
        "    text = re.sub(\"[,.]\", \"\", text)\n",
        "    text = re.sub(r'https?://\\S+' , '' , text)\n",
        "    text = re.sub(r'(\\?|!)+' , '' , text)\n",
        "    text = re.sub(r\"\\(|\\)\", \"\", text)\n",
        "    text = re.sub(r'(^\\s+)' , '' , text)\n",
        "    text = re.sub(r'(\\s+$)' , '' , text)\n",
        "    text = re.sub(r'\\d+' , '' , text)\n",
        "\n",
        "    # Remove stopwords\n",
        "    stop_words = set(stopwords.words(\"english\"))\n",
        "    tokens = text.split()\n",
        "    tokens = [token for token in tokens if token not in stop_words]\n",
        "    text = \" \".join(tokens)\n",
        "\n",
        "    # Perform stemming  ps = PorterStemmer()\n",
        "    stemmer = PorterStemmer()  #\"english\"\n",
        "    tokens = text.split()\n",
        "    tokens = [stemmer.stem(token) for token in tokens]               # stemming\n",
        "    text = \" \".join(tokens)\n",
        "\n",
        "    # Expand contractions\n",
        "    tokens  = text.split()\n",
        "    tokens = [contractions.fix(token) for token in tokens]           # expand words\n",
        "    text = \" \".join(tokens)\n",
        "\n",
        "    # Convert numeric values to text expressions\n",
        "    p = inflect.engine()\n",
        "    tokens = text.split()\n",
        "    tokens = [p.number_to_words(token) if token.isdigit() else token for token in tokens]\n",
        "    text = \" \".join(tokens)\n",
        "\n",
        "    return text\n",
        "\n",
        "def preprocess_data(data):\n",
        "    if isinstance(data, str):\n",
        "        # Preprocess a single text\n",
        "        preprocessed_text = preprocess_text(data)\n",
        "        return preprocessed_text\n",
        "\n",
        "    elif isinstance(data, (list, np.ndarray)):\n",
        "        # Preprocess an array or vector column\n",
        "        preprocessed_data = [preprocess_text(text) for text in data]\n",
        "        return np.array(preprocessed_data)\n",
        "\n",
        "    elif isinstance(data, pd.Series):\n",
        "        # Preprocess a Series (column)\n",
        "        preprocessed_data = data.apply(preprocess_text)\n",
        "        return preprocessed_data\n",
        "\n",
        "    elif isinstance(data, pd.DataFrame):\n",
        "        # Preprocess text columns in a DataFrame\n",
        "        preprocessed_data = data.copy()\n",
        "        for column in data.columns:\n",
        "            preprocessed_data[column] = data[column].apply(preprocess_text)\n",
        "        return preprocessed_data\n",
        "    else:\n",
        "        raise ValueError(\"Input data must be a string, column series, array, or a DataFrame.\")"
      ],
      "metadata": {
        "id": "-aDBhuFlZeWt",
        "colab": {
          "base_uri": "https://localhost:8080/"
        },
        "outputId": "223ceb73-aad0-436b-c9b4-bbafad196ae0"
      },
      "execution_count": 36,
      "outputs": [
        {
          "output_type": "stream",
          "name": "stderr",
          "text": [
            "[nltk_data] Downloading package stopwords to /root/nltk_data...\n",
            "[nltk_data]   Package stopwords is already up-to-date!\n",
            "[nltk_data] Downloading package punkt to /root/nltk_data...\n",
            "[nltk_data]   Package punkt is already up-to-date!\n"
          ]
        }
      ]
    },
    {
      "cell_type": "markdown",
      "source": [
        "### Text tokenization and padding"
      ],
      "metadata": {
        "id": "EtCfkGLBGis0"
      }
    },
    {
      "cell_type": "code",
      "source": [
        "\"\"\"Deep learning model for Reccomender system\"\"\"\n",
        "\n",
        "# Encode categorical features\n",
        "id_encoder = LabelEncoder()\n",
        "title_encoder = LabelEncoder()\n",
        "apps['reviewerID'] = id_encoder.fit_transform(apps['reviewerID'])\n",
        "apps['asin'] = title_encoder.fit_transform(apps['asin'])\n",
        "\n",
        "##========= pickle encoder function for later use ==============================\n",
        "with open('id_encoder.pkl', 'wb') as id_enc:\n",
        "  pickle.dump(id_encoder, id_enc)\n",
        "\n",
        "with open('title_encoder.pkl', 'wb') as title_enc:\n",
        "  pickle.dump(title_encoder, title_enc)\n",
        "\n",
        "##========================clean data============================================\n",
        "apps['tags'] = preprocess_data(apps['tags'])\n",
        "\n",
        "\n",
        "#====pickle cleaned data+++\n",
        "Apps_df = apps[['reviewerID', 'asin', 'tags']]\n",
        "\n",
        "\n",
        "#============== Tokenize and pad apps descriptions=============================\n",
        "tokenizer = Tokenizer()\n",
        "tokenizer.fit_on_texts(apps['tags'])\n",
        "apps['seqs'] = tokenizer.texts_to_sequences(apps['tags'])\n",
        "\n",
        "#================Split the data into train and test sets========================\n",
        "train_data, test_data = train_test_split(apps, test_size=0.2, random_state=42)\n",
        "\n",
        "#======================pad sequence=============================================\n",
        "max_sequence_length = max(len(seq) for seq in apps['seqs'])\n",
        "print('maximum sequence length is:', max_sequence_length)\n",
        "train_padded_sequences = pad_sequences(train_data['seqs'], maxlen=max_sequence_length)\n",
        "test_padded_sequences = pad_sequences(test_data['seqs'], maxlen=max_sequence_length)"
      ],
      "metadata": {
        "id": "rrl6gI5ywybY"
      },
      "execution_count": null,
      "outputs": []
    },
    {
      "cell_type": "markdown",
      "source": [
        "## Building Model"
      ],
      "metadata": {
        "id": "fcBTUvW2x7bZ"
      }
    },
    {
      "cell_type": "markdown",
      "source": [
        "### Wide_deep_model"
      ],
      "metadata": {
        "id": "FuvtUibhEDWd"
      }
    },
    {
      "cell_type": "code",
      "source": [
        "############### Building Model ======================\n",
        "\n",
        "def wide_deep_model(apps, max_sequence_length):\n",
        "    \"\"\"Define input layers\"\"\"\n",
        "\n",
        "    reviewerID = Input(shape=(1,), name='reviewerID')\n",
        "    asin = Input(shape=(1,), name='asin')\n",
        "    tags = Input(shape=(max_sequence_length,), name='tags')\n",
        "\n",
        "    # Embedding layers for reviewerID and asin\n",
        "    id_embedding = Embedding(input_dim=apps['reviewerID'].nunique(), output_dim=10, input_shape=(1,))(reviewerID)\n",
        "    title_embedding = Embedding(input_dim=apps['asin'].nunique(), output_dim=10, input_shape=(1,))(asin)\n",
        "\n",
        "    # Flatten the embedding layers\n",
        "    id_flatten = Flatten()(id_embedding)\n",
        "    title_flatten = Flatten()(title_embedding)\n",
        "\n",
        "    # Concatenate the flattened embeddings\n",
        "    concatenated = Concatenate()([id_flatten, title_flatten])\n",
        "\n",
        "    # Deep component\n",
        "    bn_concat = BatchNormalization()(concatenated)\n",
        "    fc1 = Dense(256, use_bias=False, activation='relu')(bn_concat)\n",
        "    bn1 = BatchNormalization()(fc1)\n",
        "    fc1 = Dropout(rate=0.2)(bn1)\n",
        "\n",
        "    fc2 = Dense(128, use_bias=False, activation='relu')(fc1)\n",
        "    bn2 = BatchNormalization()(fc2)\n",
        "    fc2 = Dropout(rate=0.2)(bn2)\n",
        "\n",
        "    fc3 = Dense(64, use_bias=False, activation='relu')(fc2)\n",
        "    bn3 = BatchNormalization()(fc3)\n",
        "    fc3 = Dropout(rate=0.2)(bn3)\n",
        "\n",
        "    deep_output = Dense(64, activation='relu')(fc3)\n",
        "\n",
        "    # Fully connected layers for the wide component\n",
        "    wide_output = Concatenate()([tags, deep_output])\n",
        "    wide_output = Dropout(rate=0.2)(wide_output)\n",
        "    wide_output = Dense(1)(wide_output)\n",
        "\n",
        "    # Model\n",
        "    model = Model(inputs=[reviewerID, asin, tags], outputs=wide_output)\n",
        "\n",
        "    # Compile the model\n",
        "    model.compile(optimizer='adam', loss='mse', metrics=['mse'])\n",
        "    return model\n"
      ],
      "metadata": {
        "id": "eeXZrLsCx29T"
      },
      "execution_count": null,
      "outputs": []
    },
    {
      "cell_type": "markdown",
      "source": [
        "#### Train wide-deep-model"
      ],
      "metadata": {
        "id": "Zyqeug1gEN2d"
      }
    },
    {
      "cell_type": "code",
      "source": [
        "model = wide_deep_model(apps, max_sequence_length)\n",
        "\n",
        "# Train the model\n",
        "#model.fit(x = {'reviewerID':reviewerID,\n",
        "#               'asin': asin,\n",
        "#               'tags': train_padded_sequences},\n",
        "#          y = train_data['overall'],\n",
        "#          epochs=100, batch_size=32, validation_split=0.2)\n",
        "\n",
        "# Assuming you have processed the data and created padded_sequences\n",
        "train_reviewerID = train_data['reviewerID'].values\n",
        "train_asin = train_data['asin'].values\n",
        "train_tags = train_padded_sequences\n",
        "\n",
        "# Train the model\n",
        "model.fit(\n",
        "    x=[train_reviewerID, train_asin, train_tags],\n",
        "    y=train_data['overall'],\n",
        "    epochs=100,\n",
        "    batch_size=64,\n",
        "    validation_split=0.2\n",
        ")"
      ],
      "metadata": {
        "id": "qACceDsZTwaW"
      },
      "execution_count": null,
      "outputs": []
    },
    {
      "cell_type": "markdown",
      "source": [
        "### Evaluate trained Model"
      ],
      "metadata": {
        "id": "FNOo5B7ornW3"
      }
    },
    {
      "cell_type": "code",
      "source": [
        "import numpy as np\n",
        "from sklearn.metrics import mean_squared_error, mean_absolute_error, r2_score\n",
        "\n",
        "# test_data\n",
        "test_reviewerID = test_data['reviewerID'].values\n",
        "test_asin = test_data['asin'].values\n",
        "test_tags = test_padded_sequences\n",
        "\n",
        "# Evaluate the model on the test data\n",
        "predictions = model.predict([test_reviewerID, test_asin, test_tags]).flatten()\n",
        "\n",
        "# Replace 'target_column' with the actual target column in your dataset\n",
        "true_values = test_data['overall'].values\n",
        "\n",
        "# Calculate Mean Squared Error (MSE)\n",
        "mse = mean_squared_error(true_values, predictions)\n",
        "\n",
        "# Calculate Root Mean Squared Error (RMSE)\n",
        "rmse = np.sqrt(mse)\n",
        "\n",
        "# Calculate Mean Absolute Error (MAE)\n",
        "mae = mean_absolute_error(true_values, predictions)\n",
        "\n",
        "# Calculate R-squared (R2) score\n",
        "r2 = r2_score(true_values, predictions)\n",
        "\n",
        "print(\"Mean Squared Error (MSE):\", mse)\n",
        "print(\"Root Mean Squared Error (RMSE):\", rmse)\n",
        "print(\"Mean Absolute Error (MAE):\", mae)\n",
        "print(\"R-squared (R2) score:\", r2)\n"
      ],
      "metadata": {
        "id": "ldAIu85DrttJ"
      },
      "execution_count": null,
      "outputs": []
    },
    {
      "cell_type": "code",
      "source": [
        "import numpy as np\n",
        "\n",
        "def Apps_recommendations(model, data, user_id, k=5):\n",
        "    \"\"\" Apps reccomendation based on users record\"\"\"\n",
        "\n",
        "    # Create sequences of apps descriptions for the user\n",
        "    user_apps_reviews = data.loc[data['reviewerID'] == user_id, 'tags']             ## data need to be changed \"tags\":apps reviews\n",
        "    user_sequences = tokenizer.texts_to_sequences(user_apps_reviews)\n",
        "    user_padded_sequences = pad_sequences(user_sequences, maxlen=max_sequence_length)\n",
        "\n",
        "    # Prepare input data for the model\n",
        "    user_input = np.full_like(user_padded_sequences, user_id)                       #to ensure userID as the same numbers with other input\n",
        "    asin_input = data.loc[data['reviewerID'] == user_id, 'asin'].values             #encoded apps ID\n",
        "\n",
        "    # Get apps ID and description indices with highest predicted ratings\n",
        "    predictions = model.predict([user_input, asin_input, user_padded_sequences]).flatten()  # input: userID, AppsID, tokenised & vectorised apps reviews\n",
        "    top_k_indices = np.argsort(predictions)[::-1][:k]\n",
        "\n",
        "    # Get the andriod Apps recommendation for the top-k recommendations\n",
        "    top_k_asins = data.loc[top_k_indices, 'asin'].values\n",
        "\n",
        "    asin_encoder = joblib.load('id_encoder.pkl')\n",
        "\n",
        "    top_k_AppsID = asin_encoder.inverse_transform(top_k_asins)\n",
        "\n",
        "    #top_k_movie_titles = data.loc[data['asin'].isin(top_k_asins), 'movie_title'].values\n",
        "\n",
        "    return top_k_AppsID\n",
        "\n",
        "# Example usage to get movie recommendations for user with ID 123\n",
        "#user_id = 123\n",
        "#recommendations = Apps_recommendations(model, user_id)\n",
        "#print(f\"Apps recommendations for user {user_id}:\")\n",
        "#print(recommendations)\n"
      ],
      "metadata": {
        "id": "DoetwhVXTcaO"
      },
      "execution_count": null,
      "outputs": []
    },
    {
      "cell_type": "markdown",
      "source": [
        "**Evaluate trained Reccommendation model**"
      ],
      "metadata": {
        "id": "TIVzFT7Mgkzf"
      }
    },
    {
      "cell_type": "code",
      "source": [
        "# Reccomendation Model evaluation\n",
        "\n",
        "def precision_recall_at_k(model, test_data, k=5):\n",
        "    precision_sum = 0\n",
        "    recall_sum = 0\n",
        "\n",
        "    for user_id in test_data['reviewerID'].unique():\n",
        "        user_apps = test_data[test_data['reviewerID'] == user_id]['asin'].values\n",
        "        user_predictions = Apps_recommendations(model, user_id, k=k)\n",
        "\n",
        "        # Calculate intersection (retrieved items that are relevant)\n",
        "        intersection = len(set(user_apps) & set(user_predictions))\n",
        "\n",
        "        # Calculate precision and recall for this user\n",
        "        precision = intersection / min(k, len(user_apps))\n",
        "        recall = intersection / len(user_apps)\n",
        "\n",
        "        precision_sum += precision\n",
        "        recall_sum += recall\n",
        "\n",
        "    # Calculate average precision and recall across all users\n",
        "    avg_precision = precision_sum / len(test_data['reviewerID'].unique())\n",
        "    avg_recall = recall_sum / len(test_data['reviewerID'].unique())\n",
        "\n",
        "    return avg_precision, avg_recall\n"
      ],
      "metadata": {
        "id": "51-6rnKa2lLJ"
      },
      "execution_count": null,
      "outputs": []
    },
    {
      "cell_type": "code",
      "source": [
        "# Reccomendation Model evaluation function\n",
        "\n",
        "k_values = [5, 10, 15, 20]\n",
        "\n",
        "for k in k_values:\n",
        "  pre, re = precision_recall_at_k(model, test_data, k=k)\n",
        "  print('Proposed Reccomendation system Evaluation')\n",
        "  print(f'The average precision and average recall at {k} are {pre} and {re}, respectively')"
      ],
      "metadata": {
        "id": "qm6uwed74ofB"
      },
      "execution_count": null,
      "outputs": []
    },
    {
      "cell_type": "markdown",
      "source": [
        "## Recommendation based on likes or view"
      ],
      "metadata": {
        "id": "FskNB1-qcAO1"
      }
    },
    {
      "cell_type": "code",
      "source": [
        "## The input into cv i.e apps['tags'] must be a clean text data\n",
        "\n",
        "cv = CountVectorizer(max_features=5000, stop_words='english')\n",
        "vectors = cv.fit_transform(apps['tags']).toarray()\n",
        "\n",
        "#vectors\n",
        "similarity = cosine_similarity(vectors)    # for similarity evaluation"
      ],
      "metadata": {
        "id": "MYI8fIK6bPpi"
      },
      "execution_count": null,
      "outputs": []
    },
    {
      "cell_type": "code",
      "source": [
        "##======= save model ===================\n",
        "pickle.dump(Apps_df.to_dict(), open('apps_dict.pkl', 'wb'))   #save_cleaned data\n",
        "pickle.dump(similarity, open('similarity.pkl', 'wb'))\n",
        "\n",
        "pickle.dump(model, open('Recommend_model.pkl', 'wb'))"
      ],
      "metadata": {
        "id": "PygJiWxTgsm3"
      },
      "execution_count": null,
      "outputs": []
    },
    {
      "cell_type": "code",
      "source": [
        "#=========== Recommendation system =============================================\n",
        "\n",
        "def app_recommend(Apps_df, similarity, appID):\n",
        "  \"\"\"load save model\"\"\"\n",
        " # Apps_df = joblib.load('apps_dict.pkl')\n",
        " # similarity = joblib.load('similarity.pkl')\n",
        "\n",
        "  apps_index = Apps_df[Apps_df['asin'] == appID].index[0]\n",
        "  distances = similarity[apps_index]\n",
        "  apps_list = sorted(list(enumerate(distances)), reverse=True, key=lambda x:x[1])[1:6]\n",
        "\n",
        "  for i in apps_list:\n",
        "    print(Apps_df.iloc[i[0]].asin)"
      ],
      "metadata": {
        "id": "rxl2hUgZcRzU"
      },
      "execution_count": null,
      "outputs": []
    },
    {
      "cell_type": "markdown",
      "source": [
        "## Integrated Reccomendation Model based on User Records and current view/likes"
      ],
      "metadata": {
        "id": "uX4drYnir_MQ"
      }
    },
    {
      "cell_type": "code",
      "source": [
        "import joblib\n",
        "\n",
        "class Apps_Reccomendation_Model():\n",
        "  def __init__(self):\n",
        "    self.data = joblib.load('data_df.pkl')\n",
        "    self.model = joblib.load('Recommend_model.pkl')\n",
        "    self.Apps_df = joblib.load('apps_dict.pkl')\n",
        "    self.similarity = joblib.load('similarity.pkl')\n",
        "\n",
        "  def integral_recommend(self, userID: None, appID:None):\n",
        "    if userID is not None and appID is None:\n",
        "      print('Reccommended apps based on your previous download')\n",
        "      reccomend = Apps_recommendations(self.model, userID, k=5)\n",
        "      print(reccomend)\n",
        "\n",
        "    elif userID is None and appID is not None:\n",
        "      print('Reccommended items based on current view/likes:')\n",
        "      app_recommend(self.Apps_df, self.similarity, appID)\n",
        "\n",
        "    elif userID is not None and appID is not None:\n",
        "      print('Reccommended items based on current view/likes:')\n",
        "      app_recommend(self.Apps_df, self.similarity, appID)\n",
        "\n",
        "      print('Reccommended apps based on your previous download')\n",
        "      reccomend = Apps_recommendations(self.model, userID, k=5)\n",
        "      print(reccomend)\n",
        "    else:\n",
        "      print('provide your ID or view one of the apps')"
      ],
      "metadata": {
        "id": "gi6M8vV2sPp_"
      },
      "execution_count": null,
      "outputs": []
    },
    {
      "cell_type": "code",
      "source": [],
      "metadata": {
        "id": "MCQK0Qtw4rw8"
      },
      "execution_count": null,
      "outputs": []
    }
  ]
}