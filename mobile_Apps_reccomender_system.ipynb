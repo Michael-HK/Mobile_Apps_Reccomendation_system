{
  "nbformat": 4,
  "nbformat_minor": 0,
  "metadata": {
    "colab": {
      "provenance": [],
      "gpuType": "V100",
      "collapsed_sections": [
        "FuvtUibhEDWd"
      ],
      "authorship_tag": "ABX9TyMhx4OgYDYPJe86JudMmcHt",
      "include_colab_link": true
    },
    "kernelspec": {
      "name": "python3",
      "display_name": "Python 3"
    },
    "language_info": {
      "name": "python"
    },
    "accelerator": "GPU"
  },
  "cells": [
    {
      "cell_type": "markdown",
      "metadata": {
        "id": "view-in-github",
        "colab_type": "text"
      },
      "source": [
        "<a href=\"https://colab.research.google.com/github/Michael-HK/Mobile_Apps_Reccomendation_system/blob/main/mobile_Apps_reccomender_system.ipynb\" target=\"_parent\"><img src=\"https://colab.research.google.com/assets/colab-badge.svg\" alt=\"Open In Colab\"/></a>"
      ]
    },
    {
      "cell_type": "markdown",
      "source": [
        "**Import Dependencies**"
      ],
      "metadata": {
        "id": "f3JFTQnk8KK0"
      }
    },
    {
      "cell_type": "code",
      "source": [
        "!pip install contractions\n",
        "!pip install inflect"
      ],
      "metadata": {
        "id": "8rGQTEeMxlHi",
        "colab": {
          "base_uri": "https://localhost:8080/"
        },
        "outputId": "fd938b64-107a-4538-96d1-f4ac44c54f46"
      },
      "execution_count": 1,
      "outputs": [
        {
          "output_type": "stream",
          "name": "stdout",
          "text": [
            "Collecting contractions\n",
            "  Downloading contractions-0.1.73-py2.py3-none-any.whl (8.7 kB)\n",
            "Collecting textsearch>=0.0.21 (from contractions)\n",
            "  Downloading textsearch-0.0.24-py2.py3-none-any.whl (7.6 kB)\n",
            "Collecting anyascii (from textsearch>=0.0.21->contractions)\n",
            "  Downloading anyascii-0.3.2-py3-none-any.whl (289 kB)\n",
            "\u001b[2K     \u001b[90m━━━━━━━━━━━━━━━━━━━━━━━━━━━━━━━━━━━━━━━\u001b[0m \u001b[32m289.9/289.9 kB\u001b[0m \u001b[31m8.8 MB/s\u001b[0m eta \u001b[36m0:00:00\u001b[0m\n",
            "\u001b[?25hCollecting pyahocorasick (from textsearch>=0.0.21->contractions)\n",
            "  Downloading pyahocorasick-2.0.0-cp310-cp310-manylinux_2_5_x86_64.manylinux1_x86_64.manylinux_2_12_x86_64.manylinux2010_x86_64.whl (110 kB)\n",
            "\u001b[2K     \u001b[90m━━━━━━━━━━━━━━━━━━━━━━━━━━━━━━━━━━━━━━\u001b[0m \u001b[32m110.8/110.8 kB\u001b[0m \u001b[31m15.8 MB/s\u001b[0m eta \u001b[36m0:00:00\u001b[0m\n",
            "\u001b[?25hInstalling collected packages: pyahocorasick, anyascii, textsearch, contractions\n",
            "Successfully installed anyascii-0.3.2 contractions-0.1.73 pyahocorasick-2.0.0 textsearch-0.0.24\n",
            "Requirement already satisfied: inflect in /usr/local/lib/python3.10/dist-packages (6.0.5)\n",
            "Requirement already satisfied: pydantic<2,>=1.9.1 in /usr/local/lib/python3.10/dist-packages (from inflect) (1.10.12)\n",
            "Requirement already satisfied: typing-extensions>=4.2.0 in /usr/local/lib/python3.10/dist-packages (from pydantic<2,>=1.9.1->inflect) (4.7.1)\n"
          ]
        }
      ]
    },
    {
      "cell_type": "markdown",
      "source": [
        "## Import libraries"
      ],
      "metadata": {
        "id": "bsldr5G8Baj7"
      }
    },
    {
      "cell_type": "code",
      "execution_count": 2,
      "metadata": {
        "id": "9IzUfbbez5e7"
      },
      "outputs": [],
      "source": [
        "import pandas as pd\n",
        "import numpy as np\n",
        "import matplotlib.pyplot as plt\n",
        "%matplotlib inline\n",
        "import seaborn as sns\n",
        "import gzip\n",
        "import ast\n",
        "from sklearn.feature_extraction.text import CountVectorizer\n",
        "import nltk\n",
        "from nltk.stem import PorterStemmer\n",
        "from sklearn.metrics.pairwise import cosine_similarity\n",
        "import pickle\n",
        "import warnings\n",
        "#%load_ext watermark\n",
        "warnings.filterwarnings(\"ignore\")\n",
        "\n",
        "from sklearn.model_selection import train_test_split\n",
        "from sklearn.preprocessing import LabelEncoder, MinMaxScaler\n",
        "from tensorflow.keras.models import Model\n",
        "from tensorflow.keras.layers import Input, Embedding, Dense, Concatenate, Flatten,Dropout, BatchNormalization\n",
        "from tensorflow.keras.utils import plot_model\n",
        "from tensorflow.keras.preprocessing.text import Tokenizer\n",
        "from tensorflow.keras.preprocessing.sequence import pad_sequences\n"
      ]
    },
    {
      "cell_type": "code",
      "source": [
        "from google.colab import drive\n",
        "drive.mount('/content/drive')\n",
        "\n",
        "# change directory to the folder\n",
        "%cd /content/drive/My Drive/end_2_end_ML/music_recommendation"
      ],
      "metadata": {
        "id": "IhE8iDTTPbbi",
        "colab": {
          "base_uri": "https://localhost:8080/"
        },
        "outputId": "8cba041e-3f69-4eea-ed8d-292804fd04c5"
      },
      "execution_count": 3,
      "outputs": [
        {
          "output_type": "stream",
          "name": "stdout",
          "text": [
            "Mounted at /content/drive\n",
            "/content/drive/My Drive/end_2_end_ML/music_recommendation\n"
          ]
        }
      ]
    },
    {
      "cell_type": "markdown",
      "source": [
        "## Data Ingest"
      ],
      "metadata": {
        "id": "VYdypzqnEotX"
      }
    },
    {
      "cell_type": "code",
      "source": [
        "#======== download datasets ================\n",
        "\n",
        "!wget http://snap.stanford.edu/data/amazon/productGraph/categoryFiles/reviews_Apps_for_Android.json.gz\n",
        "\n",
        "!wget http://snap.stanford.edu/data/amazon/productGraph/categoryFiles/meta_Apps_for_Android.json.gz\n"
      ],
      "metadata": {
        "id": "7E08cXdBPUyL",
        "colab": {
          "base_uri": "https://localhost:8080/"
        },
        "outputId": "9f3e643d-e298-43a3-a3a2-473e2a9baa93"
      },
      "execution_count": null,
      "outputs": [
        {
          "output_type": "stream",
          "name": "stdout",
          "text": [
            "--2023-07-28 13:50:53--  http://snap.stanford.edu/data/amazon/productGraph/categoryFiles/reviews_Apps_for_Android.json.gz\n",
            "Resolving snap.stanford.edu (snap.stanford.edu)... 171.64.75.80\n",
            "Connecting to snap.stanford.edu (snap.stanford.edu)|171.64.75.80|:80... connected.\n",
            "HTTP request sent, awaiting response... 200 OK\n",
            "Length: 299986290 (286M) [application/x-gzip]\n",
            "Saving to: ‘reviews_Apps_for_Android.json.gz.5’\n",
            "\n",
            "reviews_Apps_for_An 100%[===================>] 286.09M  50.4MB/s    in 5.9s    \n",
            "\n",
            "2023-07-28 13:50:59 (48.3 MB/s) - ‘reviews_Apps_for_Android.json.gz.5’ saved [299986290/299986290]\n",
            "\n",
            "--2023-07-28 13:50:59--  http://snap.stanford.edu/data/amazon/productGraph/categoryFiles/meta_Apps_for_Android.json.gz\n",
            "Resolving snap.stanford.edu (snap.stanford.edu)... 171.64.75.80\n",
            "Connecting to snap.stanford.edu (snap.stanford.edu)|171.64.75.80|:80... connected.\n",
            "HTTP request sent, awaiting response... 200 OK\n",
            "Length: 16414723 (16M) [application/x-gzip]\n",
            "Saving to: ‘meta_Apps_for_Android.json.gz.5’\n",
            "\n",
            "meta_Apps_for_Andro 100%[===================>]  15.65M  13.1MB/s    in 1.2s    \n",
            "\n",
            "2023-07-28 13:51:00 (13.1 MB/s) - ‘meta_Apps_for_Android.json.gz.5’ saved [16414723/16414723]\n",
            "\n"
          ]
        }
      ]
    },
    {
      "cell_type": "code",
      "source": [
        "##======= function to read the file as dataframe =============================\n",
        "\n",
        "def parse(path):\n",
        "  g = gzip.open(path, 'rb')\n",
        "  for l in g:\n",
        "    yield eval(l)\n",
        "\n",
        "def getDF(path):\n",
        "  i = 0\n",
        "  df = {}\n",
        "  for d in parse(path):\n",
        "    df[i] = d\n",
        "    i += 1\n",
        "  return pd.DataFrame.from_dict(df, orient='index')\n",
        "\n",
        "df1 = getDF('./reviews_Apps_for_Android.json.gz')\n",
        "df2 = getDF('./meta_Apps_for_Android.json.gz')"
      ],
      "metadata": {
        "id": "2AN2FoFrQFbz"
      },
      "execution_count": 4,
      "outputs": []
    },
    {
      "cell_type": "code",
      "source": [
        "#=== view\n",
        "\n",
        "df1.head()\n",
        "df2.head()"
      ],
      "metadata": {
        "id": "rOZj6DITRU-n",
        "colab": {
          "base_uri": "https://localhost:8080/",
          "height": 337
        },
        "outputId": "3a98a91e-718c-4611-cf31-203c173334f7"
      },
      "execution_count": 5,
      "outputs": [
        {
          "output_type": "execute_result",
          "data": {
            "text/plain": [
              "         asin                                            related  \\\n",
              "0  B004A9SDD8  {'also_bought': ['B006M3K874', 'B00F85SMOI', '...   \n",
              "1  B004AFQAUA  {'also_bought': ['B005UDD1R6', 'B00LBH2UMM', '...   \n",
              "2  B004AGCR1K  {'also_viewed': ['B00A7W29BE', 'B00I5PB9UM', '...   \n",
              "3  B004AHBBPW  {'also_bought': ['B006T2U1V6', 'B00FBCIYZU', '...   \n",
              "4  B004ALFHV2  {'also_bought': ['B00CA6LZAG', 'B00FE5ZF4W', '...   \n",
              "\n",
              "                                   categories salesRank  price  \n",
              "0                  [[Apps for Android, Kids]]       NaN    NaN  \n",
              "1  [[Apps for Android, Music, Music Players]]       NaN    NaN  \n",
              "2          [[Apps for Android, Productivity]]       NaN    NaN  \n",
              "3             [[Apps for Android, Reference]]       NaN    NaN  \n",
              "4         [[Apps for Android, Communication]]       NaN    NaN  "
            ],
            "text/html": [
              "\n",
              "\n",
              "  <div id=\"df-e890e9ea-1599-4492-8aca-6131344b0df6\">\n",
              "    <div class=\"colab-df-container\">\n",
              "      <div>\n",
              "<style scoped>\n",
              "    .dataframe tbody tr th:only-of-type {\n",
              "        vertical-align: middle;\n",
              "    }\n",
              "\n",
              "    .dataframe tbody tr th {\n",
              "        vertical-align: top;\n",
              "    }\n",
              "\n",
              "    .dataframe thead th {\n",
              "        text-align: right;\n",
              "    }\n",
              "</style>\n",
              "<table border=\"1\" class=\"dataframe\">\n",
              "  <thead>\n",
              "    <tr style=\"text-align: right;\">\n",
              "      <th></th>\n",
              "      <th>asin</th>\n",
              "      <th>related</th>\n",
              "      <th>categories</th>\n",
              "      <th>salesRank</th>\n",
              "      <th>price</th>\n",
              "    </tr>\n",
              "  </thead>\n",
              "  <tbody>\n",
              "    <tr>\n",
              "      <th>0</th>\n",
              "      <td>B004A9SDD8</td>\n",
              "      <td>{'also_bought': ['B006M3K874', 'B00F85SMOI', '...</td>\n",
              "      <td>[[Apps for Android, Kids]]</td>\n",
              "      <td>NaN</td>\n",
              "      <td>NaN</td>\n",
              "    </tr>\n",
              "    <tr>\n",
              "      <th>1</th>\n",
              "      <td>B004AFQAUA</td>\n",
              "      <td>{'also_bought': ['B005UDD1R6', 'B00LBH2UMM', '...</td>\n",
              "      <td>[[Apps for Android, Music, Music Players]]</td>\n",
              "      <td>NaN</td>\n",
              "      <td>NaN</td>\n",
              "    </tr>\n",
              "    <tr>\n",
              "      <th>2</th>\n",
              "      <td>B004AGCR1K</td>\n",
              "      <td>{'also_viewed': ['B00A7W29BE', 'B00I5PB9UM', '...</td>\n",
              "      <td>[[Apps for Android, Productivity]]</td>\n",
              "      <td>NaN</td>\n",
              "      <td>NaN</td>\n",
              "    </tr>\n",
              "    <tr>\n",
              "      <th>3</th>\n",
              "      <td>B004AHBBPW</td>\n",
              "      <td>{'also_bought': ['B006T2U1V6', 'B00FBCIYZU', '...</td>\n",
              "      <td>[[Apps for Android, Reference]]</td>\n",
              "      <td>NaN</td>\n",
              "      <td>NaN</td>\n",
              "    </tr>\n",
              "    <tr>\n",
              "      <th>4</th>\n",
              "      <td>B004ALFHV2</td>\n",
              "      <td>{'also_bought': ['B00CA6LZAG', 'B00FE5ZF4W', '...</td>\n",
              "      <td>[[Apps for Android, Communication]]</td>\n",
              "      <td>NaN</td>\n",
              "      <td>NaN</td>\n",
              "    </tr>\n",
              "  </tbody>\n",
              "</table>\n",
              "</div>\n",
              "      <button class=\"colab-df-convert\" onclick=\"convertToInteractive('df-e890e9ea-1599-4492-8aca-6131344b0df6')\"\n",
              "              title=\"Convert this dataframe to an interactive table.\"\n",
              "              style=\"display:none;\">\n",
              "\n",
              "  <svg xmlns=\"http://www.w3.org/2000/svg\" height=\"24px\"viewBox=\"0 0 24 24\"\n",
              "       width=\"24px\">\n",
              "    <path d=\"M0 0h24v24H0V0z\" fill=\"none\"/>\n",
              "    <path d=\"M18.56 5.44l.94 2.06.94-2.06 2.06-.94-2.06-.94-.94-2.06-.94 2.06-2.06.94zm-11 1L8.5 8.5l.94-2.06 2.06-.94-2.06-.94L8.5 2.5l-.94 2.06-2.06.94zm10 10l.94 2.06.94-2.06 2.06-.94-2.06-.94-.94-2.06-.94 2.06-2.06.94z\"/><path d=\"M17.41 7.96l-1.37-1.37c-.4-.4-.92-.59-1.43-.59-.52 0-1.04.2-1.43.59L10.3 9.45l-7.72 7.72c-.78.78-.78 2.05 0 2.83L4 21.41c.39.39.9.59 1.41.59.51 0 1.02-.2 1.41-.59l7.78-7.78 2.81-2.81c.8-.78.8-2.07 0-2.86zM5.41 20L4 18.59l7.72-7.72 1.47 1.35L5.41 20z\"/>\n",
              "  </svg>\n",
              "      </button>\n",
              "\n",
              "\n",
              "\n",
              "    <div id=\"df-066bc80f-9268-471d-b1d2-02e761a25cc3\">\n",
              "      <button class=\"colab-df-quickchart\" onclick=\"quickchart('df-066bc80f-9268-471d-b1d2-02e761a25cc3')\"\n",
              "              title=\"Suggest charts.\"\n",
              "              style=\"display:none;\">\n",
              "\n",
              "<svg xmlns=\"http://www.w3.org/2000/svg\" height=\"24px\"viewBox=\"0 0 24 24\"\n",
              "     width=\"24px\">\n",
              "    <g>\n",
              "        <path d=\"M19 3H5c-1.1 0-2 .9-2 2v14c0 1.1.9 2 2 2h14c1.1 0 2-.9 2-2V5c0-1.1-.9-2-2-2zM9 17H7v-7h2v7zm4 0h-2V7h2v10zm4 0h-2v-4h2v4z\"/>\n",
              "    </g>\n",
              "</svg>\n",
              "      </button>\n",
              "    </div>\n",
              "\n",
              "<style>\n",
              "  .colab-df-quickchart {\n",
              "    background-color: #E8F0FE;\n",
              "    border: none;\n",
              "    border-radius: 50%;\n",
              "    cursor: pointer;\n",
              "    display: none;\n",
              "    fill: #1967D2;\n",
              "    height: 32px;\n",
              "    padding: 0 0 0 0;\n",
              "    width: 32px;\n",
              "  }\n",
              "\n",
              "  .colab-df-quickchart:hover {\n",
              "    background-color: #E2EBFA;\n",
              "    box-shadow: 0px 1px 2px rgba(60, 64, 67, 0.3), 0px 1px 3px 1px rgba(60, 64, 67, 0.15);\n",
              "    fill: #174EA6;\n",
              "  }\n",
              "\n",
              "  [theme=dark] .colab-df-quickchart {\n",
              "    background-color: #3B4455;\n",
              "    fill: #D2E3FC;\n",
              "  }\n",
              "\n",
              "  [theme=dark] .colab-df-quickchart:hover {\n",
              "    background-color: #434B5C;\n",
              "    box-shadow: 0px 1px 3px 1px rgba(0, 0, 0, 0.15);\n",
              "    filter: drop-shadow(0px 1px 2px rgba(0, 0, 0, 0.3));\n",
              "    fill: #FFFFFF;\n",
              "  }\n",
              "</style>\n",
              "\n",
              "    <script>\n",
              "      async function quickchart(key) {\n",
              "        const containerElement = document.querySelector('#' + key);\n",
              "        const charts = await google.colab.kernel.invokeFunction(\n",
              "            'suggestCharts', [key], {});\n",
              "      }\n",
              "    </script>\n",
              "\n",
              "      <script>\n",
              "\n",
              "function displayQuickchartButton(domScope) {\n",
              "  let quickchartButtonEl =\n",
              "    domScope.querySelector('#df-066bc80f-9268-471d-b1d2-02e761a25cc3 button.colab-df-quickchart');\n",
              "  quickchartButtonEl.style.display =\n",
              "    google.colab.kernel.accessAllowed ? 'block' : 'none';\n",
              "}\n",
              "\n",
              "        displayQuickchartButton(document);\n",
              "      </script>\n",
              "      <style>\n",
              "    .colab-df-container {\n",
              "      display:flex;\n",
              "      flex-wrap:wrap;\n",
              "      gap: 12px;\n",
              "    }\n",
              "\n",
              "    .colab-df-convert {\n",
              "      background-color: #E8F0FE;\n",
              "      border: none;\n",
              "      border-radius: 50%;\n",
              "      cursor: pointer;\n",
              "      display: none;\n",
              "      fill: #1967D2;\n",
              "      height: 32px;\n",
              "      padding: 0 0 0 0;\n",
              "      width: 32px;\n",
              "    }\n",
              "\n",
              "    .colab-df-convert:hover {\n",
              "      background-color: #E2EBFA;\n",
              "      box-shadow: 0px 1px 2px rgba(60, 64, 67, 0.3), 0px 1px 3px 1px rgba(60, 64, 67, 0.15);\n",
              "      fill: #174EA6;\n",
              "    }\n",
              "\n",
              "    [theme=dark] .colab-df-convert {\n",
              "      background-color: #3B4455;\n",
              "      fill: #D2E3FC;\n",
              "    }\n",
              "\n",
              "    [theme=dark] .colab-df-convert:hover {\n",
              "      background-color: #434B5C;\n",
              "      box-shadow: 0px 1px 3px 1px rgba(0, 0, 0, 0.15);\n",
              "      filter: drop-shadow(0px 1px 2px rgba(0, 0, 0, 0.3));\n",
              "      fill: #FFFFFF;\n",
              "    }\n",
              "  </style>\n",
              "\n",
              "      <script>\n",
              "        const buttonEl =\n",
              "          document.querySelector('#df-e890e9ea-1599-4492-8aca-6131344b0df6 button.colab-df-convert');\n",
              "        buttonEl.style.display =\n",
              "          google.colab.kernel.accessAllowed ? 'block' : 'none';\n",
              "\n",
              "        async function convertToInteractive(key) {\n",
              "          const element = document.querySelector('#df-e890e9ea-1599-4492-8aca-6131344b0df6');\n",
              "          const dataTable =\n",
              "            await google.colab.kernel.invokeFunction('convertToInteractive',\n",
              "                                                     [key], {});\n",
              "          if (!dataTable) return;\n",
              "\n",
              "          const docLinkHtml = 'Like what you see? Visit the ' +\n",
              "            '<a target=\"_blank\" href=https://colab.research.google.com/notebooks/data_table.ipynb>data table notebook</a>'\n",
              "            + ' to learn more about interactive tables.';\n",
              "          element.innerHTML = '';\n",
              "          dataTable['output_type'] = 'display_data';\n",
              "          await google.colab.output.renderOutput(dataTable, element);\n",
              "          const docLink = document.createElement('div');\n",
              "          docLink.innerHTML = docLinkHtml;\n",
              "          element.appendChild(docLink);\n",
              "        }\n",
              "      </script>\n",
              "    </div>\n",
              "  </div>\n"
            ]
          },
          "metadata": {},
          "execution_count": 5
        }
      ]
    },
    {
      "cell_type": "code",
      "source": [
        "print(df1.shape)\n",
        "print(df2.shape)"
      ],
      "metadata": {
        "colab": {
          "base_uri": "https://localhost:8080/"
        },
        "id": "bivk4gKU3AL5",
        "outputId": "2582acb1-78e2-4b28-ad8f-95c4232dfc4e"
      },
      "execution_count": 6,
      "outputs": [
        {
          "output_type": "stream",
          "name": "stdout",
          "text": [
            "(2638173, 9)\n",
            "(61551, 5)\n"
          ]
        }
      ]
    },
    {
      "cell_type": "code",
      "source": [
        "##======== number of products===========\n",
        "\n",
        "df1['asin'].nunique()\n",
        "\n",
        "#print('Total number of review Apps is: ', len(df1['asin'].nunique()))"
      ],
      "metadata": {
        "colab": {
          "base_uri": "https://localhost:8080/"
        },
        "id": "Xnvg2lO31rha",
        "outputId": "3a8c8cbc-ccb6-4908-d01e-8ecfee14036c"
      },
      "execution_count": 7,
      "outputs": [
        {
          "output_type": "execute_result",
          "data": {
            "text/plain": [
              "61275"
            ]
          },
          "metadata": {},
          "execution_count": 7
        }
      ]
    },
    {
      "cell_type": "code",
      "source": [
        "##========== merge the files===============\n",
        "\n",
        "merged_dataset = pd.merge(df1, df2, on='asin', how='left')"
      ],
      "metadata": {
        "id": "egmANxspzdZi"
      },
      "execution_count": 8,
      "outputs": []
    },
    {
      "cell_type": "code",
      "source": [
        "merged_dataset.head(10)"
      ],
      "metadata": {
        "id": "jSUoUp-N3e6m",
        "colab": {
          "base_uri": "https://localhost:8080/",
          "height": 1000
        },
        "outputId": "e94202d4-58a0-465f-d5e8-f18179aa436a"
      },
      "execution_count": 9,
      "outputs": [
        {
          "output_type": "execute_result",
          "data": {
            "text/plain": [
              "       reviewerID        asin             reviewerName   helpful  \\\n",
              "0   AUI0OLXAB3KKT  B004A9SDD8               A Customer    [0, 0]   \n",
              "1  A1ZUSQ3TC3EC4C  B004A9SDD8                A. Lissak  [12, 14]   \n",
              "2   AC05OAXD72X1V  B004A9SDD8                    Allie    [0, 0]   \n",
              "3  A2RVMFOKBVM21I  B004A9SDD8          Amazon Customer    [0, 2]   \n",
              "4  A3NBSRGUWQGCMZ  B004A9SDD8          Amazon Customer    [1, 3]   \n",
              "5  A2KTVCVZJ8GPD2  B004A9SDD8                A. Mclean    [0, 0]   \n",
              "6  A2I9RREBHMMPCJ  B004A9SDD8                  AngelaM    [1, 2]   \n",
              "7  A1N4O8VOJZTDVB  B004A9SDD8           Annette Yancey    [1, 1]   \n",
              "8  A2HQWU6HUKIEC7  B004A9SDD8  Audiobook lover \"Kathy\"    [0, 0]   \n",
              "9  A1SXASF6GYG96I  B004A9SDD8            Barbara Gibbs    [0, 0]   \n",
              "\n",
              "                                          reviewText  overall  \\\n",
              "0  Glad to finally see this app on the android ma...      5.0   \n",
              "1  this app works great on the Kindle Fire... kid...      5.0   \n",
              "2  We love these monkey's and all the concepts th...      4.0   \n",
              "3  cannot get my kindle away from my 2 year old g...      5.0   \n",
              "4  I start this app up whenever I forget what a f...      1.0   \n",
              "5  Very engaging to my three year old toddler. Sh...      5.0   \n",
              "6  My daughter loves this app.  Unfortunately, af...      3.0   \n",
              "7  Loves the song, so he really couldn't wait to ...      3.0   \n",
              "8  Oh, how my little grandson loves this app. He'...      5.0   \n",
              "9  I found this at a perfect time since my daught...      5.0   \n",
              "\n",
              "                       summary  unixReviewTime   reviewTime  \\\n",
              "0                 Great app!!!    1.301184e+09  03 27, 2011   \n",
              "1                 Kid loves it    1.321574e+09  11 18, 2011   \n",
              "2          Love these monkeys!    1.367366e+09   05 1, 2013   \n",
              "3         fun fun for toddlers    1.350173e+09  10 14, 2012   \n",
              "4  Might be great if it worked    1.300838e+09  03 23, 2011   \n",
              "5                  Great video    1.393546e+09  02 28, 2014   \n",
              "6         great when it worked    1.305504e+09  05 16, 2011   \n",
              "7                  Really cute    1.383350e+09   11 2, 2013   \n",
              "8          2-year-old loves it    1.323043e+09   12 5, 2011   \n",
              "9                     Fun game    1.337558e+09  05 21, 2012   \n",
              "\n",
              "                                             related  \\\n",
              "0  {'also_bought': ['B006M3K874', 'B00F85SMOI', '...   \n",
              "1  {'also_bought': ['B006M3K874', 'B00F85SMOI', '...   \n",
              "2  {'also_bought': ['B006M3K874', 'B00F85SMOI', '...   \n",
              "3  {'also_bought': ['B006M3K874', 'B00F85SMOI', '...   \n",
              "4  {'also_bought': ['B006M3K874', 'B00F85SMOI', '...   \n",
              "5  {'also_bought': ['B006M3K874', 'B00F85SMOI', '...   \n",
              "6  {'also_bought': ['B006M3K874', 'B00F85SMOI', '...   \n",
              "7  {'also_bought': ['B006M3K874', 'B00F85SMOI', '...   \n",
              "8  {'also_bought': ['B006M3K874', 'B00F85SMOI', '...   \n",
              "9  {'also_bought': ['B006M3K874', 'B00F85SMOI', '...   \n",
              "\n",
              "                   categories salesRank  price  \n",
              "0  [[Apps for Android, Kids]]       NaN    NaN  \n",
              "1  [[Apps for Android, Kids]]       NaN    NaN  \n",
              "2  [[Apps for Android, Kids]]       NaN    NaN  \n",
              "3  [[Apps for Android, Kids]]       NaN    NaN  \n",
              "4  [[Apps for Android, Kids]]       NaN    NaN  \n",
              "5  [[Apps for Android, Kids]]       NaN    NaN  \n",
              "6  [[Apps for Android, Kids]]       NaN    NaN  \n",
              "7  [[Apps for Android, Kids]]       NaN    NaN  \n",
              "8  [[Apps for Android, Kids]]       NaN    NaN  \n",
              "9  [[Apps for Android, Kids]]       NaN    NaN  "
            ],
            "text/html": [
              "\n",
              "\n",
              "  <div id=\"df-e6d61692-c604-46ef-b7cb-10dd85ce9e6d\">\n",
              "    <div class=\"colab-df-container\">\n",
              "      <div>\n",
              "<style scoped>\n",
              "    .dataframe tbody tr th:only-of-type {\n",
              "        vertical-align: middle;\n",
              "    }\n",
              "\n",
              "    .dataframe tbody tr th {\n",
              "        vertical-align: top;\n",
              "    }\n",
              "\n",
              "    .dataframe thead th {\n",
              "        text-align: right;\n",
              "    }\n",
              "</style>\n",
              "<table border=\"1\" class=\"dataframe\">\n",
              "  <thead>\n",
              "    <tr style=\"text-align: right;\">\n",
              "      <th></th>\n",
              "      <th>reviewerID</th>\n",
              "      <th>asin</th>\n",
              "      <th>reviewerName</th>\n",
              "      <th>helpful</th>\n",
              "      <th>reviewText</th>\n",
              "      <th>overall</th>\n",
              "      <th>summary</th>\n",
              "      <th>unixReviewTime</th>\n",
              "      <th>reviewTime</th>\n",
              "      <th>related</th>\n",
              "      <th>categories</th>\n",
              "      <th>salesRank</th>\n",
              "      <th>price</th>\n",
              "    </tr>\n",
              "  </thead>\n",
              "  <tbody>\n",
              "    <tr>\n",
              "      <th>0</th>\n",
              "      <td>AUI0OLXAB3KKT</td>\n",
              "      <td>B004A9SDD8</td>\n",
              "      <td>A Customer</td>\n",
              "      <td>[0, 0]</td>\n",
              "      <td>Glad to finally see this app on the android ma...</td>\n",
              "      <td>5.0</td>\n",
              "      <td>Great app!!!</td>\n",
              "      <td>1.301184e+09</td>\n",
              "      <td>03 27, 2011</td>\n",
              "      <td>{'also_bought': ['B006M3K874', 'B00F85SMOI', '...</td>\n",
              "      <td>[[Apps for Android, Kids]]</td>\n",
              "      <td>NaN</td>\n",
              "      <td>NaN</td>\n",
              "    </tr>\n",
              "    <tr>\n",
              "      <th>1</th>\n",
              "      <td>A1ZUSQ3TC3EC4C</td>\n",
              "      <td>B004A9SDD8</td>\n",
              "      <td>A. Lissak</td>\n",
              "      <td>[12, 14]</td>\n",
              "      <td>this app works great on the Kindle Fire... kid...</td>\n",
              "      <td>5.0</td>\n",
              "      <td>Kid loves it</td>\n",
              "      <td>1.321574e+09</td>\n",
              "      <td>11 18, 2011</td>\n",
              "      <td>{'also_bought': ['B006M3K874', 'B00F85SMOI', '...</td>\n",
              "      <td>[[Apps for Android, Kids]]</td>\n",
              "      <td>NaN</td>\n",
              "      <td>NaN</td>\n",
              "    </tr>\n",
              "    <tr>\n",
              "      <th>2</th>\n",
              "      <td>AC05OAXD72X1V</td>\n",
              "      <td>B004A9SDD8</td>\n",
              "      <td>Allie</td>\n",
              "      <td>[0, 0]</td>\n",
              "      <td>We love these monkey's and all the concepts th...</td>\n",
              "      <td>4.0</td>\n",
              "      <td>Love these monkeys!</td>\n",
              "      <td>1.367366e+09</td>\n",
              "      <td>05 1, 2013</td>\n",
              "      <td>{'also_bought': ['B006M3K874', 'B00F85SMOI', '...</td>\n",
              "      <td>[[Apps for Android, Kids]]</td>\n",
              "      <td>NaN</td>\n",
              "      <td>NaN</td>\n",
              "    </tr>\n",
              "    <tr>\n",
              "      <th>3</th>\n",
              "      <td>A2RVMFOKBVM21I</td>\n",
              "      <td>B004A9SDD8</td>\n",
              "      <td>Amazon Customer</td>\n",
              "      <td>[0, 2]</td>\n",
              "      <td>cannot get my kindle away from my 2 year old g...</td>\n",
              "      <td>5.0</td>\n",
              "      <td>fun fun for toddlers</td>\n",
              "      <td>1.350173e+09</td>\n",
              "      <td>10 14, 2012</td>\n",
              "      <td>{'also_bought': ['B006M3K874', 'B00F85SMOI', '...</td>\n",
              "      <td>[[Apps for Android, Kids]]</td>\n",
              "      <td>NaN</td>\n",
              "      <td>NaN</td>\n",
              "    </tr>\n",
              "    <tr>\n",
              "      <th>4</th>\n",
              "      <td>A3NBSRGUWQGCMZ</td>\n",
              "      <td>B004A9SDD8</td>\n",
              "      <td>Amazon Customer</td>\n",
              "      <td>[1, 3]</td>\n",
              "      <td>I start this app up whenever I forget what a f...</td>\n",
              "      <td>1.0</td>\n",
              "      <td>Might be great if it worked</td>\n",
              "      <td>1.300838e+09</td>\n",
              "      <td>03 23, 2011</td>\n",
              "      <td>{'also_bought': ['B006M3K874', 'B00F85SMOI', '...</td>\n",
              "      <td>[[Apps for Android, Kids]]</td>\n",
              "      <td>NaN</td>\n",
              "      <td>NaN</td>\n",
              "    </tr>\n",
              "    <tr>\n",
              "      <th>5</th>\n",
              "      <td>A2KTVCVZJ8GPD2</td>\n",
              "      <td>B004A9SDD8</td>\n",
              "      <td>A. Mclean</td>\n",
              "      <td>[0, 0]</td>\n",
              "      <td>Very engaging to my three year old toddler. Sh...</td>\n",
              "      <td>5.0</td>\n",
              "      <td>Great video</td>\n",
              "      <td>1.393546e+09</td>\n",
              "      <td>02 28, 2014</td>\n",
              "      <td>{'also_bought': ['B006M3K874', 'B00F85SMOI', '...</td>\n",
              "      <td>[[Apps for Android, Kids]]</td>\n",
              "      <td>NaN</td>\n",
              "      <td>NaN</td>\n",
              "    </tr>\n",
              "    <tr>\n",
              "      <th>6</th>\n",
              "      <td>A2I9RREBHMMPCJ</td>\n",
              "      <td>B004A9SDD8</td>\n",
              "      <td>AngelaM</td>\n",
              "      <td>[1, 2]</td>\n",
              "      <td>My daughter loves this app.  Unfortunately, af...</td>\n",
              "      <td>3.0</td>\n",
              "      <td>great when it worked</td>\n",
              "      <td>1.305504e+09</td>\n",
              "      <td>05 16, 2011</td>\n",
              "      <td>{'also_bought': ['B006M3K874', 'B00F85SMOI', '...</td>\n",
              "      <td>[[Apps for Android, Kids]]</td>\n",
              "      <td>NaN</td>\n",
              "      <td>NaN</td>\n",
              "    </tr>\n",
              "    <tr>\n",
              "      <th>7</th>\n",
              "      <td>A1N4O8VOJZTDVB</td>\n",
              "      <td>B004A9SDD8</td>\n",
              "      <td>Annette Yancey</td>\n",
              "      <td>[1, 1]</td>\n",
              "      <td>Loves the song, so he really couldn't wait to ...</td>\n",
              "      <td>3.0</td>\n",
              "      <td>Really cute</td>\n",
              "      <td>1.383350e+09</td>\n",
              "      <td>11 2, 2013</td>\n",
              "      <td>{'also_bought': ['B006M3K874', 'B00F85SMOI', '...</td>\n",
              "      <td>[[Apps for Android, Kids]]</td>\n",
              "      <td>NaN</td>\n",
              "      <td>NaN</td>\n",
              "    </tr>\n",
              "    <tr>\n",
              "      <th>8</th>\n",
              "      <td>A2HQWU6HUKIEC7</td>\n",
              "      <td>B004A9SDD8</td>\n",
              "      <td>Audiobook lover \"Kathy\"</td>\n",
              "      <td>[0, 0]</td>\n",
              "      <td>Oh, how my little grandson loves this app. He'...</td>\n",
              "      <td>5.0</td>\n",
              "      <td>2-year-old loves it</td>\n",
              "      <td>1.323043e+09</td>\n",
              "      <td>12 5, 2011</td>\n",
              "      <td>{'also_bought': ['B006M3K874', 'B00F85SMOI', '...</td>\n",
              "      <td>[[Apps for Android, Kids]]</td>\n",
              "      <td>NaN</td>\n",
              "      <td>NaN</td>\n",
              "    </tr>\n",
              "    <tr>\n",
              "      <th>9</th>\n",
              "      <td>A1SXASF6GYG96I</td>\n",
              "      <td>B004A9SDD8</td>\n",
              "      <td>Barbara Gibbs</td>\n",
              "      <td>[0, 0]</td>\n",
              "      <td>I found this at a perfect time since my daught...</td>\n",
              "      <td>5.0</td>\n",
              "      <td>Fun game</td>\n",
              "      <td>1.337558e+09</td>\n",
              "      <td>05 21, 2012</td>\n",
              "      <td>{'also_bought': ['B006M3K874', 'B00F85SMOI', '...</td>\n",
              "      <td>[[Apps for Android, Kids]]</td>\n",
              "      <td>NaN</td>\n",
              "      <td>NaN</td>\n",
              "    </tr>\n",
              "  </tbody>\n",
              "</table>\n",
              "</div>\n",
              "      <button class=\"colab-df-convert\" onclick=\"convertToInteractive('df-e6d61692-c604-46ef-b7cb-10dd85ce9e6d')\"\n",
              "              title=\"Convert this dataframe to an interactive table.\"\n",
              "              style=\"display:none;\">\n",
              "\n",
              "  <svg xmlns=\"http://www.w3.org/2000/svg\" height=\"24px\"viewBox=\"0 0 24 24\"\n",
              "       width=\"24px\">\n",
              "    <path d=\"M0 0h24v24H0V0z\" fill=\"none\"/>\n",
              "    <path d=\"M18.56 5.44l.94 2.06.94-2.06 2.06-.94-2.06-.94-.94-2.06-.94 2.06-2.06.94zm-11 1L8.5 8.5l.94-2.06 2.06-.94-2.06-.94L8.5 2.5l-.94 2.06-2.06.94zm10 10l.94 2.06.94-2.06 2.06-.94-2.06-.94-.94-2.06-.94 2.06-2.06.94z\"/><path d=\"M17.41 7.96l-1.37-1.37c-.4-.4-.92-.59-1.43-.59-.52 0-1.04.2-1.43.59L10.3 9.45l-7.72 7.72c-.78.78-.78 2.05 0 2.83L4 21.41c.39.39.9.59 1.41.59.51 0 1.02-.2 1.41-.59l7.78-7.78 2.81-2.81c.8-.78.8-2.07 0-2.86zM5.41 20L4 18.59l7.72-7.72 1.47 1.35L5.41 20z\"/>\n",
              "  </svg>\n",
              "      </button>\n",
              "\n",
              "\n",
              "\n",
              "    <div id=\"df-eeb5b4c1-500f-4f06-9d94-eb3bf52ddc35\">\n",
              "      <button class=\"colab-df-quickchart\" onclick=\"quickchart('df-eeb5b4c1-500f-4f06-9d94-eb3bf52ddc35')\"\n",
              "              title=\"Suggest charts.\"\n",
              "              style=\"display:none;\">\n",
              "\n",
              "<svg xmlns=\"http://www.w3.org/2000/svg\" height=\"24px\"viewBox=\"0 0 24 24\"\n",
              "     width=\"24px\">\n",
              "    <g>\n",
              "        <path d=\"M19 3H5c-1.1 0-2 .9-2 2v14c0 1.1.9 2 2 2h14c1.1 0 2-.9 2-2V5c0-1.1-.9-2-2-2zM9 17H7v-7h2v7zm4 0h-2V7h2v10zm4 0h-2v-4h2v4z\"/>\n",
              "    </g>\n",
              "</svg>\n",
              "      </button>\n",
              "    </div>\n",
              "\n",
              "<style>\n",
              "  .colab-df-quickchart {\n",
              "    background-color: #E8F0FE;\n",
              "    border: none;\n",
              "    border-radius: 50%;\n",
              "    cursor: pointer;\n",
              "    display: none;\n",
              "    fill: #1967D2;\n",
              "    height: 32px;\n",
              "    padding: 0 0 0 0;\n",
              "    width: 32px;\n",
              "  }\n",
              "\n",
              "  .colab-df-quickchart:hover {\n",
              "    background-color: #E2EBFA;\n",
              "    box-shadow: 0px 1px 2px rgba(60, 64, 67, 0.3), 0px 1px 3px 1px rgba(60, 64, 67, 0.15);\n",
              "    fill: #174EA6;\n",
              "  }\n",
              "\n",
              "  [theme=dark] .colab-df-quickchart {\n",
              "    background-color: #3B4455;\n",
              "    fill: #D2E3FC;\n",
              "  }\n",
              "\n",
              "  [theme=dark] .colab-df-quickchart:hover {\n",
              "    background-color: #434B5C;\n",
              "    box-shadow: 0px 1px 3px 1px rgba(0, 0, 0, 0.15);\n",
              "    filter: drop-shadow(0px 1px 2px rgba(0, 0, 0, 0.3));\n",
              "    fill: #FFFFFF;\n",
              "  }\n",
              "</style>\n",
              "\n",
              "    <script>\n",
              "      async function quickchart(key) {\n",
              "        const containerElement = document.querySelector('#' + key);\n",
              "        const charts = await google.colab.kernel.invokeFunction(\n",
              "            'suggestCharts', [key], {});\n",
              "      }\n",
              "    </script>\n",
              "\n",
              "      <script>\n",
              "\n",
              "function displayQuickchartButton(domScope) {\n",
              "  let quickchartButtonEl =\n",
              "    domScope.querySelector('#df-eeb5b4c1-500f-4f06-9d94-eb3bf52ddc35 button.colab-df-quickchart');\n",
              "  quickchartButtonEl.style.display =\n",
              "    google.colab.kernel.accessAllowed ? 'block' : 'none';\n",
              "}\n",
              "\n",
              "        displayQuickchartButton(document);\n",
              "      </script>\n",
              "      <style>\n",
              "    .colab-df-container {\n",
              "      display:flex;\n",
              "      flex-wrap:wrap;\n",
              "      gap: 12px;\n",
              "    }\n",
              "\n",
              "    .colab-df-convert {\n",
              "      background-color: #E8F0FE;\n",
              "      border: none;\n",
              "      border-radius: 50%;\n",
              "      cursor: pointer;\n",
              "      display: none;\n",
              "      fill: #1967D2;\n",
              "      height: 32px;\n",
              "      padding: 0 0 0 0;\n",
              "      width: 32px;\n",
              "    }\n",
              "\n",
              "    .colab-df-convert:hover {\n",
              "      background-color: #E2EBFA;\n",
              "      box-shadow: 0px 1px 2px rgba(60, 64, 67, 0.3), 0px 1px 3px 1px rgba(60, 64, 67, 0.15);\n",
              "      fill: #174EA6;\n",
              "    }\n",
              "\n",
              "    [theme=dark] .colab-df-convert {\n",
              "      background-color: #3B4455;\n",
              "      fill: #D2E3FC;\n",
              "    }\n",
              "\n",
              "    [theme=dark] .colab-df-convert:hover {\n",
              "      background-color: #434B5C;\n",
              "      box-shadow: 0px 1px 3px 1px rgba(0, 0, 0, 0.15);\n",
              "      filter: drop-shadow(0px 1px 2px rgba(0, 0, 0, 0.3));\n",
              "      fill: #FFFFFF;\n",
              "    }\n",
              "  </style>\n",
              "\n",
              "      <script>\n",
              "        const buttonEl =\n",
              "          document.querySelector('#df-e6d61692-c604-46ef-b7cb-10dd85ce9e6d button.colab-df-convert');\n",
              "        buttonEl.style.display =\n",
              "          google.colab.kernel.accessAllowed ? 'block' : 'none';\n",
              "\n",
              "        async function convertToInteractive(key) {\n",
              "          const element = document.querySelector('#df-e6d61692-c604-46ef-b7cb-10dd85ce9e6d');\n",
              "          const dataTable =\n",
              "            await google.colab.kernel.invokeFunction('convertToInteractive',\n",
              "                                                     [key], {});\n",
              "          if (!dataTable) return;\n",
              "\n",
              "          const docLinkHtml = 'Like what you see? Visit the ' +\n",
              "            '<a target=\"_blank\" href=https://colab.research.google.com/notebooks/data_table.ipynb>data table notebook</a>'\n",
              "            + ' to learn more about interactive tables.';\n",
              "          element.innerHTML = '';\n",
              "          dataTable['output_type'] = 'display_data';\n",
              "          await google.colab.output.renderOutput(dataTable, element);\n",
              "          const docLink = document.createElement('div');\n",
              "          docLink.innerHTML = docLinkHtml;\n",
              "          element.appendChild(docLink);\n",
              "        }\n",
              "      </script>\n",
              "    </div>\n",
              "  </div>\n"
            ]
          },
          "metadata": {},
          "execution_count": 9
        }
      ]
    },
    {
      "cell_type": "code",
      "source": [
        "# check for null\n",
        "merged_dataset.isnull().sum()\n"
      ],
      "metadata": {
        "id": "Ra48UIGi4eCg",
        "colab": {
          "base_uri": "https://localhost:8080/"
        },
        "outputId": "a37467fd-730f-40f8-e463-5bdc6d7b979a"
      },
      "execution_count": 10,
      "outputs": [
        {
          "output_type": "execute_result",
          "data": {
            "text/plain": [
              "reviewerID              0\n",
              "asin                    0\n",
              "reviewerName       187320\n",
              "helpful                 0\n",
              "reviewText              0\n",
              "overall                 0\n",
              "summary                 0\n",
              "unixReviewTime          1\n",
              "reviewTime              0\n",
              "related              2768\n",
              "categories              0\n",
              "salesRank         2635549\n",
              "price             2617728\n",
              "dtype: int64"
            ]
          },
          "metadata": {},
          "execution_count": 10
        }
      ]
    },
    {
      "cell_type": "code",
      "source": [
        "def strg(ls):\n",
        "  return ' '.join([str(e) for e in ls])\n"
      ],
      "metadata": {
        "id": "KPBaVTFfS1GX"
      },
      "execution_count": 11,
      "outputs": []
    },
    {
      "cell_type": "code",
      "source": [
        "#=== obtain the main columns that are needed for our system ====================\n",
        "\n",
        "#merge text column\n",
        "merged_dataset['textinfo'] = merged_dataset['reviewText'] + ' ' + merged_dataset['summary'] + ' ' + merged_dataset['categories'].apply(strg)\n",
        "\n",
        "df = merged_dataset[['reviewerID', 'asin', 'textinfo', 'overall']]\n",
        "df.head()"
      ],
      "metadata": {
        "id": "1ogfPK9ZhnPM",
        "colab": {
          "base_uri": "https://localhost:8080/",
          "height": 206
        },
        "outputId": "4ff7e291-ca9e-487b-8074-c1fa100e12e3"
      },
      "execution_count": 12,
      "outputs": [
        {
          "output_type": "execute_result",
          "data": {
            "text/plain": [
              "       reviewerID        asin  \\\n",
              "0   AUI0OLXAB3KKT  B004A9SDD8   \n",
              "1  A1ZUSQ3TC3EC4C  B004A9SDD8   \n",
              "2   AC05OAXD72X1V  B004A9SDD8   \n",
              "3  A2RVMFOKBVM21I  B004A9SDD8   \n",
              "4  A3NBSRGUWQGCMZ  B004A9SDD8   \n",
              "\n",
              "                                            textinfo  overall  \n",
              "0  Glad to finally see this app on the android ma...      5.0  \n",
              "1  this app works great on the Kindle Fire... kid...      5.0  \n",
              "2  We love these monkey's and all the concepts th...      4.0  \n",
              "3  cannot get my kindle away from my 2 year old g...      5.0  \n",
              "4  I start this app up whenever I forget what a f...      1.0  "
            ],
            "text/html": [
              "\n",
              "\n",
              "  <div id=\"df-773342eb-0393-4225-bd60-704b8e20fc70\">\n",
              "    <div class=\"colab-df-container\">\n",
              "      <div>\n",
              "<style scoped>\n",
              "    .dataframe tbody tr th:only-of-type {\n",
              "        vertical-align: middle;\n",
              "    }\n",
              "\n",
              "    .dataframe tbody tr th {\n",
              "        vertical-align: top;\n",
              "    }\n",
              "\n",
              "    .dataframe thead th {\n",
              "        text-align: right;\n",
              "    }\n",
              "</style>\n",
              "<table border=\"1\" class=\"dataframe\">\n",
              "  <thead>\n",
              "    <tr style=\"text-align: right;\">\n",
              "      <th></th>\n",
              "      <th>reviewerID</th>\n",
              "      <th>asin</th>\n",
              "      <th>textinfo</th>\n",
              "      <th>overall</th>\n",
              "    </tr>\n",
              "  </thead>\n",
              "  <tbody>\n",
              "    <tr>\n",
              "      <th>0</th>\n",
              "      <td>AUI0OLXAB3KKT</td>\n",
              "      <td>B004A9SDD8</td>\n",
              "      <td>Glad to finally see this app on the android ma...</td>\n",
              "      <td>5.0</td>\n",
              "    </tr>\n",
              "    <tr>\n",
              "      <th>1</th>\n",
              "      <td>A1ZUSQ3TC3EC4C</td>\n",
              "      <td>B004A9SDD8</td>\n",
              "      <td>this app works great on the Kindle Fire... kid...</td>\n",
              "      <td>5.0</td>\n",
              "    </tr>\n",
              "    <tr>\n",
              "      <th>2</th>\n",
              "      <td>AC05OAXD72X1V</td>\n",
              "      <td>B004A9SDD8</td>\n",
              "      <td>We love these monkey's and all the concepts th...</td>\n",
              "      <td>4.0</td>\n",
              "    </tr>\n",
              "    <tr>\n",
              "      <th>3</th>\n",
              "      <td>A2RVMFOKBVM21I</td>\n",
              "      <td>B004A9SDD8</td>\n",
              "      <td>cannot get my kindle away from my 2 year old g...</td>\n",
              "      <td>5.0</td>\n",
              "    </tr>\n",
              "    <tr>\n",
              "      <th>4</th>\n",
              "      <td>A3NBSRGUWQGCMZ</td>\n",
              "      <td>B004A9SDD8</td>\n",
              "      <td>I start this app up whenever I forget what a f...</td>\n",
              "      <td>1.0</td>\n",
              "    </tr>\n",
              "  </tbody>\n",
              "</table>\n",
              "</div>\n",
              "      <button class=\"colab-df-convert\" onclick=\"convertToInteractive('df-773342eb-0393-4225-bd60-704b8e20fc70')\"\n",
              "              title=\"Convert this dataframe to an interactive table.\"\n",
              "              style=\"display:none;\">\n",
              "\n",
              "  <svg xmlns=\"http://www.w3.org/2000/svg\" height=\"24px\"viewBox=\"0 0 24 24\"\n",
              "       width=\"24px\">\n",
              "    <path d=\"M0 0h24v24H0V0z\" fill=\"none\"/>\n",
              "    <path d=\"M18.56 5.44l.94 2.06.94-2.06 2.06-.94-2.06-.94-.94-2.06-.94 2.06-2.06.94zm-11 1L8.5 8.5l.94-2.06 2.06-.94-2.06-.94L8.5 2.5l-.94 2.06-2.06.94zm10 10l.94 2.06.94-2.06 2.06-.94-2.06-.94-.94-2.06-.94 2.06-2.06.94z\"/><path d=\"M17.41 7.96l-1.37-1.37c-.4-.4-.92-.59-1.43-.59-.52 0-1.04.2-1.43.59L10.3 9.45l-7.72 7.72c-.78.78-.78 2.05 0 2.83L4 21.41c.39.39.9.59 1.41.59.51 0 1.02-.2 1.41-.59l7.78-7.78 2.81-2.81c.8-.78.8-2.07 0-2.86zM5.41 20L4 18.59l7.72-7.72 1.47 1.35L5.41 20z\"/>\n",
              "  </svg>\n",
              "      </button>\n",
              "\n",
              "\n",
              "\n",
              "    <div id=\"df-7acb024c-243c-4630-92d0-48edcc0890aa\">\n",
              "      <button class=\"colab-df-quickchart\" onclick=\"quickchart('df-7acb024c-243c-4630-92d0-48edcc0890aa')\"\n",
              "              title=\"Suggest charts.\"\n",
              "              style=\"display:none;\">\n",
              "\n",
              "<svg xmlns=\"http://www.w3.org/2000/svg\" height=\"24px\"viewBox=\"0 0 24 24\"\n",
              "     width=\"24px\">\n",
              "    <g>\n",
              "        <path d=\"M19 3H5c-1.1 0-2 .9-2 2v14c0 1.1.9 2 2 2h14c1.1 0 2-.9 2-2V5c0-1.1-.9-2-2-2zM9 17H7v-7h2v7zm4 0h-2V7h2v10zm4 0h-2v-4h2v4z\"/>\n",
              "    </g>\n",
              "</svg>\n",
              "      </button>\n",
              "    </div>\n",
              "\n",
              "<style>\n",
              "  .colab-df-quickchart {\n",
              "    background-color: #E8F0FE;\n",
              "    border: none;\n",
              "    border-radius: 50%;\n",
              "    cursor: pointer;\n",
              "    display: none;\n",
              "    fill: #1967D2;\n",
              "    height: 32px;\n",
              "    padding: 0 0 0 0;\n",
              "    width: 32px;\n",
              "  }\n",
              "\n",
              "  .colab-df-quickchart:hover {\n",
              "    background-color: #E2EBFA;\n",
              "    box-shadow: 0px 1px 2px rgba(60, 64, 67, 0.3), 0px 1px 3px 1px rgba(60, 64, 67, 0.15);\n",
              "    fill: #174EA6;\n",
              "  }\n",
              "\n",
              "  [theme=dark] .colab-df-quickchart {\n",
              "    background-color: #3B4455;\n",
              "    fill: #D2E3FC;\n",
              "  }\n",
              "\n",
              "  [theme=dark] .colab-df-quickchart:hover {\n",
              "    background-color: #434B5C;\n",
              "    box-shadow: 0px 1px 3px 1px rgba(0, 0, 0, 0.15);\n",
              "    filter: drop-shadow(0px 1px 2px rgba(0, 0, 0, 0.3));\n",
              "    fill: #FFFFFF;\n",
              "  }\n",
              "</style>\n",
              "\n",
              "    <script>\n",
              "      async function quickchart(key) {\n",
              "        const containerElement = document.querySelector('#' + key);\n",
              "        const charts = await google.colab.kernel.invokeFunction(\n",
              "            'suggestCharts', [key], {});\n",
              "      }\n",
              "    </script>\n",
              "\n",
              "      <script>\n",
              "\n",
              "function displayQuickchartButton(domScope) {\n",
              "  let quickchartButtonEl =\n",
              "    domScope.querySelector('#df-7acb024c-243c-4630-92d0-48edcc0890aa button.colab-df-quickchart');\n",
              "  quickchartButtonEl.style.display =\n",
              "    google.colab.kernel.accessAllowed ? 'block' : 'none';\n",
              "}\n",
              "\n",
              "        displayQuickchartButton(document);\n",
              "      </script>\n",
              "      <style>\n",
              "    .colab-df-container {\n",
              "      display:flex;\n",
              "      flex-wrap:wrap;\n",
              "      gap: 12px;\n",
              "    }\n",
              "\n",
              "    .colab-df-convert {\n",
              "      background-color: #E8F0FE;\n",
              "      border: none;\n",
              "      border-radius: 50%;\n",
              "      cursor: pointer;\n",
              "      display: none;\n",
              "      fill: #1967D2;\n",
              "      height: 32px;\n",
              "      padding: 0 0 0 0;\n",
              "      width: 32px;\n",
              "    }\n",
              "\n",
              "    .colab-df-convert:hover {\n",
              "      background-color: #E2EBFA;\n",
              "      box-shadow: 0px 1px 2px rgba(60, 64, 67, 0.3), 0px 1px 3px 1px rgba(60, 64, 67, 0.15);\n",
              "      fill: #174EA6;\n",
              "    }\n",
              "\n",
              "    [theme=dark] .colab-df-convert {\n",
              "      background-color: #3B4455;\n",
              "      fill: #D2E3FC;\n",
              "    }\n",
              "\n",
              "    [theme=dark] .colab-df-convert:hover {\n",
              "      background-color: #434B5C;\n",
              "      box-shadow: 0px 1px 3px 1px rgba(0, 0, 0, 0.15);\n",
              "      filter: drop-shadow(0px 1px 2px rgba(0, 0, 0, 0.3));\n",
              "      fill: #FFFFFF;\n",
              "    }\n",
              "  </style>\n",
              "\n",
              "      <script>\n",
              "        const buttonEl =\n",
              "          document.querySelector('#df-773342eb-0393-4225-bd60-704b8e20fc70 button.colab-df-convert');\n",
              "        buttonEl.style.display =\n",
              "          google.colab.kernel.accessAllowed ? 'block' : 'none';\n",
              "\n",
              "        async function convertToInteractive(key) {\n",
              "          const element = document.querySelector('#df-773342eb-0393-4225-bd60-704b8e20fc70');\n",
              "          const dataTable =\n",
              "            await google.colab.kernel.invokeFunction('convertToInteractive',\n",
              "                                                     [key], {});\n",
              "          if (!dataTable) return;\n",
              "\n",
              "          const docLinkHtml = 'Like what you see? Visit the ' +\n",
              "            '<a target=\"_blank\" href=https://colab.research.google.com/notebooks/data_table.ipynb>data table notebook</a>'\n",
              "            + ' to learn more about interactive tables.';\n",
              "          element.innerHTML = '';\n",
              "          dataTable['output_type'] = 'display_data';\n",
              "          await google.colab.output.renderOutput(dataTable, element);\n",
              "          const docLink = document.createElement('div');\n",
              "          docLink.innerHTML = docLinkHtml;\n",
              "          element.appendChild(docLink);\n",
              "        }\n",
              "      </script>\n",
              "    </div>\n",
              "  </div>\n"
            ]
          },
          "metadata": {},
          "execution_count": 12
        }
      ]
    },
    {
      "cell_type": "code",
      "source": [
        "df.textinfo[0]"
      ],
      "metadata": {
        "colab": {
          "base_uri": "https://localhost:8080/",
          "height": 70
        },
        "id": "v-dG0Hs9VtEH",
        "outputId": "4cebcd4d-ef05-4e15-dec0-a2a78526f9b1"
      },
      "execution_count": 13,
      "outputs": [
        {
          "output_type": "execute_result",
          "data": {
            "text/plain": [
              "\"Glad to finally see this app on the android market.  my wife has it on her iphone and ipad and my son (15 months) loves it!  Hopefully more apps like this are on the way! Great app!!! ['Apps for Android', 'Kids']\""
            ],
            "application/vnd.google.colaboratory.intrinsic+json": {
              "type": "string"
            }
          },
          "metadata": {},
          "execution_count": 13
        }
      ]
    },
    {
      "cell_type": "code",
      "source": [
        "##==== check for nan===================\n",
        "\n",
        "df.isnull().sum()\n"
      ],
      "metadata": {
        "colab": {
          "base_uri": "https://localhost:8080/"
        },
        "id": "PJz4gKIfV3CO",
        "outputId": "ea671d19-8d79-4579-91b5-972409b3868b"
      },
      "execution_count": 14,
      "outputs": [
        {
          "output_type": "execute_result",
          "data": {
            "text/plain": [
              "reviewerID    0\n",
              "asin          0\n",
              "textinfo      0\n",
              "overall       0\n",
              "dtype: int64"
            ]
          },
          "metadata": {},
          "execution_count": 14
        }
      ]
    },
    {
      "cell_type": "code",
      "source": [
        "df.info()"
      ],
      "metadata": {
        "id": "9g7lfGGJOTGX",
        "colab": {
          "base_uri": "https://localhost:8080/"
        },
        "outputId": "659a6a13-98e6-4a55-a7bd-a42fb5c56d7a"
      },
      "execution_count": 15,
      "outputs": [
        {
          "output_type": "stream",
          "name": "stdout",
          "text": [
            "<class 'pandas.core.frame.DataFrame'>\n",
            "Int64Index: 2638173 entries, 0 to 2638172\n",
            "Data columns (total 4 columns):\n",
            " #   Column      Dtype  \n",
            "---  ------      -----  \n",
            " 0   reviewerID  object \n",
            " 1   asin        object \n",
            " 2   textinfo    object \n",
            " 3   overall     float64\n",
            "dtypes: float64(1), object(3)\n",
            "memory usage: 100.6+ MB\n"
          ]
        }
      ]
    },
    {
      "cell_type": "code",
      "source": [
        "print(df.shape)"
      ],
      "metadata": {
        "id": "ppR7PdKDkUXQ",
        "colab": {
          "base_uri": "https://localhost:8080/"
        },
        "outputId": "14654ee9-caf3-4c8a-e643-132656d1bec3"
      },
      "execution_count": 15,
      "outputs": [
        {
          "output_type": "stream",
          "name": "stdout",
          "text": [
            "(2638173, 4)\n"
          ]
        }
      ]
    },
    {
      "cell_type": "code",
      "source": [
        "df['reviewerID'].value_counts()[0:50].plot(kind='bar', title='Number of Reviews by top 50 customers',\\\n",
        "                                         legend=True, figsize=(15,8), fontsize=12)"
      ],
      "metadata": {
        "id": "xpkX2UJuO2ml",
        "colab": {
          "base_uri": "https://localhost:8080/",
          "height": 874
        },
        "outputId": "2f1afbe3-d229-40fc-f543-42ade0fd2311"
      },
      "execution_count": null,
      "outputs": [
        {
          "output_type": "execute_result",
          "data": {
            "text/plain": [
              "<Axes: title={'center': 'Number of Reviews by top 50 customers'}>"
            ]
          },
          "metadata": {},
          "execution_count": 19
        },
        {
          "output_type": "display_data",
          "data": {
            "text/plain": [
              "<Figure size 1500x800 with 1 Axes>"
            ],
            "image/png": "[encoded data removed]"
          },
          "metadata": {}
        }
      ]
    },
    {
      "cell_type": "code",
      "source": [
        "df['asin'].value_counts()[0:50].plot(kind='bar', title='Number of Reviews for top 50 Apps',\\\n",
        "                                         legend=True, figsize=(15,5), fontsize=12)"
      ],
      "metadata": {
        "id": "FR3YeCoUPw6r",
        "colab": {
          "base_uri": "https://localhost:8080/",
          "height": 590
        },
        "outputId": "16b56f92-3df8-4672-e7ad-02c2304dbd1e"
      },
      "execution_count": null,
      "outputs": [
        {
          "output_type": "execute_result",
          "data": {
            "text/plain": [
              "<Axes: title={'center': 'Number of Reviews for top 50 Apps'}>"
            ]
          },
          "metadata": {},
          "execution_count": 20
        },
        {
          "output_type": "display_data",
          "data": {
            "text/plain": [
              "<Figure size 1500x500 with 1 Axes>"
            ],
            "image/png": "[encoded data removed]"
          },
          "metadata": {}
        }
      ]
    },
    {
      "cell_type": "code",
      "source": [
        "##======== Average ratings for the top 50 Apps ==============================\n",
        "\n",
        "df2 = df.groupby(['asin'])\n",
        "list_app_ratings = []\n",
        "for apps,y in df2:\n",
        "  list_app_ratings.append({'asin': apps, 'average_rating': y['overall'].mean(),\\\n",
        "                           'review_count':y.shape[0]})"
      ],
      "metadata": {
        "id": "oUnuCIvHRBu-"
      },
      "execution_count": null,
      "outputs": []
    },
    {
      "cell_type": "code",
      "source": [
        "df_avg_rating = pd.DataFrame(list_app_ratings)\n",
        "df_avg_rating_sorted = df_avg_rating.sort_values(by = 'review_count', ascending=False)"
      ],
      "metadata": {
        "id": "pwWB9JCmR45g"
      },
      "execution_count": null,
      "outputs": []
    },
    {
      "cell_type": "code",
      "source": [
        "df_avg_rating_sorted[['asin', 'average_rating']][0:50].plot(kind='bar', x='asin',\\\n",
        "                                                              title = 'Average ratings for top 50 Apps',\\\n",
        "                                                              figsize=(15,10), legend=True, fontsize=12)"
      ],
      "metadata": {
        "id": "HcSTvI7aScwK",
        "colab": {
          "base_uri": "https://localhost:8080/",
          "height": 994
        },
        "outputId": "6391f3af-21d8-435d-8256-820fa1ad7a27"
      },
      "execution_count": null,
      "outputs": [
        {
          "output_type": "execute_result",
          "data": {
            "text/plain": [
              "<Axes: title={'center': 'Average ratings for top 50 Apps'}, xlabel='asin'>"
            ]
          },
          "metadata": {},
          "execution_count": 32
        },
        {
          "output_type": "display_data",
          "data": {
            "text/plain": [
              "<Figure size 1500x1000 with 1 Axes>"
            ],
            "image/png": "[encoded data removed]"
          },
          "metadata": {}
        }
      ]
    },
    {
      "cell_type": "code",
      "source": [
        "df['overall'].value_counts().plot(kind='pie', title='Ratings Distribution',\\\n",
        "                                  figsize=(15,8), legend=True, fontsize=12)"
      ],
      "metadata": {
        "id": "jwTQXXihU2lZ",
        "colab": {
          "base_uri": "https://localhost:8080/",
          "height": 692
        },
        "outputId": "6d73f974-4d84-494e-e44c-a474dce6d297"
      },
      "execution_count": null,
      "outputs": [
        {
          "output_type": "execute_result",
          "data": {
            "text/plain": [
              "<Axes: title={'center': 'Ratings Distribution'}, ylabel='overall'>"
            ]
          },
          "metadata": {},
          "execution_count": 34
        },
        {
          "output_type": "display_data",
          "data": {
            "text/plain": [
              "<Figure size 1500x800 with 1 Axes>"
            ],
            "image/png": "[encoded data removed]"
          },
          "metadata": {}
        }
      ]
    },
    {
      "cell_type": "code",
      "source": [
        "print('numer of users/reviewers:')\n",
        "print(df['reviewerID'].nunique())\n",
        "print('number of android apps:')\n",
        "print(df['asin'].nunique())"
      ],
      "metadata": {
        "colab": {
          "base_uri": "https://localhost:8080/"
        },
        "id": "JegwrXY3QZb9",
        "outputId": "ef886128-3e8e-47bd-e425-4097a54a2b01"
      },
      "execution_count": 16,
      "outputs": [
        {
          "output_type": "stream",
          "name": "stdout",
          "text": [
            "numer of users/reviewers:\n",
            "1323884\n",
            "number of android apps:\n",
            "61275\n"
          ]
        }
      ]
    },
    {
      "cell_type": "code",
      "source": [
        "##===== Due to hardware resource limitation, we will be using only 70% of the data for this model ===========\n",
        "\n",
        "df = df.sample(frac=0.70)\n",
        "df"
      ],
      "metadata": {
        "colab": {
          "base_uri": "https://localhost:8080/",
          "height": 467
        },
        "id": "ecSPbX6cHHFT",
        "outputId": "af849ee3-2081-4c7d-b8e3-6b08b3e3e0e5"
      },
      "execution_count": 16,
      "outputs": [
        {
          "output_type": "execute_result",
          "data": {
            "text/plain": [
              "             reviewerID        asin  \\\n",
              "1004957   A6FVVC7VYAS4R  B00846GMHW   \n",
              "1677277  A2ONBQL0UA0VSV  B00AUXZJAS   \n",
              "737603   A3PN4N56T9ISK1  B0073LWEXK   \n",
              "2433501  A2C05OHYJERICI  B00GY0HJ4K   \n",
              "1487980  A1C0RRDB3OQGGN  B009ZXRC9A   \n",
              "...                 ...         ...   \n",
              "1124448  A1VIAP2ID9932K  B008IVFIXC   \n",
              "2426717  A2E5EH2L2VWWMH  B00GUY712U   \n",
              "1078141  A176SURVLN5ECB  B008AZGWYK   \n",
              "565388   A225JMB689O9WN  B0067VKQLE   \n",
              "230184   A3P0RNMQ3T6K0B  B004VPC1H0   \n",
              "\n",
              "                                                  textinfo  overall  \n",
              "1004957  fun and cool game. its a real time killer. it ...      5.0  \n",
              "1677277  I would recommend this app. to anyone who is f...      4.0  \n",
              "737603   This is a great game! It is longer than its pr...      5.0  \n",
              "2433501  Pretty much a Candy Crush rip off, Includes th...      1.0  \n",
              "1487980  The game was cool, but a little hard!!!!! But ...      5.0  \n",
              "...                                                    ...      ...  \n",
              "1124448  big win mma.that'll be cool. please fix errors...      1.0  \n",
              "2426717  I love the cute faces there so cut but there i...      5.0  \n",
              "1078141  There are so many times over the years before ...      5.0  \n",
              "565388   If the Kindle is not charging then the kids or...      3.0  \n",
              "230184   Worked perfectly with my kindle fire hd!  I've...      5.0  \n",
              "\n",
              "[1846721 rows x 4 columns]"
            ],
            "text/html": [
              "\n",
              "\n",
              "  <div id=\"df-1e096298-c48e-4a5f-8413-f052ea78502c\">\n",
              "    <div class=\"colab-df-container\">\n",
              "      <div>\n",
              "<style scoped>\n",
              "    .dataframe tbody tr th:only-of-type {\n",
              "        vertical-align: middle;\n",
              "    }\n",
              "\n",
              "    .dataframe tbody tr th {\n",
              "        vertical-align: top;\n",
              "    }\n",
              "\n",
              "    .dataframe thead th {\n",
              "        text-align: right;\n",
              "    }\n",
              "</style>\n",
              "<table border=\"1\" class=\"dataframe\">\n",
              "  <thead>\n",
              "    <tr style=\"text-align: right;\">\n",
              "      <th></th>\n",
              "      <th>reviewerID</th>\n",
              "      <th>asin</th>\n",
              "      <th>textinfo</th>\n",
              "      <th>overall</th>\n",
              "    </tr>\n",
              "  </thead>\n",
              "  <tbody>\n",
              "    <tr>\n",
              "      <th>1004957</th>\n",
              "      <td>A6FVVC7VYAS4R</td>\n",
              "      <td>B00846GMHW</td>\n",
              "      <td>fun and cool game. its a real time killer. it ...</td>\n",
              "      <td>5.0</td>\n",
              "    </tr>\n",
              "    <tr>\n",
              "      <th>1677277</th>\n",
              "      <td>A2ONBQL0UA0VSV</td>\n",
              "      <td>B00AUXZJAS</td>\n",
              "      <td>I would recommend this app. to anyone who is f...</td>\n",
              "      <td>4.0</td>\n",
              "    </tr>\n",
              "    <tr>\n",
              "      <th>737603</th>\n",
              "      <td>A3PN4N56T9ISK1</td>\n",
              "      <td>B0073LWEXK</td>\n",
              "      <td>This is a great game! It is longer than its pr...</td>\n",
              "      <td>5.0</td>\n",
              "    </tr>\n",
              "    <tr>\n",
              "      <th>2433501</th>\n",
              "      <td>A2C05OHYJERICI</td>\n",
              "      <td>B00GY0HJ4K</td>\n",
              "      <td>Pretty much a Candy Crush rip off, Includes th...</td>\n",
              "      <td>1.0</td>\n",
              "    </tr>\n",
              "    <tr>\n",
              "      <th>1487980</th>\n",
              "      <td>A1C0RRDB3OQGGN</td>\n",
              "      <td>B009ZXRC9A</td>\n",
              "      <td>The game was cool, but a little hard!!!!! But ...</td>\n",
              "      <td>5.0</td>\n",
              "    </tr>\n",
              "    <tr>\n",
              "      <th>...</th>\n",
              "      <td>...</td>\n",
              "      <td>...</td>\n",
              "      <td>...</td>\n",
              "      <td>...</td>\n",
              "    </tr>\n",
              "    <tr>\n",
              "      <th>1124448</th>\n",
              "      <td>A1VIAP2ID9932K</td>\n",
              "      <td>B008IVFIXC</td>\n",
              "      <td>big win mma.that'll be cool. please fix errors...</td>\n",
              "      <td>1.0</td>\n",
              "    </tr>\n",
              "    <tr>\n",
              "      <th>2426717</th>\n",
              "      <td>A2E5EH2L2VWWMH</td>\n",
              "      <td>B00GUY712U</td>\n",
              "      <td>I love the cute faces there so cut but there i...</td>\n",
              "      <td>5.0</td>\n",
              "    </tr>\n",
              "    <tr>\n",
              "      <th>1078141</th>\n",
              "      <td>A176SURVLN5ECB</td>\n",
              "      <td>B008AZGWYK</td>\n",
              "      <td>There are so many times over the years before ...</td>\n",
              "      <td>5.0</td>\n",
              "    </tr>\n",
              "    <tr>\n",
              "      <th>565388</th>\n",
              "      <td>A225JMB689O9WN</td>\n",
              "      <td>B0067VKQLE</td>\n",
              "      <td>If the Kindle is not charging then the kids or...</td>\n",
              "      <td>3.0</td>\n",
              "    </tr>\n",
              "    <tr>\n",
              "      <th>230184</th>\n",
              "      <td>A3P0RNMQ3T6K0B</td>\n",
              "      <td>B004VPC1H0</td>\n",
              "      <td>Worked perfectly with my kindle fire hd!  I've...</td>\n",
              "      <td>5.0</td>\n",
              "    </tr>\n",
              "  </tbody>\n",
              "</table>\n",
              "<p>1846721 rows × 4 columns</p>\n",
              "</div>\n",
              "      <button class=\"colab-df-convert\" onclick=\"convertToInteractive('df-1e096298-c48e-4a5f-8413-f052ea78502c')\"\n",
              "              title=\"Convert this dataframe to an interactive table.\"\n",
              "              style=\"display:none;\">\n",
              "\n",
              "  <svg xmlns=\"http://www.w3.org/2000/svg\" height=\"24px\"viewBox=\"0 0 24 24\"\n",
              "       width=\"24px\">\n",
              "    <path d=\"M0 0h24v24H0V0z\" fill=\"none\"/>\n",
              "    <path d=\"M18.56 5.44l.94 2.06.94-2.06 2.06-.94-2.06-.94-.94-2.06-.94 2.06-2.06.94zm-11 1L8.5 8.5l.94-2.06 2.06-.94-2.06-.94L8.5 2.5l-.94 2.06-2.06.94zm10 10l.94 2.06.94-2.06 2.06-.94-2.06-.94-.94-2.06-.94 2.06-2.06.94z\"/><path d=\"M17.41 7.96l-1.37-1.37c-.4-.4-.92-.59-1.43-.59-.52 0-1.04.2-1.43.59L10.3 9.45l-7.72 7.72c-.78.78-.78 2.05 0 2.83L4 21.41c.39.39.9.59 1.41.59.51 0 1.02-.2 1.41-.59l7.78-7.78 2.81-2.81c.8-.78.8-2.07 0-2.86zM5.41 20L4 18.59l7.72-7.72 1.47 1.35L5.41 20z\"/>\n",
              "  </svg>\n",
              "      </button>\n",
              "\n",
              "\n",
              "\n",
              "    <div id=\"df-1395c721-fecc-47ba-a33e-9d9e53ad8779\">\n",
              "      <button class=\"colab-df-quickchart\" onclick=\"quickchart('df-1395c721-fecc-47ba-a33e-9d9e53ad8779')\"\n",
              "              title=\"Suggest charts.\"\n",
              "              style=\"display:none;\">\n",
              "\n",
              "<svg xmlns=\"http://www.w3.org/2000/svg\" height=\"24px\"viewBox=\"0 0 24 24\"\n",
              "     width=\"24px\">\n",
              "    <g>\n",
              "        <path d=\"M19 3H5c-1.1 0-2 .9-2 2v14c0 1.1.9 2 2 2h14c1.1 0 2-.9 2-2V5c0-1.1-.9-2-2-2zM9 17H7v-7h2v7zm4 0h-2V7h2v10zm4 0h-2v-4h2v4z\"/>\n",
              "    </g>\n",
              "</svg>\n",
              "      </button>\n",
              "    </div>\n",
              "\n",
              "<style>\n",
              "  .colab-df-quickchart {\n",
              "    background-color: #E8F0FE;\n",
              "    border: none;\n",
              "    border-radius: 50%;\n",
              "    cursor: pointer;\n",
              "    display: none;\n",
              "    fill: #1967D2;\n",
              "    height: 32px;\n",
              "    padding: 0 0 0 0;\n",
              "    width: 32px;\n",
              "  }\n",
              "\n",
              "  .colab-df-quickchart:hover {\n",
              "    background-color: #E2EBFA;\n",
              "    box-shadow: 0px 1px 2px rgba(60, 64, 67, 0.3), 0px 1px 3px 1px rgba(60, 64, 67, 0.15);\n",
              "    fill: #174EA6;\n",
              "  }\n",
              "\n",
              "  [theme=dark] .colab-df-quickchart {\n",
              "    background-color: #3B4455;\n",
              "    fill: #D2E3FC;\n",
              "  }\n",
              "\n",
              "  [theme=dark] .colab-df-quickchart:hover {\n",
              "    background-color: #434B5C;\n",
              "    box-shadow: 0px 1px 3px 1px rgba(0, 0, 0, 0.15);\n",
              "    filter: drop-shadow(0px 1px 2px rgba(0, 0, 0, 0.3));\n",
              "    fill: #FFFFFF;\n",
              "  }\n",
              "</style>\n",
              "\n",
              "    <script>\n",
              "      async function quickchart(key) {\n",
              "        const containerElement = document.querySelector('#' + key);\n",
              "        const charts = await google.colab.kernel.invokeFunction(\n",
              "            'suggestCharts', [key], {});\n",
              "      }\n",
              "    </script>\n",
              "\n",
              "      <script>\n",
              "\n",
              "function displayQuickchartButton(domScope) {\n",
              "  let quickchartButtonEl =\n",
              "    domScope.querySelector('#df-1395c721-fecc-47ba-a33e-9d9e53ad8779 button.colab-df-quickchart');\n",
              "  quickchartButtonEl.style.display =\n",
              "    google.colab.kernel.accessAllowed ? 'block' : 'none';\n",
              "}\n",
              "\n",
              "        displayQuickchartButton(document);\n",
              "      </script>\n",
              "      <style>\n",
              "    .colab-df-container {\n",
              "      display:flex;\n",
              "      flex-wrap:wrap;\n",
              "      gap: 12px;\n",
              "    }\n",
              "\n",
              "    .colab-df-convert {\n",
              "      background-color: #E8F0FE;\n",
              "      border: none;\n",
              "      border-radius: 50%;\n",
              "      cursor: pointer;\n",
              "      display: none;\n",
              "      fill: #1967D2;\n",
              "      height: 32px;\n",
              "      padding: 0 0 0 0;\n",
              "      width: 32px;\n",
              "    }\n",
              "\n",
              "    .colab-df-convert:hover {\n",
              "      background-color: #E2EBFA;\n",
              "      box-shadow: 0px 1px 2px rgba(60, 64, 67, 0.3), 0px 1px 3px 1px rgba(60, 64, 67, 0.15);\n",
              "      fill: #174EA6;\n",
              "    }\n",
              "\n",
              "    [theme=dark] .colab-df-convert {\n",
              "      background-color: #3B4455;\n",
              "      fill: #D2E3FC;\n",
              "    }\n",
              "\n",
              "    [theme=dark] .colab-df-convert:hover {\n",
              "      background-color: #434B5C;\n",
              "      box-shadow: 0px 1px 3px 1px rgba(0, 0, 0, 0.15);\n",
              "      filter: drop-shadow(0px 1px 2px rgba(0, 0, 0, 0.3));\n",
              "      fill: #FFFFFF;\n",
              "    }\n",
              "  </style>\n",
              "\n",
              "      <script>\n",
              "        const buttonEl =\n",
              "          document.querySelector('#df-1e096298-c48e-4a5f-8413-f052ea78502c button.colab-df-convert');\n",
              "        buttonEl.style.display =\n",
              "          google.colab.kernel.accessAllowed ? 'block' : 'none';\n",
              "\n",
              "        async function convertToInteractive(key) {\n",
              "          const element = document.querySelector('#df-1e096298-c48e-4a5f-8413-f052ea78502c');\n",
              "          const dataTable =\n",
              "            await google.colab.kernel.invokeFunction('convertToInteractive',\n",
              "                                                     [key], {});\n",
              "          if (!dataTable) return;\n",
              "\n",
              "          const docLinkHtml = 'Like what you see? Visit the ' +\n",
              "            '<a target=\"_blank\" href=https://colab.research.google.com/notebooks/data_table.ipynb>data table notebook</a>'\n",
              "            + ' to learn more about interactive tables.';\n",
              "          element.innerHTML = '';\n",
              "          dataTable['output_type'] = 'display_data';\n",
              "          await google.colab.output.renderOutput(dataTable, element);\n",
              "          const docLink = document.createElement('div');\n",
              "          docLink.innerHTML = docLinkHtml;\n",
              "          element.appendChild(docLink);\n",
              "        }\n",
              "      </script>\n",
              "    </div>\n",
              "  </div>\n"
            ]
          },
          "metadata": {},
          "execution_count": 16
        }
      ]
    },
    {
      "cell_type": "markdown",
      "source": [
        "## Data preprocessing"
      ],
      "metadata": {
        "id": "aZq3ZOj9flR5"
      }
    },
    {
      "cell_type": "code",
      "source": [
        "## removing long tail, i.e users with lower than 5 occurences and products with lower than 10 occurences\n",
        "\n",
        "import pandas as pd\n",
        "from sklearn.preprocessing import LabelEncoder\n",
        "\n",
        "def prepare_train_data(df):\n",
        "    # frequency of occurence\n",
        "    reviewers = df['reviewerID'].value_counts()\n",
        "    products = df['asin'].value_counts()\n",
        "\n",
        "    # Filter the DataFrame to include only interactions involving customers and products with at least five ratings.\n",
        "    reviewers = reviewers[reviewers >= 5]\n",
        "    products = products[products >= 5]\n",
        "\n",
        "    reduced_df = df[df['reviewerID'].isin(reviewers.index) & df['asin'].isin(products.index)]\n",
        "\n",
        "    # Use LabelEncoder to generate unique indices for 'customer_id'\n",
        "    customer_encoder = LabelEncoder()\n",
        "    reduced_df['user_id'] = customer_encoder.fit_transform(reduced_df['reviewerID'])\n",
        "\n",
        "    # Use LabelEncoder to generate unique indices for 'product_id' (item column)\n",
        "    product_encoder = LabelEncoder()\n",
        "    reduced_df['Apps_id'] = product_encoder.fit_transform(reduced_df['asin'])\n",
        "\n",
        "    return reduced_df"
      ],
      "metadata": {
        "id": "nkQp0brXXiZL"
      },
      "execution_count": 17,
      "outputs": []
    },
    {
      "cell_type": "code",
      "source": [
        "\n",
        "#=========Print the optimized DataFrame=======\n",
        "data_df = prepare_train_data(df)\n",
        "\n",
        "data_df"
      ],
      "metadata": {
        "colab": {
          "base_uri": "https://localhost:8080/",
          "height": 641
        },
        "id": "j9H1basE2NMA",
        "outputId": "a334d891-8105-4a58-f91c-56cf130f9cf5"
      },
      "execution_count": 18,
      "outputs": [
        {
          "output_type": "execute_result",
          "data": {
            "text/plain": [
              "             reviewerID        asin  \\\n",
              "2433501  A2C05OHYJERICI  B00GY0HJ4K   \n",
              "1704354   AQWUXKCQD78XH  B00B2V66VS   \n",
              "307773    AQY0ESG2RI042  B0054JZC6E   \n",
              "919600    AGEYCHA416RX2  B007U8JRWW   \n",
              "2092203  A1KKNDVMW7AIEL  B00DRPVE3M   \n",
              "...                 ...         ...   \n",
              "2530951  A233IZSRZRL2CL  B00I8Q77Y0   \n",
              "2290410   A6AWX1Y3MOH0W  B00FATEJYE   \n",
              "2426717  A2E5EH2L2VWWMH  B00GUY712U   \n",
              "1078141  A176SURVLN5ECB  B008AZGWYK   \n",
              "565388   A225JMB689O9WN  B0067VKQLE   \n",
              "\n",
              "                                                  textinfo  overall  user_id  \\\n",
              "2433501  Pretty much a Candy Crush rip off, Includes th...      1.0    19039   \n",
              "1704354  Better than Temple Run. More play options. Gat...      5.0    50402   \n",
              "307773   great games with wide variety of choices to pl...      3.0    50414   \n",
              "919600   i think its creepy because you have to think a...      3.0    46242   \n",
              "2092203  I Have always loved playing Uno in it's many f...      4.0     8134   \n",
              "...                                                    ...      ...      ...   \n",
              "2530951  The app is surprising good. I thought it was g...      5.0    15461   \n",
              "2290410  console edition was perfect, then they put a k...      5.0    42168   \n",
              "2426717  I love the cute faces there so cut but there i...      5.0    19890   \n",
              "1078141  There are so many times over the years before ...      5.0     2887   \n",
              "565388   If the Kindle is not charging then the kids or...      3.0    15047   \n",
              "\n",
              "         Apps_id  \n",
              "2433501    16176  \n",
              "1704354    10917  \n",
              "307773      1899  \n",
              "919600      6025  \n",
              "2092203    13689  \n",
              "...          ...  \n",
              "2530951    17126  \n",
              "2290410    15075  \n",
              "2426717    16119  \n",
              "1078141     7055  \n",
              "565388      3231  \n",
              "\n",
              "[428775 rows x 6 columns]"
            ],
            "text/html": [
              "\n",
              "\n",
              "  <div id=\"df-ed49134d-ca52-490e-87e5-39bf4f7da965\">\n",
              "    <div class=\"colab-df-container\">\n",
              "      <div>\n",
              "<style scoped>\n",
              "    .dataframe tbody tr th:only-of-type {\n",
              "        vertical-align: middle;\n",
              "    }\n",
              "\n",
              "    .dataframe tbody tr th {\n",
              "        vertical-align: top;\n",
              "    }\n",
              "\n",
              "    .dataframe thead th {\n",
              "        text-align: right;\n",
              "    }\n",
              "</style>\n",
              "<table border=\"1\" class=\"dataframe\">\n",
              "  <thead>\n",
              "    <tr style=\"text-align: right;\">\n",
              "      <th></th>\n",
              "      <th>reviewerID</th>\n",
              "      <th>asin</th>\n",
              "      <th>textinfo</th>\n",
              "      <th>overall</th>\n",
              "      <th>user_id</th>\n",
              "      <th>Apps_id</th>\n",
              "    </tr>\n",
              "  </thead>\n",
              "  <tbody>\n",
              "    <tr>\n",
              "      <th>2433501</th>\n",
              "      <td>A2C05OHYJERICI</td>\n",
              "      <td>B00GY0HJ4K</td>\n",
              "      <td>Pretty much a Candy Crush rip off, Includes th...</td>\n",
              "      <td>1.0</td>\n",
              "      <td>19039</td>\n",
              "      <td>16176</td>\n",
              "    </tr>\n",
              "    <tr>\n",
              "      <th>1704354</th>\n",
              "      <td>AQWUXKCQD78XH</td>\n",
              "      <td>B00B2V66VS</td>\n",
              "      <td>Better than Temple Run. More play options. Gat...</td>\n",
              "      <td>5.0</td>\n",
              "      <td>50402</td>\n",
              "      <td>10917</td>\n",
              "    </tr>\n",
              "    <tr>\n",
              "      <th>307773</th>\n",
              "      <td>AQY0ESG2RI042</td>\n",
              "      <td>B0054JZC6E</td>\n",
              "      <td>great games with wide variety of choices to pl...</td>\n",
              "      <td>3.0</td>\n",
              "      <td>50414</td>\n",
              "      <td>1899</td>\n",
              "    </tr>\n",
              "    <tr>\n",
              "      <th>919600</th>\n",
              "      <td>AGEYCHA416RX2</td>\n",
              "      <td>B007U8JRWW</td>\n",
              "      <td>i think its creepy because you have to think a...</td>\n",
              "      <td>3.0</td>\n",
              "      <td>46242</td>\n",
              "      <td>6025</td>\n",
              "    </tr>\n",
              "    <tr>\n",
              "      <th>2092203</th>\n",
              "      <td>A1KKNDVMW7AIEL</td>\n",
              "      <td>B00DRPVE3M</td>\n",
              "      <td>I Have always loved playing Uno in it's many f...</td>\n",
              "      <td>4.0</td>\n",
              "      <td>8134</td>\n",
              "      <td>13689</td>\n",
              "    </tr>\n",
              "    <tr>\n",
              "      <th>...</th>\n",
              "      <td>...</td>\n",
              "      <td>...</td>\n",
              "      <td>...</td>\n",
              "      <td>...</td>\n",
              "      <td>...</td>\n",
              "      <td>...</td>\n",
              "    </tr>\n",
              "    <tr>\n",
              "      <th>2530951</th>\n",
              "      <td>A233IZSRZRL2CL</td>\n",
              "      <td>B00I8Q77Y0</td>\n",
              "      <td>The app is surprising good. I thought it was g...</td>\n",
              "      <td>5.0</td>\n",
              "      <td>15461</td>\n",
              "      <td>17126</td>\n",
              "    </tr>\n",
              "    <tr>\n",
              "      <th>2290410</th>\n",
              "      <td>A6AWX1Y3MOH0W</td>\n",
              "      <td>B00FATEJYE</td>\n",
              "      <td>console edition was perfect, then they put a k...</td>\n",
              "      <td>5.0</td>\n",
              "      <td>42168</td>\n",
              "      <td>15075</td>\n",
              "    </tr>\n",
              "    <tr>\n",
              "      <th>2426717</th>\n",
              "      <td>A2E5EH2L2VWWMH</td>\n",
              "      <td>B00GUY712U</td>\n",
              "      <td>I love the cute faces there so cut but there i...</td>\n",
              "      <td>5.0</td>\n",
              "      <td>19890</td>\n",
              "      <td>16119</td>\n",
              "    </tr>\n",
              "    <tr>\n",
              "      <th>1078141</th>\n",
              "      <td>A176SURVLN5ECB</td>\n",
              "      <td>B008AZGWYK</td>\n",
              "      <td>There are so many times over the years before ...</td>\n",
              "      <td>5.0</td>\n",
              "      <td>2887</td>\n",
              "      <td>7055</td>\n",
              "    </tr>\n",
              "    <tr>\n",
              "      <th>565388</th>\n",
              "      <td>A225JMB689O9WN</td>\n",
              "      <td>B0067VKQLE</td>\n",
              "      <td>If the Kindle is not charging then the kids or...</td>\n",
              "      <td>3.0</td>\n",
              "      <td>15047</td>\n",
              "      <td>3231</td>\n",
              "    </tr>\n",
              "  </tbody>\n",
              "</table>\n",
              "<p>428775 rows × 6 columns</p>\n",
              "</div>\n",
              "      <button class=\"colab-df-convert\" onclick=\"convertToInteractive('df-ed49134d-ca52-490e-87e5-39bf4f7da965')\"\n",
              "              title=\"Convert this dataframe to an interactive table.\"\n",
              "              style=\"display:none;\">\n",
              "\n",
              "  <svg xmlns=\"http://www.w3.org/2000/svg\" height=\"24px\"viewBox=\"0 0 24 24\"\n",
              "       width=\"24px\">\n",
              "    <path d=\"M0 0h24v24H0V0z\" fill=\"none\"/>\n",
              "    <path d=\"M18.56 5.44l.94 2.06.94-2.06 2.06-.94-2.06-.94-.94-2.06-.94 2.06-2.06.94zm-11 1L8.5 8.5l.94-2.06 2.06-.94-2.06-.94L8.5 2.5l-.94 2.06-2.06.94zm10 10l.94 2.06.94-2.06 2.06-.94-2.06-.94-.94-2.06-.94 2.06-2.06.94z\"/><path d=\"M17.41 7.96l-1.37-1.37c-.4-.4-.92-.59-1.43-.59-.52 0-1.04.2-1.43.59L10.3 9.45l-7.72 7.72c-.78.78-.78 2.05 0 2.83L4 21.41c.39.39.9.59 1.41.59.51 0 1.02-.2 1.41-.59l7.78-7.78 2.81-2.81c.8-.78.8-2.07 0-2.86zM5.41 20L4 18.59l7.72-7.72 1.47 1.35L5.41 20z\"/>\n",
              "  </svg>\n",
              "      </button>\n",
              "\n",
              "\n",
              "\n",
              "    <div id=\"df-8a577e27-449e-46d9-9e8b-109540d15dc7\">\n",
              "      <button class=\"colab-df-quickchart\" onclick=\"quickchart('df-8a577e27-449e-46d9-9e8b-109540d15dc7')\"\n",
              "              title=\"Suggest charts.\"\n",
              "              style=\"display:none;\">\n",
              "\n",
              "<svg xmlns=\"http://www.w3.org/2000/svg\" height=\"24px\"viewBox=\"0 0 24 24\"\n",
              "     width=\"24px\">\n",
              "    <g>\n",
              "        <path d=\"M19 3H5c-1.1 0-2 .9-2 2v14c0 1.1.9 2 2 2h14c1.1 0 2-.9 2-2V5c0-1.1-.9-2-2-2zM9 17H7v-7h2v7zm4 0h-2V7h2v10zm4 0h-2v-4h2v4z\"/>\n",
              "    </g>\n",
              "</svg>\n",
              "      </button>\n",
              "    </div>\n",
              "\n",
              "<style>\n",
              "  .colab-df-quickchart {\n",
              "    background-color: #E8F0FE;\n",
              "    border: none;\n",
              "    border-radius: 50%;\n",
              "    cursor: pointer;\n",
              "    display: none;\n",
              "    fill: #1967D2;\n",
              "    height: 32px;\n",
              "    padding: 0 0 0 0;\n",
              "    width: 32px;\n",
              "  }\n",
              "\n",
              "  .colab-df-quickchart:hover {\n",
              "    background-color: #E2EBFA;\n",
              "    box-shadow: 0px 1px 2px rgba(60, 64, 67, 0.3), 0px 1px 3px 1px rgba(60, 64, 67, 0.15);\n",
              "    fill: #174EA6;\n",
              "  }\n",
              "\n",
              "  [theme=dark] .colab-df-quickchart {\n",
              "    background-color: #3B4455;\n",
              "    fill: #D2E3FC;\n",
              "  }\n",
              "\n",
              "  [theme=dark] .colab-df-quickchart:hover {\n",
              "    background-color: #434B5C;\n",
              "    box-shadow: 0px 1px 3px 1px rgba(0, 0, 0, 0.15);\n",
              "    filter: drop-shadow(0px 1px 2px rgba(0, 0, 0, 0.3));\n",
              "    fill: #FFFFFF;\n",
              "  }\n",
              "</style>\n",
              "\n",
              "    <script>\n",
              "      async function quickchart(key) {\n",
              "        const containerElement = document.querySelector('#' + key);\n",
              "        const charts = await google.colab.kernel.invokeFunction(\n",
              "            'suggestCharts', [key], {});\n",
              "      }\n",
              "    </script>\n",
              "\n",
              "      <script>\n",
              "\n",
              "function displayQuickchartButton(domScope) {\n",
              "  let quickchartButtonEl =\n",
              "    domScope.querySelector('#df-8a577e27-449e-46d9-9e8b-109540d15dc7 button.colab-df-quickchart');\n",
              "  quickchartButtonEl.style.display =\n",
              "    google.colab.kernel.accessAllowed ? 'block' : 'none';\n",
              "}\n",
              "\n",
              "        displayQuickchartButton(document);\n",
              "      </script>\n",
              "      <style>\n",
              "    .colab-df-container {\n",
              "      display:flex;\n",
              "      flex-wrap:wrap;\n",
              "      gap: 12px;\n",
              "    }\n",
              "\n",
              "    .colab-df-convert {\n",
              "      background-color: #E8F0FE;\n",
              "      border: none;\n",
              "      border-radius: 50%;\n",
              "      cursor: pointer;\n",
              "      display: none;\n",
              "      fill: #1967D2;\n",
              "      height: 32px;\n",
              "      padding: 0 0 0 0;\n",
              "      width: 32px;\n",
              "    }\n",
              "\n",
              "    .colab-df-convert:hover {\n",
              "      background-color: #E2EBFA;\n",
              "      box-shadow: 0px 1px 2px rgba(60, 64, 67, 0.3), 0px 1px 3px 1px rgba(60, 64, 67, 0.15);\n",
              "      fill: #174EA6;\n",
              "    }\n",
              "\n",
              "    [theme=dark] .colab-df-convert {\n",
              "      background-color: #3B4455;\n",
              "      fill: #D2E3FC;\n",
              "    }\n",
              "\n",
              "    [theme=dark] .colab-df-convert:hover {\n",
              "      background-color: #434B5C;\n",
              "      box-shadow: 0px 1px 3px 1px rgba(0, 0, 0, 0.15);\n",
              "      filter: drop-shadow(0px 1px 2px rgba(0, 0, 0, 0.3));\n",
              "      fill: #FFFFFF;\n",
              "    }\n",
              "  </style>\n",
              "\n",
              "      <script>\n",
              "        const buttonEl =\n",
              "          document.querySelector('#df-ed49134d-ca52-490e-87e5-39bf4f7da965 button.colab-df-convert');\n",
              "        buttonEl.style.display =\n",
              "          google.colab.kernel.accessAllowed ? 'block' : 'none';\n",
              "\n",
              "        async function convertToInteractive(key) {\n",
              "          const element = document.querySelector('#df-ed49134d-ca52-490e-87e5-39bf4f7da965');\n",
              "          const dataTable =\n",
              "            await google.colab.kernel.invokeFunction('convertToInteractive',\n",
              "                                                     [key], {});\n",
              "          if (!dataTable) return;\n",
              "\n",
              "          const docLinkHtml = 'Like what you see? Visit the ' +\n",
              "            '<a target=\"_blank\" href=https://colab.research.google.com/notebooks/data_table.ipynb>data table notebook</a>'\n",
              "            + ' to learn more about interactive tables.';\n",
              "          element.innerHTML = '';\n",
              "          dataTable['output_type'] = 'display_data';\n",
              "          await google.colab.output.renderOutput(dataTable, element);\n",
              "          const docLink = document.createElement('div');\n",
              "          docLink.innerHTML = docLinkHtml;\n",
              "          element.appendChild(docLink);\n",
              "        }\n",
              "      </script>\n",
              "    </div>\n",
              "  </div>\n"
            ]
          },
          "metadata": {},
          "execution_count": 18
        }
      ]
    },
    {
      "cell_type": "code",
      "source": [
        "data_df['overall'].astype(int)\n",
        "data_df.info()\n"
      ],
      "metadata": {
        "colab": {
          "base_uri": "https://localhost:8080/"
        },
        "id": "AKj81SGo3TDK",
        "outputId": "8b91c8c7-cff8-45ed-ad8e-8b1c9e8dd968"
      },
      "execution_count": 19,
      "outputs": [
        {
          "output_type": "stream",
          "name": "stdout",
          "text": [
            "<class 'pandas.core.frame.DataFrame'>\n",
            "Int64Index: 428775 entries, 2433501 to 565388\n",
            "Data columns (total 6 columns):\n",
            " #   Column      Non-Null Count   Dtype  \n",
            "---  ------      --------------   -----  \n",
            " 0   reviewerID  428775 non-null  object \n",
            " 1   asin        428775 non-null  object \n",
            " 2   textinfo    428775 non-null  object \n",
            " 3   overall     428775 non-null  float64\n",
            " 4   user_id     428775 non-null  int64  \n",
            " 5   Apps_id     428775 non-null  int64  \n",
            "dtypes: float64(1), int64(2), object(3)\n",
            "memory usage: 22.9+ MB\n"
          ]
        }
      ]
    },
    {
      "cell_type": "code",
      "source": [
        "print('number of apps: ', data_df['asin'].nunique())\n",
        "print('number of users/reviewers: ', data_df['reviewerID'].nunique())"
      ],
      "metadata": {
        "colab": {
          "base_uri": "https://localhost:8080/"
        },
        "id": "vMBGEELxGg7S",
        "outputId": "92d20e35-7dfa-49e2-f836-208e9da144a9"
      },
      "execution_count": 20,
      "outputs": [
        {
          "output_type": "stream",
          "name": "stdout",
          "text": [
            "number of apps:  18333\n",
            "number of users/reviewers:  54024\n"
          ]
        }
      ]
    },
    {
      "cell_type": "markdown",
      "source": [
        "### Text preprocessing"
      ],
      "metadata": {
        "id": "WG6v0F6JANDx"
      }
    },
    {
      "cell_type": "markdown",
      "source": [
        "### Text cleaning and curating"
      ],
      "metadata": {
        "id": "8n1zJCmSGbeh"
      }
    },
    {
      "cell_type": "code",
      "source": [
        "import contractions\n",
        "import inflect\n",
        "from nltk.corpus import stopwords\n",
        "import re\n",
        "import numpy as np\n",
        "import pandas as pd\n",
        "from nltk.stem import PorterStemmer\n",
        "from multiprocessing import Pool, cpu_count\n",
        "from functools import partial\n",
        "\n",
        "# Download nltk data\n",
        "nltk.download('stopwords')\n",
        "nltk.download('punkt')\n",
        "\n",
        "\n"
      ],
      "metadata": {
        "id": "msocvdK3baKO",
        "colab": {
          "base_uri": "https://localhost:8080/"
        },
        "outputId": "ce6bd2cc-d14e-407d-87b8-31225ecfae95"
      },
      "execution_count": 21,
      "outputs": [
        {
          "output_type": "stream",
          "name": "stderr",
          "text": [
            "[nltk_data] Downloading package stopwords to /root/nltk_data...\n",
            "[nltk_data]   Unzipping corpora/stopwords.zip.\n",
            "[nltk_data] Downloading package punkt to /root/nltk_data...\n",
            "[nltk_data]   Unzipping tokenizers/punkt.zip.\n"
          ]
        },
        {
          "output_type": "execute_result",
          "data": {
            "text/plain": [
              "True"
            ]
          },
          "metadata": {},
          "execution_count": 21
        }
      ]
    },
    {
      "cell_type": "code",
      "source": [
        "# Expand contractions\n",
        "def contract(text):\n",
        "    tokens = text.split()\n",
        "    tokens = [contractions.fix(token) for token in tokens]\n",
        "    text = \" \".join(tokens)\n",
        "    return text\n",
        "\n",
        "def remove_stopwords(text):\n",
        "   # Remove stopwords\n",
        "    stop_words = set(stopwords.words(\"english\"))\n",
        "    tokens = text.split()\n",
        "    tokens = [token for token in tokens if token not in stop_words]\n",
        "    text = \" \".join(tokens)\n",
        "    return text\n",
        "\n",
        "def p_stem(text):\n",
        "    stemmer = PorterStemmer()\n",
        "    tokens = text.split()\n",
        "    tokens = [stemmer.stem(token) for token in tokens]\n",
        "    text = \" \".join(tokens)\n",
        "    return text\n"
      ],
      "metadata": {
        "id": "vppG7NEaFCGF"
      },
      "execution_count": 22,
      "outputs": []
    },
    {
      "cell_type": "markdown",
      "source": [
        "### **Text column cleaning**"
      ],
      "metadata": {
        "id": "EtCfkGLBGis0"
      }
    },
    {
      "cell_type": "code",
      "source": [
        "\n",
        "##========================clean data============================================\n",
        "data_df['textinfo'] = data_df['textinfo'].apply(contract)\n",
        "data_df['textinfo'] = data_df['textinfo'].apply(remove_stopwords)\n",
        "data_df['textinfo'] = data_df['textinfo'].apply(p_stem)\n",
        "\n",
        "#============== Tokenize and pad apps descriptions==============================\n",
        "\n",
        "# tokenizer = Tokenizer()\n",
        "# tokenizer.fit_on_texts(data_df['review'])\n",
        "# data_df['reviewText'] = tokenizer.texts_to_sequences(data_df['reviewText'])\n"
      ],
      "metadata": {
        "id": "rrl6gI5ywybY"
      },
      "execution_count": 23,
      "outputs": []
    },
    {
      "cell_type": "code",
      "source": [
        "\n",
        "# #======================pad sequence=============================================\n",
        "# max_sequence_length = max(len(seq) for seq in data_df['reviewText'])\n",
        "# print('maximum sequence length is:', max_sequence_length)\n",
        "\n",
        "# data_df['reviewText'] = pad_sequences(data_df['reviewText'], maxlen=max_sequence_length)\n",
        "\n",
        "# #========== pickle cleaned data ================================================\n",
        "# pickle.dump(data_df.to_dict(), open('apps_dict.pkl', 'wb'))   #save_cleaned data"
      ],
      "metadata": {
        "id": "94hWvdH8_dij"
      },
      "execution_count": null,
      "outputs": []
    },
    {
      "cell_type": "code",
      "source": [
        "#================Split the data into train and test sets========================\n",
        "train_data, test_data = train_test_split(data_df, test_size=0.2, random_state=42)"
      ],
      "metadata": {
        "id": "nyHXGUaLePQ_"
      },
      "execution_count": 24,
      "outputs": []
    },
    {
      "cell_type": "code",
      "source": [
        "train_data.reset_index(drop=True, inplace=True)\n",
        "test_data.reset_index(drop=True, inplace=True)"
      ],
      "metadata": {
        "id": "yPq9aeczgU_j"
      },
      "execution_count": 25,
      "outputs": []
    },
    {
      "cell_type": "markdown",
      "source": [
        "\n",
        "\n",
        "## **Building Model(s)**"
      ],
      "metadata": {
        "id": "fcBTUvW2x7bZ"
      }
    },
    {
      "cell_type": "markdown",
      "source": [
        "### Wide_deep_model"
      ],
      "metadata": {
        "id": "FuvtUibhEDWd"
      }
    },
    {
      "cell_type": "code",
      "source": [
        "############### Building Model ======================\n",
        "\n",
        "def wide_deep_model(apps, max_sequence_length):\n",
        "    \"\"\"Define input layers\"\"\"\n",
        "\n",
        "    reviewerID = Input(shape=(1,), name='reviewerID')\n",
        "    asin = Input(shape=(1,), name='asin')\n",
        "    tags = Input(shape=(max_sequence_length,), name='reviews')\n",
        "\n",
        "    # Embedding layers for reviewerID and asin\n",
        "    id_embedding = Embedding(input_dim=apps['reviewerID'].nunique(), output_dim=10, input_shape=(1,))(reviewerID)\n",
        "    title_embedding = Embedding(input_dim=apps['asin'].nunique(), output_dim=10, input_shape=(1,))(asin)\n",
        "\n",
        "    # Flatten the embedding layers\n",
        "    id_flatten = Flatten()(id_embedding)\n",
        "    title_flatten = Flatten()(title_embedding)\n",
        "\n",
        "    # Concatenate the flattened embeddings\n",
        "    concatenated = Concatenate()([id_flatten, title_flatten])\n",
        "\n",
        "    # Deep component\n",
        "    bn_concat = BatchNormalization()(concatenated)\n",
        "    fc1 = Dense(256, use_bias=False, activation='relu')(bn_concat)\n",
        "    bn1 = BatchNormalization()(fc1)\n",
        "    fc1 = Dropout(rate=0.2)(bn1)\n",
        "\n",
        "    fc2 = Dense(128, use_bias=False, activation='relu')(fc1)\n",
        "    bn2 = BatchNormalization()(fc2)\n",
        "    fc2 = Dropout(rate=0.2)(bn2)\n",
        "\n",
        "    fc3 = Dense(64, use_bias=False, activation='relu')(fc2)\n",
        "    bn3 = BatchNormalization()(fc3)\n",
        "    fc3 = Dropout(rate=0.2)(bn3)\n",
        "\n",
        "    deep_output = Dense(64, activation='relu')(fc3)\n",
        "\n",
        "    # Fully connected layers for the wide component\n",
        "    wide_output = Concatenate()([tags, deep_output])\n",
        "    wide_output = Dropout(rate=0.2)(wide_output)\n",
        "    wide_output = Dense(1)(wide_output)\n",
        "\n",
        "    # Model\n",
        "    model = Model(inputs=[reviewerID, asin, tags], outputs=wide_output)\n",
        "\n",
        "    # Compile the model\n",
        "    model.compile(optimizer='adam', loss='mse', metrics=['mse'])\n",
        "    return model\n"
      ],
      "metadata": {
        "id": "eeXZrLsCx29T"
      },
      "execution_count": null,
      "outputs": []
    },
    {
      "cell_type": "markdown",
      "source": [
        "#### Train wide-deep-model"
      ],
      "metadata": {
        "id": "Zyqeug1gEN2d"
      }
    },
    {
      "cell_type": "code",
      "source": [
        "model = wide_deep_model(apps, max_sequence_length)\n",
        "\n",
        "train_reviewerID = train_data['user'].values\n",
        "train_asin = train_data['App'].values\n",
        "train_tags = train_data['reviewText'].values # exclude text information\n",
        "\n",
        "#===Train the model\n",
        "model.fit(\n",
        "    x=[train_reviewerID, train_asin],\n",
        "    y=train_data['overall'],\n",
        "    epochs=50,\n",
        "    batch_size=64,\n",
        "    validation_split=0.2,\n",
        "    callbacks = [checkpointer, callback_custom, TensLog, CSVlog, reduce_lr]\n",
        ")"
      ],
      "metadata": {
        "id": "qACceDsZTwaW"
      },
      "execution_count": null,
      "outputs": []
    },
    {
      "cell_type": "markdown",
      "source": [
        "### Matrix Factorization model"
      ],
      "metadata": {
        "id": "QBiJ8G8d-BXa"
      }
    },
    {
      "cell_type": "code",
      "source": [
        "import tensorflow as tf\n",
        "import numpy as np\n",
        "\n",
        "tf.config.run_functions_eagerly(True)\n",
        "\n",
        "all_users = data_df['user_id'].unique()\n",
        "all_apps = data_df['Apps_id'].unique()\n",
        "\n",
        "##=============== Model ======================\n",
        "\n",
        "#users\n",
        "user_input = tf.keras.layers.Input(shape=(1,), name=\"user\")\n",
        "user_as_integer = tf.keras.layers.IntegerLookup(vocabulary=all_users, name=\"user_as_integer\")(user_input)\n",
        "user_embedding = tf.keras.layers.Embedding(input_dim=len(all_users) + 1, output_dim=32, name=\"user_embedding\")(user_as_integer)\n",
        "user_bias = tf.keras.layers.Embedding(input_dim=len(all_users) + 1, output_dim=1, name=\"user_bias\")(user_as_integer)\n",
        "\n",
        "#Apps embedding\n",
        "apps_input = tf.keras.layers.Input(shape=(1,), name=\"Apps\")\n",
        "apps_as_integer = tf.keras.layers.IntegerLookup(vocabulary=all_apps, name=\"apps_as_integer\")(apps_input)\n",
        "app_embedding = tf.keras.layers.Embedding(input_dim=len(all_apps) + 1, output_dim=32, name=\"app_embedding\")(apps_as_integer)\n",
        "app_bias = tf.keras.layers.Embedding(input_dim=len(all_apps) + 1, output_dim=1, name=\"app_bias\")(apps_as_integer)\n",
        "\n",
        "#matrix factorization implementation\n",
        "dot = tf.keras.layers.Dot(axes=2, name=\"dot_product\")([user_embedding, app_embedding])\n",
        "add = tf.keras.layers.Add(name=\"sum\")([dot, user_bias, app_bias])\n",
        "flatten = tf.keras.layers.Flatten(name=\"flatten\")(add)\n",
        "squash = tf.keras.layers.Lambda(lambda x: 4 * tf.nn.sigmoid(x) + 1, name=\"squash\")(flatten)\n",
        "\n",
        "model = tf.keras.Model(inputs=[user_input, apps_input], outputs=squash)\n",
        "\n",
        "model.compile(loss=\"mse\", metrics=[tf.keras.metrics.MeanAbsoluteError()])\n"
      ],
      "metadata": {
        "id": "NqLdb0T1-Blb"
      },
      "execution_count": 26,
      "outputs": []
    },
    {
      "cell_type": "code",
      "source": [
        "tf.keras.utils.plot_model(model, show_shapes=True)"
      ],
      "metadata": {
        "colab": {
          "base_uri": "https://localhost:8080/",
          "height": 551
        },
        "id": "2YrWWRwksE1B",
        "outputId": "5b3cfbb1-5861-4f46-b7c3-6ec004c3df13"
      },
      "execution_count": 38,
      "outputs": [
        {
          "output_type": "execute_result",
          "data": {
            "image/png": "[encoded data removed]",
            "text/plain": [
              "<IPython.core.display.Image object>"
            ]
          },
          "metadata": {},
          "execution_count": 38
        }
      ]
    },
    {
      "cell_type": "code",
      "source": [
        "\n",
        "from tensorflow.keras.callbacks import ReduceLROnPlateau, EarlyStopping, ModelCheckpoint, LearningRateScheduler, CSVLogger, TensorBoard\n",
        "import os\n",
        "\n",
        "#========callbacks function=====================================================\n",
        "#path_checkpoint = \"training_1/cp.ckpt\"\n",
        "#directory_checkpoint = os.path.dirname(path_checkpoint)\n",
        "\n",
        "checkpointer = ModelCheckpoint(\"Recommender_system.hdf5\", verbose=1, monitor='val_loss',\n",
        "                               mode='min', save_best_only=True)\n",
        "\n",
        "callback_custom = tf.keras.callbacks.EarlyStopping(monitor='val_loss', mode='min',\n",
        "                                                   verbose=1, patience=10, restore_best_weights=True)\n",
        "\n",
        "#==========learning_rate regulation during training=============================\n",
        "\n",
        "reduce_lr = ReduceLROnPlateau(monitor='val_loss',\n",
        "                              factor=0.1, patience=10, verbose=1,\n",
        "                              min_delta=1e-4, cooldown=2, min_lr=1e-6)\n",
        "\n",
        "#======Tensorboard visualization=========\n",
        "TensLog = TensorBoard(log_dir='./log_dir')\n",
        "\n",
        "#=====Callback that streams epoch results to a CSV file.\n",
        "csv_file = 'recoment_training.csv'\n",
        "CSVlog = CSVLogger(csv_file)"
      ],
      "metadata": {
        "id": "mfv548J5J0L6"
      },
      "execution_count": 32,
      "outputs": []
    },
    {
      "cell_type": "markdown",
      "source": [
        "#### **Train matrix factorization model**"
      ],
      "metadata": {
        "id": "4WESohCbOexN"
      }
    },
    {
      "cell_type": "code",
      "source": [
        "\n",
        "\n",
        "#y=train_data['overall']\n",
        "model.fit(\n",
        "    x={\"user\": train_data[\"user_id\"], \"Apps\": train_data['Apps_id']},\n",
        "    y=train_data['overall'].values,\n",
        "    batch_size=128,\n",
        "    epochs=50,\n",
        "    validation_split=0.2,\n",
        "    callbacks=[checkpointer, callback_custom, TensLog, CSVlog, reduce_lr],\n",
        ")\n"
      ],
      "metadata": {
        "id": "7GUryTl3Ob3M",
        "colab": {
          "base_uri": "https://localhost:8080/"
        },
        "outputId": "29c14b58-8e5d-4372-c124-5cc631514b5b"
      },
      "execution_count": 33,
      "outputs": [
        {
          "output_type": "stream",
          "name": "stdout",
          "text": [
            "Epoch 1/50\n",
            "2143/2144 [============================>.] - ETA: 0s - loss: 2.4707 - mean_absolute_error: 1.4249\n",
            "Epoch 1: val_loss improved from inf to 2.27883, saving model to Recommender_system.hdf5\n",
            "2144/2144 [==============================] - 102s 47ms/step - loss: 2.4706 - mean_absolute_error: 1.4249 - val_loss: 2.2788 - val_mean_absolute_error: 1.3594 - lr: 0.0010\n",
            "Epoch 2/50\n",
            "2144/2144 [==============================] - ETA: 0s - loss: 2.1305 - mean_absolute_error: 1.3011\n",
            "Epoch 2: val_loss improved from 2.27883 to 2.06417, saving model to Recommender_system.hdf5\n",
            "2144/2144 [==============================] - 97s 45ms/step - loss: 2.1305 - mean_absolute_error: 1.3011 - val_loss: 2.0642 - val_mean_absolute_error: 1.2693 - lr: 0.0010\n",
            "Epoch 3/50\n",
            "2143/2144 [============================>.] - ETA: 0s - loss: 1.9471 - mean_absolute_error: 1.2211\n",
            "Epoch 3: val_loss improved from 2.06417 to 1.94450, saving model to Recommender_system.hdf5\n",
            "2144/2144 [==============================] - 98s 46ms/step - loss: 1.9470 - mean_absolute_error: 1.2211 - val_loss: 1.9445 - val_mean_absolute_error: 1.2126 - lr: 0.0010\n",
            "Epoch 4/50\n",
            "2144/2144 [==============================] - ETA: 0s - loss: 1.8244 - mean_absolute_error: 1.1636\n",
            "Epoch 4: val_loss improved from 1.94450 to 1.86727, saving model to Recommender_system.hdf5\n",
            "2144/2144 [==============================] - 99s 46ms/step - loss: 1.8244 - mean_absolute_error: 1.1636 - val_loss: 1.8673 - val_mean_absolute_error: 1.1733 - lr: 0.0010\n",
            "Epoch 5/50\n",
            "2144/2144 [==============================] - ETA: 0s - loss: 1.7271 - mean_absolute_error: 1.1170\n",
            "Epoch 5: val_loss improved from 1.86727 to 1.81284, saving model to Recommender_system.hdf5\n",
            "2144/2144 [==============================] - 99s 46ms/step - loss: 1.7271 - mean_absolute_error: 1.1170 - val_loss: 1.8128 - val_mean_absolute_error: 1.1441 - lr: 0.0010\n",
            "Epoch 6/50\n",
            "2143/2144 [============================>.] - ETA: 0s - loss: 1.6393 - mean_absolute_error: 1.0748\n",
            "Epoch 6: val_loss improved from 1.81284 to 1.77215, saving model to Recommender_system.hdf5\n",
            "2144/2144 [==============================] - 102s 47ms/step - loss: 1.6394 - mean_absolute_error: 1.0748 - val_loss: 1.7722 - val_mean_absolute_error: 1.1217 - lr: 0.0010\n",
            "Epoch 7/50\n",
            "2144/2144 [==============================] - ETA: 0s - loss: 1.5538 - mean_absolute_error: 1.0340\n",
            "Epoch 7: val_loss improved from 1.77215 to 1.74073, saving model to Recommender_system.hdf5\n",
            "2144/2144 [==============================] - 98s 46ms/step - loss: 1.5538 - mean_absolute_error: 1.0340 - val_loss: 1.7407 - val_mean_absolute_error: 1.1042 - lr: 0.0010\n",
            "Epoch 8/50\n",
            "2143/2144 [============================>.] - ETA: 0s - loss: 1.4668 - mean_absolute_error: 0.9927\n",
            "Epoch 8: val_loss improved from 1.74073 to 1.71629, saving model to Recommender_system.hdf5\n",
            "2144/2144 [==============================] - 98s 46ms/step - loss: 1.4668 - mean_absolute_error: 0.9927 - val_loss: 1.7163 - val_mean_absolute_error: 1.0905 - lr: 0.0010\n",
            "Epoch 9/50\n",
            "2144/2144 [==============================] - ETA: 0s - loss: 1.3784 - mean_absolute_error: 0.9505\n",
            "Epoch 9: val_loss improved from 1.71629 to 1.69741, saving model to Recommender_system.hdf5\n",
            "2144/2144 [==============================] - 100s 47ms/step - loss: 1.3784 - mean_absolute_error: 0.9505 - val_loss: 1.6974 - val_mean_absolute_error: 1.0796 - lr: 0.0010\n",
            "Epoch 10/50\n",
            "2143/2144 [============================>.] - ETA: 0s - loss: 1.2895 - mean_absolute_error: 0.9073\n",
            "Epoch 10: val_loss improved from 1.69741 to 1.68320, saving model to Recommender_system.hdf5\n",
            "2144/2144 [==============================] - 100s 47ms/step - loss: 1.2895 - mean_absolute_error: 0.9073 - val_loss: 1.6832 - val_mean_absolute_error: 1.0708 - lr: 0.0010\n",
            "Epoch 11/50\n",
            "2143/2144 [============================>.] - ETA: 0s - loss: 1.2017 - mean_absolute_error: 0.8639\n",
            "Epoch 11: val_loss improved from 1.68320 to 1.67281, saving model to Recommender_system.hdf5\n",
            "2144/2144 [==============================] - 100s 47ms/step - loss: 1.2017 - mean_absolute_error: 0.8639 - val_loss: 1.6728 - val_mean_absolute_error: 1.0638 - lr: 0.0010\n",
            "Epoch 12/50\n",
            "2144/2144 [==============================] - ETA: 0s - loss: 1.1169 - mean_absolute_error: 0.8207\n",
            "Epoch 12: val_loss improved from 1.67281 to 1.66561, saving model to Recommender_system.hdf5\n",
            "2144/2144 [==============================] - 99s 46ms/step - loss: 1.1169 - mean_absolute_error: 0.8207 - val_loss: 1.6656 - val_mean_absolute_error: 1.0580 - lr: 0.0010\n",
            "Epoch 13/50\n",
            "2143/2144 [============================>.] - ETA: 0s - loss: 1.0354 - mean_absolute_error: 0.7783\n",
            "Epoch 13: val_loss improved from 1.66561 to 1.66127, saving model to Recommender_system.hdf5\n",
            "2144/2144 [==============================] - 98s 46ms/step - loss: 1.0353 - mean_absolute_error: 0.7783 - val_loss: 1.6613 - val_mean_absolute_error: 1.0533 - lr: 0.0010\n",
            "Epoch 14/50\n",
            "2144/2144 [==============================] - ETA: 0s - loss: 0.9580 - mean_absolute_error: 0.7372\n",
            "Epoch 14: val_loss improved from 1.66127 to 1.65920, saving model to Recommender_system.hdf5\n",
            "2144/2144 [==============================] - 97s 45ms/step - loss: 0.9580 - mean_absolute_error: 0.7372 - val_loss: 1.6592 - val_mean_absolute_error: 1.0494 - lr: 0.0010\n",
            "Epoch 15/50\n",
            "2144/2144 [==============================] - ETA: 0s - loss: 0.8852 - mean_absolute_error: 0.6975\n",
            "Epoch 15: val_loss improved from 1.65920 to 1.65915, saving model to Recommender_system.hdf5\n",
            "2144/2144 [==============================] - 100s 47ms/step - loss: 0.8852 - mean_absolute_error: 0.6975 - val_loss: 1.6591 - val_mean_absolute_error: 1.0462 - lr: 0.0010\n",
            "Epoch 16/50\n",
            "2144/2144 [==============================] - ETA: 0s - loss: 0.8166 - mean_absolute_error: 0.6595\n",
            "Epoch 16: val_loss did not improve from 1.65915\n",
            "2144/2144 [==============================] - 97s 45ms/step - loss: 0.8166 - mean_absolute_error: 0.6595 - val_loss: 1.6607 - val_mean_absolute_error: 1.0438 - lr: 0.0010\n",
            "Epoch 17/50\n",
            "2144/2144 [==============================] - ETA: 0s - loss: 0.7524 - mean_absolute_error: 0.6233\n",
            "Epoch 17: val_loss did not improve from 1.65915\n",
            "2144/2144 [==============================] - 97s 45ms/step - loss: 0.7524 - mean_absolute_error: 0.6233 - val_loss: 1.6637 - val_mean_absolute_error: 1.0418 - lr: 0.0010\n",
            "Epoch 18/50\n",
            "2144/2144 [==============================] - ETA: 0s - loss: 0.6927 - mean_absolute_error: 0.5887\n",
            "Epoch 18: val_loss did not improve from 1.65915\n",
            "2144/2144 [==============================] - 101s 47ms/step - loss: 0.6927 - mean_absolute_error: 0.5887 - val_loss: 1.6678 - val_mean_absolute_error: 1.0404 - lr: 0.0010\n",
            "Epoch 19/50\n",
            "2143/2144 [============================>.] - ETA: 0s - loss: 0.6371 - mean_absolute_error: 0.5560\n",
            "Epoch 19: val_loss did not improve from 1.65915\n",
            "2144/2144 [==============================] - 99s 46ms/step - loss: 0.6371 - mean_absolute_error: 0.5560 - val_loss: 1.6729 - val_mean_absolute_error: 1.0393 - lr: 0.0010\n",
            "Epoch 20/50\n",
            "2144/2144 [==============================] - ETA: 0s - loss: 0.5857 - mean_absolute_error: 0.5250\n",
            "Epoch 20: val_loss did not improve from 1.65915\n",
            "2144/2144 [==============================] - 97s 45ms/step - loss: 0.5857 - mean_absolute_error: 0.5250 - val_loss: 1.6784 - val_mean_absolute_error: 1.0384 - lr: 0.0010\n",
            "Epoch 21/50\n",
            "2143/2144 [============================>.] - ETA: 0s - loss: 0.5381 - mean_absolute_error: 0.4957\n",
            "Epoch 21: val_loss did not improve from 1.65915\n",
            "2144/2144 [==============================] - 100s 47ms/step - loss: 0.5381 - mean_absolute_error: 0.4957 - val_loss: 1.6849 - val_mean_absolute_error: 1.0379 - lr: 0.0010\n",
            "Epoch 22/50\n",
            "2144/2144 [==============================] - ETA: 0s - loss: 0.4942 - mean_absolute_error: 0.4682\n",
            "Epoch 22: val_loss did not improve from 1.65915\n",
            "2144/2144 [==============================] - 96s 45ms/step - loss: 0.4942 - mean_absolute_error: 0.4682 - val_loss: 1.6915 - val_mean_absolute_error: 1.0375 - lr: 0.0010\n",
            "Epoch 23/50\n",
            "2144/2144 [==============================] - ETA: 0s - loss: 0.4538 - mean_absolute_error: 0.4422\n",
            "Epoch 23: val_loss did not improve from 1.65915\n",
            "2144/2144 [==============================] - 100s 47ms/step - loss: 0.4538 - mean_absolute_error: 0.4422 - val_loss: 1.6985 - val_mean_absolute_error: 1.0373 - lr: 0.0010\n",
            "Epoch 24/50\n",
            "2144/2144 [==============================] - ETA: 0s - loss: 0.4167 - mean_absolute_error: 0.4178\n",
            "Epoch 24: val_loss did not improve from 1.65915\n",
            "\n",
            "Epoch 24: ReduceLROnPlateau reducing learning rate to 0.00010000000474974513.\n",
            "2144/2144 [==============================] - 97s 45ms/step - loss: 0.4167 - mean_absolute_error: 0.4178 - val_loss: 1.7058 - val_mean_absolute_error: 1.0374 - lr: 0.0010\n",
            "Epoch 25/50\n",
            "2143/2144 [============================>.] - ETA: 0s - loss: 0.3858 - mean_absolute_error: 0.3963\n",
            "Epoch 25: val_loss did not improve from 1.65915\n",
            "Restoring model weights from the end of the best epoch: 15.\n",
            "2144/2144 [==============================] - 100s 46ms/step - loss: 0.3858 - mean_absolute_error: 0.3963 - val_loss: 1.7065 - val_mean_absolute_error: 1.0374 - lr: 1.0000e-04\n",
            "Epoch 25: early stopping\n"
          ]
        },
        {
          "output_type": "execute_result",
          "data": {
            "text/plain": [
              "<keras.callbacks.History at 0x79c4cc8c5660>"
            ]
          },
          "metadata": {},
          "execution_count": 33
        }
      ]
    },
    {
      "cell_type": "code",
      "source": [
        "#!ls {directory_checkpoint}"
      ],
      "metadata": {
        "colab": {
          "base_uri": "https://localhost:8080/"
        },
        "id": "srPvYWOZdk72",
        "outputId": "ef158b7f-54ac-4ba7-d5ab-7bc73ad7a1e8"
      },
      "execution_count": null,
      "outputs": [
        {
          "output_type": "stream",
          "name": "stdout",
          "text": [
            "checkpoint  cp.ckpt.data-00000-of-00001  cp.ckpt.index\n"
          ]
        }
      ]
    },
    {
      "cell_type": "markdown",
      "source": [
        "### Evaluate trained Model"
      ],
      "metadata": {
        "id": "FNOo5B7ornW3"
      }
    },
    {
      "cell_type": "code",
      "source": [
        "model.evaluate(x={\"user\": test_data[\"user_id\"], \"Apps\": test_data[\"Apps_id\"]}, y=test_data[\"overall\"])"
      ],
      "metadata": {
        "colab": {
          "base_uri": "https://localhost:8080/"
        },
        "id": "nMBAQ7QlmkX9",
        "outputId": "5aca00b9-0495-4ec8-fc84-66d9ffa6387f"
      },
      "execution_count": 34,
      "outputs": [
        {
          "output_type": "stream",
          "name": "stdout",
          "text": [
            "2680/2680 [==============================] - 50s 19ms/step - loss: 1.6572 - mean_absolute_error: 1.0454\n"
          ]
        },
        {
          "output_type": "execute_result",
          "data": {
            "text/plain": [
              "[1.6571650505065918, 1.0454026460647583]"
            ]
          },
          "metadata": {},
          "execution_count": 34
        }
      ]
    },
    {
      "cell_type": "code",
      "source": [
        "import numpy as np\n",
        "from sklearn.metrics import mean_squared_error, mean_absolute_error, r2_score\n",
        "\n",
        "\n",
        "#load model\n",
        "model = tf.keras.models.load_model('Recommender_system.hdf5')\n",
        "#=== evaluate on test data\n",
        "#test_preds = []\n",
        "#for array in np.array_split(test_data[['user_id', 'Apps_id']].values, 40):\n",
        "\n",
        "    #test_preds += model.predict([array[:,0].to_list(), array[:,1].to_list()])\n",
        "#test_preds += model.predict({\"user\": array[:,0], \"Apps\": array[:,1]}, verbose=0)\n",
        "test_preds = model.predict({\"user\": test_data[\"user_id\"], \"Apps\": test_data[\"Apps_id\"]}, verbose=0)\n",
        "test_preds = np.array(test_preds)\n",
        "print(\"Mean Squared Error (MSE):\", mean_squared_error(test_data['overall'], test_preds))\n",
        "print(\"Root Mean Squared Error (RMSE):\", np.sqrt(mean_squared_error(test_data['overall'], test_preds)))\n",
        "print(\"Mean Absolute Error (MAE):\", mean_squared_error(test_data['overall'], test_preds))\n",
        "print(\"R-squared (R2) score:\", r2_score(test_data['overall'], test_preds))\n"
      ],
      "metadata": {
        "id": "ldAIu85DrttJ",
        "colab": {
          "base_uri": "https://localhost:8080/"
        },
        "outputId": "be67a4d4-8a33-4eac-a4bd-dd17e675aa50"
      },
      "execution_count": 38,
      "outputs": [
        {
          "output_type": "stream",
          "name": "stdout",
          "text": [
            "Mean Squared Error (MSE): 1.6571652392725031\n",
            "Root Mean Squared Error (RMSE): 1.2873093020997335\n",
            "Mean Absolute Error (MAE): 1.6571652392725031\n",
            "R-squared (R2) score: 0.11039594556407761\n"
          ]
        }
      ]
    },
    {
      "cell_type": "code",
      "source": [
        "##++++++++++ Evaluate ++++++++++++++\n",
        "\n",
        "# test_preds = []\n",
        "# for array in np.array_split(test_df[['user_id', 'Apps_id']].values, 40):\n",
        "#     test_preds += predictor.predict(json.dumps(json.dumps({'customer_id':array[:,0].to_list(),\n",
        "#                                                             'product_id': array[:,1].to_list()})))\n",
        "\n",
        "# test_preds - np.array(test_preds)\n",
        "# print('MSE', np.mean((test_df['start_ratings']-test_preds))**2)"
      ],
      "metadata": {
        "id": "QNqsVygqWKXw"
      },
      "execution_count": null,
      "outputs": []
    },
    {
      "cell_type": "markdown",
      "source": [
        "## Real-time prediction"
      ],
      "metadata": {
        "id": "-gx5nRbfXjrP"
      }
    },
    {
      "cell_type": "code",
      "source": [
        "\n",
        "def user_recommendation(user_id):\n",
        "    predictions_user = []\n",
        "    for array in np.array_split(data_df['Apps_id'].values, 40):\n",
        "        prediction_user += predictor.predict(json.dump({'customer_id': customer_index[customer_index['user']==8]\\\n",
        "                                                        .values.tolist()*array.shape[0],\n",
        "                                                        'product_id':array.tolist()}))\n",
        "\n",
        "    predictions = pd.DataFrame({'product_id':product_index['product_id'],\n",
        "                                'prediction':predictions})\n"
      ],
      "metadata": {
        "id": "Bq1z6cg1Xi5C"
      },
      "execution_count": null,
      "outputs": []
    },
    {
      "cell_type": "markdown",
      "source": [
        "## Recommendation based on likes or view"
      ],
      "metadata": {
        "id": "FskNB1-qcAO1"
      }
    },
    {
      "cell_type": "code",
      "source": [
        "## The input into cv i.e apps['tags'] must be a clean text data\n",
        "\n",
        "cv = CountVectorizer(max_features=5000, stop_words='english')\n",
        "vectors = cv.fit_transform(data_df['textinfo']).toarray()\n",
        "\n",
        "#vectors\n",
        "similarity = cosine_similarity(vectors)    # for similarity evaluation"
      ],
      "metadata": {
        "id": "MYI8fIK6bPpi"
      },
      "execution_count": null,
      "outputs": []
    },
    {
      "cell_type": "code",
      "source": [
        "##======= save model ===================\n",
        "pickle.dump(data_df.to_dict(), open('apps_dict.pkl', 'wb'))   #save_cleaned data\n",
        "pickle.dump(similarity, open('similarity.pkl', 'wb'))\n",
        "\n",
        "pickle.dump(model, open('Recommend_model.pkl', 'wb'))"
      ],
      "metadata": {
        "id": "PygJiWxTgsm3"
      },
      "execution_count": null,
      "outputs": []
    },
    {
      "cell_type": "code",
      "source": [
        "# Reccomendation Model evaluation function\n",
        "\n",
        "k_values = [5, 10, 15, 20]\n",
        "\n",
        "for k in k_values:\n",
        "  pre, re = precision_recall_at_k(model, test_data, k=k)\n",
        "  print('Proposed Reccomendation system Evaluation')\n",
        "  print(f'The average precision and average recall at {k} are {pre} and {re}, respectively')"
      ],
      "metadata": {
        "id": "qm6uwed74ofB"
      },
      "execution_count": null,
      "outputs": []
    },
    {
      "cell_type": "code",
      "source": [
        "#=========== Recommendation system =============================================\n",
        "\n",
        "def app_recommend(Apps_df, similarity, appID):\n",
        "  \"\"\"load save model\"\"\"\n",
        " # Apps_df = joblib.load('apps_dict.pkl')\n",
        " # similarity = joblib.load('similarity.pkl')\n",
        "\n",
        "  apps_index = Apps_df[Apps_df['asin'] == appID].index[0]\n",
        "  distances = similarity[apps_index]\n",
        "  apps_list = sorted(list(enumerate(distances)), reverse=True, key=lambda x:x[1])[1:6]\n",
        "\n",
        "  for i in apps_list:\n",
        "    print(Apps_df.iloc[i[0]].asin)"
      ],
      "metadata": {
        "id": "rxl2hUgZcRzU"
      },
      "execution_count": null,
      "outputs": []
    },
    {
      "cell_type": "code",
      "source": [
        "import numpy as np\n",
        "\n",
        "def Apps_recommendations(model, data, user_id, k=5):\n",
        "    \"\"\" Apps reccomendation based on users record\"\"\"\n",
        "\n",
        "    # Create sequences of apps descriptions for the user\n",
        "    user_apps_reviews = data.loc[data['reviewerID'] == user_id, 'tags']                ## data need to be changed \"tags\":apps reviews\n",
        "    #user_sequences = tokenizer.texts_to_sequences(user_apps_reviews)\n",
        "    user_padded_sequences = pad_sequences(user_sequences, maxlen=max_sequence_length)\n",
        "\n",
        "    # Prepare input data for the model\n",
        "    user_input = np.full_like(user_padded_sequences, user_id)                           #to ensure userID as the same numbers with other input\n",
        "    asin_input = data.loc[data['reviewerID'] == user_id, 'asin'].values                 #encoded apps ID\n",
        "\n",
        "    # Get apps ID and description indices with highest predicted ratings\n",
        "    predictions = model.predict([user_input, asin_input, user_padded_sequences]).flatten()  # input: userID, AppsID, tokenised & vectorised apps reviews\n",
        "    top_k_indices = np.argsort(predictions)[::-1][:k]\n",
        "\n",
        "    # Get the andriod Apps recommendation for the top-k recommendations\n",
        "    top_k_asins = data.loc[top_k_indices, 'asin'].values\n",
        "\n",
        "    asin_encoder = joblib.load('id_encoder.pkl')\n",
        "\n",
        "    top_k_AppsID = asin_encoder.inverse_transform(top_k_asins)\n",
        "\n",
        "    #top_k_movie_titles = data.loc[data['asin'].isin(top_k_asins), 'movie_title'].values\n",
        "\n",
        "    return top_k_AppsID\n",
        "\n",
        "# Example usage to get movie recommendations for user with ID 123\n",
        "#user_id = 123\n",
        "#recommendations = Apps_recommendations(model, user_id)\n",
        "#print(f\"Apps recommendations for user {user_id}:\")\n",
        "#print(recommendations)\n"
      ],
      "metadata": {
        "id": "DoetwhVXTcaO"
      },
      "execution_count": null,
      "outputs": []
    },
    {
      "cell_type": "markdown",
      "source": [
        "## Integrated Reccomendation Model based on User Records and current view/likes"
      ],
      "metadata": {
        "id": "uX4drYnir_MQ"
      }
    },
    {
      "cell_type": "code",
      "source": [
        "import joblib\n",
        "\n",
        "class Apps_Reccomendation_Model():\n",
        "  def __init__(self):\n",
        "    self.data = joblib.load('data_df.pkl')\n",
        "    self.model = joblib.load('Recommend_model.pkl')\n",
        "    self.Apps_df = joblib.load('apps_dict.pkl')\n",
        "    self.similarity = joblib.load('similarity.pkl')\n",
        "\n",
        "  def integral_recommend(self, userID: None, appID:None):\n",
        "    if userID is not None and appID is None:\n",
        "      print('Reccommended apps based on your previous record')\n",
        "      reccomend = Apps_recommendations(self.model, self.Apps_df, userID, k=5)\n",
        "      print(reccomend)\n",
        "\n",
        "    elif userID is None and appID is not None:\n",
        "      print('Reccommended items based on current view/likes:')\n",
        "      app_recommend(self.Apps_df, self.similarity, appID)\n",
        "\n",
        "    elif userID is not None and appID is not None:\n",
        "      print('Reccommended items based on current view/likes:')\n",
        "      app_recommend(self.Apps_df, self.similarity, appID)\n",
        "\n",
        "      print('Reccommended apps based on your previous download')\n",
        "      reccomend = Apps_recommendations(self.model, userID, k=5)\n",
        "      print(reccomend)\n",
        "    else:\n",
        "      print('provide your ID or view one of the apps')"
      ],
      "metadata": {
        "id": "gi6M8vV2sPp_"
      },
      "execution_count": null,
      "outputs": []
    },
    {
      "cell_type": "markdown",
      "source": [
        "## others (not needed)"
      ],
      "metadata": {
        "id": "gpwXmLKDlwwZ"
      }
    },
    {
      "cell_type": "code",
      "source": [
        "# Reccomendation Model evaluation\n",
        "\n",
        "def precision_recall_at_k(test_data, model, k=5):\n",
        "    precision_sum = 0\n",
        "    recall_sum = 0\n",
        "\n",
        "    for user_id in test_data['reviewerID'].unique():\n",
        "        user_apps = test_data[test_data['reviewerID'] == user_id]['asin'].values\n",
        "        user_predictions = Apps_recommendations(model, user_id, k=k)\n",
        "\n",
        "        # Calculate intersection (retrieved items that are relevant)\n",
        "        intersection = len(set(user_apps) & set(user_predictions))\n",
        "\n",
        "        # Calculate precision and recall for this user\n",
        "        precision = intersection / min(k, len(user_apps))\n",
        "        recall = intersection / len(user_apps)\n",
        "\n",
        "        precision_sum += precision\n",
        "        recall_sum += recall\n",
        "\n",
        "    # Calculate average precision and recall across all users\n",
        "    avg_precision = precision_sum / len(test_data['reviewerID'].unique())\n",
        "    avg_recall = recall_sum / len(test_data['reviewerID'].unique())\n",
        "\n",
        "    return avg_precision, avg_recall\n"
      ],
      "metadata": {
        "id": "51-6rnKa2lLJ"
      },
      "execution_count": null,
      "outputs": []
    },
    {
      "cell_type": "code",
      "source": [
        "# import numpy as np\n",
        "\n",
        "# def Apps_rec_MFB(model, data, user_id, k=5):\n",
        "#     \"\"\" Apps reccomendation based on users record\"\"\"\n",
        "\n",
        "#     # locate user uniq_ID\n",
        "#     user_uniq = data.loc[data['reviewerID'] == user_id, 'user']\n",
        "\n",
        "#     # Prepare input data for the model\n",
        "#     user_input = np.full_like(user_padded_sequences, user_id)\n",
        "\n",
        "#     #obtain app_uniq ID\n",
        "#     app_id = data.loc[data['reviewerID'] == user_id, 'app'].values\n",
        "\n",
        "#     # Get apps ID and description indices with highest predicted ratings\n",
        "#     predictions = model.predict([user_input, asin_input, user_padded_sequences]).flatten()\n",
        "#     top_k_indices = np.argsort(predictions)[::-1][:k]\n",
        "\n",
        "#     # Get the andriod Apps recommendation for the top-k recommendations\n",
        "#     top_k_asins = data.loc[top_k_indices, 'asin'].values\n",
        "#     top_k_ratings = data.loc[top_k_indices, 'asin'].values\n",
        "#     return top_k_AppsID\n"
      ],
      "metadata": {
        "id": "xatYU_poScQU"
      },
      "execution_count": null,
      "outputs": []
    },
    {
      "cell_type": "code",
      "source": [
        "#==== Flask for exposing the model to web server ================\n",
        "\n",
        "# @app.route('/predict', methods=['GET', 'POST'])\n",
        "#   def predict():\n",
        "#     model = Apps_Reccomendation_Model()\n",
        "#     if request.method == 'POST':\n",
        "#       input = request.json()\n",
        "#       result = model.integral_recommend(input)\n",
        "#       return jsonify(result)"
      ],
      "metadata": {
        "id": "MCQK0Qtw4rw8"
      },
      "execution_count": null,
      "outputs": []
    },
    {
      "cell_type": "code",
      "source": [],
      "metadata": {
        "id": "GfCuRovLl0De"
      },
      "execution_count": null,
      "outputs": []
    },
    {
      "cell_type": "code",
      "source": [
        "# def preprocess_text(text):\n",
        "#     # Lowercase\n",
        "#     text = text.lower()\n",
        "\n",
        "#     # Remove special characters\n",
        "#     text = re.sub(r\"[^a-zA-Z0-9]\", \" \", text)\n",
        "#     text = re.sub(r'(@|#)\\w+', '' , text)\n",
        "#     text = re.sub(\"[,.]\", \"\", text)\n",
        "#     text = re.sub(r'https?://\\S+', '' , text)\n",
        "#     text = re.sub(r'(\\?|!)+' , '', text)\n",
        "#     text = re.sub(r\"\\(|\\)\", \"\", text)\n",
        "#     text = re.sub(r'(^\\s+)' , '', text)\n",
        "#     text = re.sub(r'(\\s+$)' , '', text)\n",
        "#     text = re.sub(r'\\d+' , '', text)\n",
        "\n",
        "#     # Expand contractions\n",
        "#     tokens = text.split()\n",
        "#     tokens = [contractions.fix(token) for token in tokens]\n",
        "#     text = \" \".join(tokens)\n",
        "\n",
        "#     # Remove stopwords\n",
        "#     stop_words = set(stopwords.words(\"english\"))\n",
        "#     tokens = text.split()\n",
        "#     tokens = [token for token in tokens if token not in stop_words]\n",
        "#     text = \" \".join(tokens)\n",
        "\n",
        "#     # Perform stemming\n",
        "#     stemmer = PorterStemmer()\n",
        "#     tokens = text.split()\n",
        "#     tokens = [stemmer.stem(token) for token in tokens]\n",
        "#     text = \" \".join(tokens)\n",
        "\n",
        "#     # # Convert numeric values to text expressions\n",
        "#     # p = inflect.engine()\n",
        "#     # tokens = text.split()\n",
        "#     # tokens = [p.number_to_words(token) if token.isdigit() else token for token in tokens]\n",
        "#     # text = \" \".join(tokens)\n",
        "\n",
        "#     return text\n",
        "\n",
        "# def preprocess_text_parallel(text):\n",
        "#     return preprocess_text(text)\n",
        "\n",
        "# def re_preprocess_data(data, num_processes=None):\n",
        "#     if num_processes is None:\n",
        "#         num_processes = cpu_count()\n",
        "\n",
        "#     if isinstance(data, (str, np.ndarray)):\n",
        "#         return preprocess_text(data)\n",
        "\n",
        "#     elif isinstance(data, (list, pd.Series)):\n",
        "#         with Pool(processes=num_processes) as pool:\n",
        "#             preprocessed_data = pool.map(preprocess_text_parallel, data)\n",
        "#         return np.array(preprocessed_data)\n",
        "\n",
        "#     elif isinstance(data, pd.DataFrame):\n",
        "#         # Preprocess text columns in a DataFrame using parallel processing\n",
        "#         with Pool(processes=num_processes) as pool:\n",
        "#             func = partial(preprocess_text_parallel)\n",
        "#             preprocessed_data = pool.map(func, data.values.flatten())\n",
        "#             preprocessed_data = np.array(preprocessed_data).reshape(data.shape)\n",
        "#             preprocessed_data = pd.DataFrame(preprocessed_data, columns=data.columns)\n",
        "#         return preprocessed_data\n",
        "#     else:\n",
        "#         raise ValueError(\"Input data must be a string, column series, array, or a DataFrame.\")"
      ],
      "metadata": {
        "id": "fmX9EPmsGjGp"
      },
      "execution_count": null,
      "outputs": []
    },
    {
      "cell_type": "code",
      "source": [
        "# class MatrixFactorization(tf.keras.Model):\n",
        "#     def __init__(self, num_users, num_items, num_emb=10, dropout_rate=0.2):\n",
        "#         super(MatrixFactorization, self).__init__()\n",
        "#         self.num_users = num_users\n",
        "#         self.num_items = num_items\n",
        "#         self.num_emb = num_emb\n",
        "#         self.dropout_p = dropout_rate\n",
        "#         xavier_init = tf.keras.initializers.GlorotNormal()\n",
        "#         # user_input = tf.keras.layers.Input(shape=(1,), name=\"user\")\n",
        "#         # user_as_integer = tf.keras.layers.IntegerLookup(vocabulary=all_users)(user_input)\n",
        "\n",
        "\n",
        "#         self.user_embeddings = tf.keras.layers.Embedding(self.num_users, self.num_emb,\n",
        "#                                                          embeddings_initializer=xavier_init,\n",
        "#                                                          embeddings_regularizer=tf.keras.regularizers.l2(0.01))\n",
        "\n",
        "#         self.item_embeddings = tf.keras.layers.Embedding(self.num_items, self.num_emb,\n",
        "#                                                          embeddings_initializer=xavier_init,\n",
        "#                                                          embeddings_regularizer=tf.keras.regularizers.l2(0.01))\n",
        "#         self.dropout = tf.keras.layers.Dropout(rate=self.dropout_p)\n",
        "#         self.user_dense_layer = tf.keras.layers.Dense(units=self.num_emb, activation='relu')\n",
        "#         self.item_dense_layer = tf.keras.layers.Dense(units=self.num_emb, activation='relu')\n",
        "\n",
        "#     def call(self, inputs):\n",
        "#         user_ids, item_ids = inputs\n",
        "#         a = self.user_embeddings(user_ids)\n",
        "#         a = self.user_dense_layer(a)\n",
        "\n",
        "#         b = self.item_embeddings(item_ids)\n",
        "#         b = self.item_dense_layer(b)\n",
        "\n",
        "#         dot_product = tf.reduce_sum(tf.multiply(self.dropout(a), self.dropout(b)), axis=1)\n",
        "#         return dot_product\n",
        "# Create the model\n",
        "num_users = data_df['user_id'].shape[0]\n",
        "num_items = data_df['Apps_id'].shape[0]\n",
        "\n",
        "model = MatrixFactorization(num_users = num_users, num_items = num_items, num_emb=64, dropout_rate=0.5)\n",
        "\n",
        "# Compile the model\n",
        "model.compile(optimizer='adam', loss='mse', metrics=[tf.keras.metrics.MeanAbsoluteError()])"
      ],
      "metadata": {
        "id": "yJ7X3QnIkxm3"
      },
      "execution_count": null,
      "outputs": []
    },
    {
      "cell_type": "code",
      "source": [
        "# train_reviewerID = train_data['user_id'].values\n",
        "# train_asin = train_data['Apps_id'].values\n",
        "\n",
        "# #===Train the model\n",
        "# model.fit(\n",
        "#     x=[train_reviewerID, train_asin],\n",
        "#     y=train_data['overall'],\n",
        "#     epochs=50,\n",
        "#     batch_size=32,\n",
        "#     validation_split=0.2,\n",
        "#     callbacks = [checkpointer, callback_custom, TensLog, CSVlog, reduce_lr]\n",
        "# )\n",
        "\n",
        "\n",
        "# # Example prediction for user_id=5 and item_id=10\n",
        "# user_id = np.array([5])\n",
        "# item_id = np.array([10])\n",
        "# predicted_rating = model.predict([user_id, item_id])\n",
        "# print(\"Predicted rating for user_id 5 and item_id 10:\", predicted_rating[0])"
      ],
      "metadata": {
        "id": "wtqa897dlqmv"
      },
      "execution_count": null,
      "outputs": []
    },
    {
      "cell_type": "code",
      "source": [
        "##=== save the model architecture with the best weight==========\n",
        "My_model = MatrixFactorization(num_users = num_users, num_items = num_items,\n",
        "                               num_emb=64, dropout_rate=0.2)     #instantiate model\n",
        "\n",
        "My_model.load_weights(path_checkpoint)                                                                          # save integrated model with best weights\n",
        "\n",
        "\n",
        "#save the model into workspace\n",
        "!mkdir -p saved_model\n",
        "\n",
        "My_model.compile(optimizer='adam', loss='mse', metrics=[tf.keras.metrics.MeanAbsoluteError()])\n",
        "\n",
        "My_model.fit(\n",
        "    x=[train_reviewerID, train_asin],\n",
        "    y=train_data['overall'],\n",
        "    epochs=1,\n",
        "    batch_size=32,\n",
        "    validation_split=0.2\n",
        ")\n",
        "#model.fit(self.window.train, epochs=1,\n",
        "#          validation_data=self.window.val)\n",
        "\n",
        "#model.save('custom_model')\n",
        "My_model.save('saved_model/Rec_model')"
      ],
      "metadata": {
        "id": "0BVMMGXNnchK"
      },
      "execution_count": null,
      "outputs": []
    }
  ]
}